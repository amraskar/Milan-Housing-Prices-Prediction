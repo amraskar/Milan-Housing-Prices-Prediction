{
 "cells": [
  {
   "cell_type": "code",
   "execution_count": 160,
   "id": "initial_id",
   "metadata": {
    "collapsed": true,
    "ExecuteTime": {
     "end_time": "2023-10-31T15:12:20.799574500Z",
     "start_time": "2023-10-31T15:12:20.692825Z"
    }
   },
   "outputs": [],
   "source": [
    "import pandas as pd"
   ]
  },
  {
   "cell_type": "code",
   "execution_count": 161,
   "outputs": [
    {
     "data": {
      "text/plain": "  price_euro number_rooms area_m2 bathrooms floor_number  \\\n0  € 289,000            3   100m²         1            4   \n1  € 950,000        234m²       3         5          NaN   \n2  € 398,000            2    78m²         1            2   \n3  € 420,000            3    85m²         1            2   \n4  € 780,000            3    80m²         1            5   \n\n                                         description  \\\n0  Si propone in vendita in esclusiva un ampio ap...   \n1  A few steps from numerous neighborhood service...   \n2  RIF: Divina Servizi Immobiliari di Seregno, Pi...   \n3  Zona Crescenzago e più precisamente in Via Pri...   \n4  Ref: ST6 - Tempocasa in Via Bergamo 11 offers ...   \n\n    Reference and listing Date contract  \\\n0            CNB6 - 10/24/2023     Sale   \n1    LU.P5.R6_533 - 10/24/2023     Sale   \n2    EK-106888689 - 10/24/2023     Sale   \n3  CS- Vittorelli - 10/24/2023     Sale   \n4             ST6 - 10/24/2023     Sale   \n\n                                                type              surface  \\\n0  Apartment | Full ownership | Stately property ...  100 m² - See detail   \n1  Apartment | Full ownership | Stately property ...  234 m² - See detail   \n2  Apartment | Full ownership | Stately property ...   78 m² - See detail   \n3  Apartment | Full ownership | Stately property ...   85 m² - See detail   \n4  Apartment | Full ownership | Stately property ...   80 m² - See detail   \n\n   ... Reference Delegato alla vendita Curatore Geometra unit  \\\n0  ...       NaN                   NaN      NaN      NaN  NaN   \n1  ...       NaN                   NaN      NaN      NaN  NaN   \n2  ...       NaN                   NaN      NaN      NaN  NaN   \n3  ...       NaN                   NaN      NaN      NaN  NaN   \n4  ...       NaN                   NaN      NaN      NaN  NaN   \n\n  Construction start and expected delivery date   city  \\\n0                                           NaN  Milan   \n1                                           NaN  Milan   \n2                                           NaN  Milan   \n3                                           NaN  Milan   \n4                                           NaN  Milan   \n\n                    neighborhood                     street  \\\n0                         Baggio          Via Val Cannobina   \n1                    Ponte Nuovo            Via del Ricordo   \n2              Argonne - Corsica                  Via Druso   \n3                    Crescenzago      Via Jacopo Vittorelli   \n4  Porta Romana - Medaglie d'Oro  Via Gerolamo Tiraboschi 6   \n\n                                                URL  \n0  https://www.immobiliare.it/en/annunci/106903681/  \n1  https://www.immobiliare.it/en/annunci/106886279/  \n2  https://www.immobiliare.it/en/annunci/106888689/  \n3  https://www.immobiliare.it/en/annunci/106892137/  \n4  https://www.immobiliare.it/en/annunci/106889543/  \n\n[5 rows x 69 columns]",
      "text/html": "<div>\n<style scoped>\n    .dataframe tbody tr th:only-of-type {\n        vertical-align: middle;\n    }\n\n    .dataframe tbody tr th {\n        vertical-align: top;\n    }\n\n    .dataframe thead th {\n        text-align: right;\n    }\n</style>\n<table border=\"1\" class=\"dataframe\">\n  <thead>\n    <tr style=\"text-align: right;\">\n      <th></th>\n      <th>price_euro</th>\n      <th>number_rooms</th>\n      <th>area_m2</th>\n      <th>bathrooms</th>\n      <th>floor_number</th>\n      <th>description</th>\n      <th>Reference and listing Date</th>\n      <th>contract</th>\n      <th>type</th>\n      <th>surface</th>\n      <th>...</th>\n      <th>Reference</th>\n      <th>Delegato alla vendita</th>\n      <th>Curatore</th>\n      <th>Geometra</th>\n      <th>unit</th>\n      <th>Construction start and expected delivery date</th>\n      <th>city</th>\n      <th>neighborhood</th>\n      <th>street</th>\n      <th>URL</th>\n    </tr>\n  </thead>\n  <tbody>\n    <tr>\n      <th>0</th>\n      <td>€ 289,000</td>\n      <td>3</td>\n      <td>100m²</td>\n      <td>1</td>\n      <td>4</td>\n      <td>Si propone in vendita in esclusiva un ampio ap...</td>\n      <td>CNB6 - 10/24/2023</td>\n      <td>Sale</td>\n      <td>Apartment | Full ownership | Stately property ...</td>\n      <td>100 m² - See detail</td>\n      <td>...</td>\n      <td>NaN</td>\n      <td>NaN</td>\n      <td>NaN</td>\n      <td>NaN</td>\n      <td>NaN</td>\n      <td>NaN</td>\n      <td>Milan</td>\n      <td>Baggio</td>\n      <td>Via Val Cannobina</td>\n      <td>https://www.immobiliare.it/en/annunci/106903681/</td>\n    </tr>\n    <tr>\n      <th>1</th>\n      <td>€ 950,000</td>\n      <td>234m²</td>\n      <td>3</td>\n      <td>5</td>\n      <td>NaN</td>\n      <td>A few steps from numerous neighborhood service...</td>\n      <td>LU.P5.R6_533 - 10/24/2023</td>\n      <td>Sale</td>\n      <td>Apartment | Full ownership | Stately property ...</td>\n      <td>234 m² - See detail</td>\n      <td>...</td>\n      <td>NaN</td>\n      <td>NaN</td>\n      <td>NaN</td>\n      <td>NaN</td>\n      <td>NaN</td>\n      <td>NaN</td>\n      <td>Milan</td>\n      <td>Ponte Nuovo</td>\n      <td>Via del Ricordo</td>\n      <td>https://www.immobiliare.it/en/annunci/106886279/</td>\n    </tr>\n    <tr>\n      <th>2</th>\n      <td>€ 398,000</td>\n      <td>2</td>\n      <td>78m²</td>\n      <td>1</td>\n      <td>2</td>\n      <td>RIF: Divina Servizi Immobiliari di Seregno, Pi...</td>\n      <td>EK-106888689 - 10/24/2023</td>\n      <td>Sale</td>\n      <td>Apartment | Full ownership | Stately property ...</td>\n      <td>78 m² - See detail</td>\n      <td>...</td>\n      <td>NaN</td>\n      <td>NaN</td>\n      <td>NaN</td>\n      <td>NaN</td>\n      <td>NaN</td>\n      <td>NaN</td>\n      <td>Milan</td>\n      <td>Argonne - Corsica</td>\n      <td>Via Druso</td>\n      <td>https://www.immobiliare.it/en/annunci/106888689/</td>\n    </tr>\n    <tr>\n      <th>3</th>\n      <td>€ 420,000</td>\n      <td>3</td>\n      <td>85m²</td>\n      <td>1</td>\n      <td>2</td>\n      <td>Zona Crescenzago e più precisamente in Via Pri...</td>\n      <td>CS- Vittorelli - 10/24/2023</td>\n      <td>Sale</td>\n      <td>Apartment | Full ownership | Stately property ...</td>\n      <td>85 m² - See detail</td>\n      <td>...</td>\n      <td>NaN</td>\n      <td>NaN</td>\n      <td>NaN</td>\n      <td>NaN</td>\n      <td>NaN</td>\n      <td>NaN</td>\n      <td>Milan</td>\n      <td>Crescenzago</td>\n      <td>Via Jacopo Vittorelli</td>\n      <td>https://www.immobiliare.it/en/annunci/106892137/</td>\n    </tr>\n    <tr>\n      <th>4</th>\n      <td>€ 780,000</td>\n      <td>3</td>\n      <td>80m²</td>\n      <td>1</td>\n      <td>5</td>\n      <td>Ref: ST6 - Tempocasa in Via Bergamo 11 offers ...</td>\n      <td>ST6 - 10/24/2023</td>\n      <td>Sale</td>\n      <td>Apartment | Full ownership | Stately property ...</td>\n      <td>80 m² - See detail</td>\n      <td>...</td>\n      <td>NaN</td>\n      <td>NaN</td>\n      <td>NaN</td>\n      <td>NaN</td>\n      <td>NaN</td>\n      <td>NaN</td>\n      <td>Milan</td>\n      <td>Porta Romana - Medaglie d'Oro</td>\n      <td>Via Gerolamo Tiraboschi 6</td>\n      <td>https://www.immobiliare.it/en/annunci/106889543/</td>\n    </tr>\n  </tbody>\n</table>\n<p>5 rows × 69 columns</p>\n</div>"
     },
     "execution_count": 161,
     "metadata": {},
     "output_type": "execute_result"
    }
   ],
   "source": [
    "# Load raw data\n",
    "df = pd.read_csv('milano_house_prices_raw_data_.csv', index_col=0)\n",
    "df.head()"
   ],
   "metadata": {
    "collapsed": false,
    "ExecuteTime": {
     "end_time": "2023-10-31T15:12:20.935393200Z",
     "start_time": "2023-10-31T15:12:20.696575400Z"
    }
   },
   "id": "f826bbf4aaa4e210"
  },
  {
   "cell_type": "code",
   "execution_count": 162,
   "outputs": [
    {
     "name": "stdout",
     "output_type": "stream",
     "text": [
      "<class 'pandas.core.frame.DataFrame'>\n",
      "Index: 2000 entries, 0 to 1999\n",
      "Data columns (total 69 columns):\n",
      " #   Column                                         Non-Null Count  Dtype  \n",
      "---  ------                                         --------------  -----  \n",
      " 0   price_euro                                     2000 non-null   object \n",
      " 1   number_rooms                                   2000 non-null   object \n",
      " 2   area_m2                                        1978 non-null   object \n",
      " 3   bathrooms                                      1861 non-null   object \n",
      " 4   floor_number                                   1643 non-null   object \n",
      " 5   description                                    1998 non-null   object \n",
      " 6   Reference and listing Date                     1997 non-null   object \n",
      " 7   contract                                       2000 non-null   object \n",
      " 8   type                                           2000 non-null   object \n",
      " 9   surface                                        1989 non-null   object \n",
      " 10  rooms                                          1955 non-null   object \n",
      " 11  floor                                          1826 non-null   object \n",
      " 12  total building floors                          1749 non-null   object \n",
      " 13  Car parking                                    365 non-null    object \n",
      " 14  availability                                   1429 non-null   object \n",
      " 15  other features                                 1898 non-null   object \n",
      " 16  price                                          1681 non-null   object \n",
      " 17  condominium fees                               1428 non-null   object \n",
      " 18  deposit                                        1681 non-null   object \n",
      " 19  year of construction                           1433 non-null   float64\n",
      " 20  condition                                      1853 non-null   object \n",
      " 21  heating                                        1772 non-null   object \n",
      " 22  Air conditioner                                1070 non-null   object \n",
      " 23  Energy Efficiency                              1662 non-null   object \n",
      " 24  Energy performance of the building             205 non-null    object \n",
      " 25  energy certification                           356 non-null    object \n",
      " 26  Renewable Energy Performance Index             98 non-null     object \n",
      " 27  Current building use                           4 non-null      object \n",
      " 28  Cadastral data                                 78 non-null     object \n",
      " 29  Sale type                                      120 non-null    object \n",
      " 30  sale date                                      128 non-null    object \n",
      " 31  minimum offer                                  159 non-null    object \n",
      " 32  Security deposit                               46 non-null     object \n",
      " 33  minimum increase                               59 non-null     object \n",
      " 34  Minimum increase in case of a tender           45 non-null     object \n",
      " 35  Reason for exemption                           27 non-null     object \n",
      " 36  Spend book debt                                315 non-null    object \n",
      " 37  Undue contribution                             315 non-null    object \n",
      " 38  sale location                                  48 non-null     object \n",
      " 39  Place of presentation                          37 non-null     object \n",
      " 40  submission deadline                            56 non-null     object \n",
      " 41  notes                                          26 non-null     object \n",
      " 42  Lot number                                     81 non-null     object \n",
      " 43  number of properties                           315 non-null    float64\n",
      " 44  category                                       68 non-null     object \n",
      " 45  updated on                                     315 non-null    object \n",
      " 46  auction register                               38 non-null     object \n",
      " 47  procedure number                               61 non-null     object \n",
      " 48  Procedure                                      55 non-null     object \n",
      " 49  Court                                          111 non-null    object \n",
      " 50  Other cadastral data                           42 non-null     object \n",
      " 51  Expense account deposit                        30 non-null     object \n",
      " 52  value appraisal                                34 non-null     object \n",
      " 53  Referent                                       26 non-null     object \n",
      " 54  Deposit and spending                           22 non-null     float64\n",
      " 55  Rite                                           25 non-null     float64\n",
      " 56  Delegato                                       7 non-null      object \n",
      " 57  Giudice                                        11 non-null     object \n",
      " 58  Custode                                        11 non-null     object \n",
      " 59  Reference                                      3 non-null      object \n",
      " 60  Delegato alla vendita                          4 non-null      object \n",
      " 61  Curatore                                       4 non-null      object \n",
      " 62  Geometra                                       4 non-null      object \n",
      " 63  unit                                           4 non-null      object \n",
      " 64  Construction start and expected delivery date  4 non-null      object \n",
      " 65  city                                           2000 non-null   object \n",
      " 66  neighborhood                                   2000 non-null   object \n",
      " 67  street                                         1877 non-null   object \n",
      " 68  URL                                            2000 non-null   object \n",
      "dtypes: float64(4), object(65)\n",
      "memory usage: 1.1+ MB\n"
     ]
    }
   ],
   "source": [
    "df.info()"
   ],
   "metadata": {
    "collapsed": false,
    "ExecuteTime": {
     "end_time": "2023-10-31T15:12:20.935393200Z",
     "start_time": "2023-10-31T15:12:20.762797800Z"
    }
   },
   "id": "bbb69a9270f2a26f"
  },
  {
   "cell_type": "code",
   "execution_count": 163,
   "outputs": [
    {
     "data": {
      "text/plain": "['Car parking',\n 'Energy performance of the building',\n 'energy certification',\n 'Renewable Energy Performance Index',\n 'Current building use',\n 'Cadastral data',\n 'Sale type',\n 'sale date',\n 'minimum offer',\n 'Security deposit',\n 'minimum increase',\n 'Minimum increase in case of a tender',\n 'Reason for exemption',\n 'Spend book debt',\n 'Undue contribution',\n 'sale location',\n 'Place of presentation',\n 'submission deadline',\n 'notes',\n 'Lot number',\n 'number of properties',\n 'category',\n 'updated on',\n 'auction register',\n 'procedure number',\n 'Procedure',\n 'Court',\n 'Other cadastral data',\n 'Expense account deposit',\n 'value appraisal',\n 'Referent',\n 'Deposit and spending',\n 'Rite',\n 'Delegato',\n 'Giudice',\n 'Custode',\n 'Reference',\n 'Delegato alla vendita',\n 'Curatore',\n 'Geometra',\n 'unit',\n 'Construction start and expected delivery date']"
     },
     "execution_count": 163,
     "metadata": {},
     "output_type": "execute_result"
    }
   ],
   "source": [
    "# Removing columns with null values > half the length of dataframe\n",
    "columns_to_drop = [column for column in df.columns if df[column].isnull().sum() > df.shape[0] / 2]\n",
    "columns_to_drop"
   ],
   "metadata": {
    "collapsed": false,
    "ExecuteTime": {
     "end_time": "2023-10-31T15:12:20.935393200Z",
     "start_time": "2023-10-31T15:12:20.776032800Z"
    }
   },
   "id": "9ebb81eb5e9a3bfd"
  },
  {
   "cell_type": "code",
   "execution_count": 164,
   "outputs": [],
   "source": [
    "df.drop(columns_to_drop, axis=1, inplace=True)"
   ],
   "metadata": {
    "collapsed": false,
    "ExecuteTime": {
     "end_time": "2023-10-31T15:12:20.935393200Z",
     "start_time": "2023-10-31T15:12:20.791731300Z"
    }
   },
   "id": "e7a43ab1c252e991"
  },
  {
   "cell_type": "code",
   "execution_count": 165,
   "outputs": [
    {
     "name": "stdout",
     "output_type": "stream",
     "text": [
      "<class 'pandas.core.frame.DataFrame'>\n",
      "Index: 2000 entries, 0 to 1999\n",
      "Data columns (total 27 columns):\n",
      " #   Column                      Non-Null Count  Dtype  \n",
      "---  ------                      --------------  -----  \n",
      " 0   price_euro                  2000 non-null   object \n",
      " 1   number_rooms                2000 non-null   object \n",
      " 2   area_m2                     1978 non-null   object \n",
      " 3   bathrooms                   1861 non-null   object \n",
      " 4   floor_number                1643 non-null   object \n",
      " 5   description                 1998 non-null   object \n",
      " 6   Reference and listing Date  1997 non-null   object \n",
      " 7   contract                    2000 non-null   object \n",
      " 8   type                        2000 non-null   object \n",
      " 9   surface                     1989 non-null   object \n",
      " 10  rooms                       1955 non-null   object \n",
      " 11  floor                       1826 non-null   object \n",
      " 12  total building floors       1749 non-null   object \n",
      " 13  availability                1429 non-null   object \n",
      " 14  other features              1898 non-null   object \n",
      " 15  price                       1681 non-null   object \n",
      " 16  condominium fees            1428 non-null   object \n",
      " 17  deposit                     1681 non-null   object \n",
      " 18  year of construction        1433 non-null   float64\n",
      " 19  condition                   1853 non-null   object \n",
      " 20  heating                     1772 non-null   object \n",
      " 21  Air conditioner             1070 non-null   object \n",
      " 22  Energy Efficiency           1662 non-null   object \n",
      " 23  city                        2000 non-null   object \n",
      " 24  neighborhood                2000 non-null   object \n",
      " 25  street                      1877 non-null   object \n",
      " 26  URL                         2000 non-null   object \n",
      "dtypes: float64(1), object(26)\n",
      "memory usage: 437.5+ KB\n"
     ]
    }
   ],
   "source": [
    "df.info()"
   ],
   "metadata": {
    "collapsed": false,
    "ExecuteTime": {
     "end_time": "2023-10-31T15:12:20.941901600Z",
     "start_time": "2023-10-31T15:12:20.799574500Z"
    }
   },
   "id": "221d95225a2018a1"
  },
  {
   "cell_type": "code",
   "execution_count": 166,
   "outputs": [
    {
     "data": {
      "text/plain": "     price_euro number_rooms area_m2 bathrooms floor_number  \\\n0     € 289,000            3   100m²         1            4   \n1     € 950,000        234m²       3         5          NaN   \n2     € 398,000            2    78m²         1            2   \n3     € 420,000            3    85m²         1            2   \n4     € 780,000            3    80m²         1            5   \n...         ...          ...     ...       ...          ...   \n1995  € 160,000            2    54m²         1            G   \n1996  € 214,000            2    70m²         1          NaN   \n1997  € 299,000            2    50m²         1            5   \n1998  € 450,000            3    94m²         1            2   \n1999  € 170,000            1    57m²         1          NaN   \n\n                                            description  \\\n0     Si propone in vendita in esclusiva un ampio ap...   \n1     A few steps from numerous neighborhood service...   \n2     RIF: Divina Servizi Immobiliari di Seregno, Pi...   \n3     Zona Crescenzago e più precisamente in Via Pri...   \n4     Ref: ST6 - Tempocasa in Via Bergamo 11 offers ...   \n...                                                 ...   \n1995  via carolina invernizio - in a 90s building, w...   \n1996  via carolina invernizio - in stabile anni 90, ...   \n1997  ARE YOU LOOKING FOR A PERFECT TWO-ROOM APARTME...   \n1998  Rif: GG42 - INTERNO: la soluzione proposta è u...   \n1999  via carolina invernizio - in stabile anni 90, ...   \n\n       Reference and listing Date                  contract  \\\n0               CNB6 - 10/24/2023                      Sale   \n1       LU.P5.R6_533 - 10/24/2023                      Sale   \n2       EK-106888689 - 10/24/2023                      Sale   \n3     CS- Vittorelli - 10/24/2023                      Sale   \n4                ST6 - 10/24/2023                      Sale   \n...                           ...                       ...   \n1995  160 INVERNIZIO - 10/14/2023  Sale - Download brochure   \n1996  214 INVERNIZIO - 10/14/2023  Sale - Download brochure   \n1997       sabotino7 - 10/14/2023                      Sale   \n1998            GG42 - 10/14/2023                      Sale   \n1999  170 INVERNIZIO - 10/14/2023  Sale - Download brochure   \n\n                                                   type              surface  \\\n0     Apartment | Full ownership | Stately property ...  100 m² - See detail   \n1     Apartment | Full ownership | Stately property ...  234 m² - See detail   \n2     Apartment | Full ownership | Stately property ...   78 m² - See detail   \n3     Apartment | Full ownership | Stately property ...   85 m² - See detail   \n4     Apartment | Full ownership | Stately property ...   80 m² - See detail   \n...                                                 ...                  ...   \n1995  Apartment | Full ownership | Medium property c...   54 m² - See detail   \n1996  Apartment | Full ownership | Medium property c...   70 m² - See detail   \n1997  Apartment | Full ownership | Stately property ...   50 m² - See detail   \n1998  Apartment | Full ownership | Medium property c...   94 m² - See detail   \n1999  Apartment | Full ownership | Medium property c...   57 m² - See detail   \n\n      ...        deposit year of construction                  condition  \\\n0     ...  Not indicated               1970.0  Good condition / Liveable   \n1     ...  Not indicated               1995.0    Excellent / Refurbished   \n2     ...  Not indicated               1957.0  Good condition / Liveable   \n3     ...  Not indicated               2014.0    Excellent / Refurbished   \n4     ...  Not indicated               1906.0    Excellent / Refurbished   \n...   ...            ...                  ...                        ...   \n1995  ...  Not indicated               1990.0   New / Under construction   \n1996  ...  Not indicated               1990.0   New / Under construction   \n1997  ...  Not indicated               1940.0  Good condition / Liveable   \n1998  ...  Not indicated               1950.0          To be refurbished   \n1999  ...  Not indicated               1990.0   New / Under construction   \n\n                                              heating        Air conditioner  \\\n0         Central, with radiators, powered by methane          Central, cold   \n1            Independent, with radiators, gas powered      Independent, cold   \n2                Central, with radiators, gas powered                    NaN   \n3                 Central, floor heating, gas powered  System predisposition   \n4     Independent, with radiators, powered by methane      Independent, cold   \n...                                               ...                    ...   \n1995   Independent, air heating, powered by heat pump  Independent, cold/hot   \n1996   Independent, air heating, powered by heat pump  Independent, cold/hot   \n1997                          Central, with radiators                    NaN   \n1998       Central, floor heating, powered by methane                    NaN   \n1999   Independent, air heating, powered by heat pump  Independent, cold/hot   \n\n         Energy Efficiency   city                   neighborhood  \\\n0       F≥ 175 kWh/m² year  Milan                         Baggio   \n1         E120 kWh/m² year  Milan                    Ponte Nuovo   \n2       F232.6 kWh/m² year  Milan              Argonne - Corsica   \n3     A1≥ 3,51 kWh/m² year  Milan                    Crescenzago   \n4         E109 kWh/m² year  Milan  Porta Romana - Medaglie d'Oro   \n...                    ...    ...                            ...   \n1995    F≥ 175 kWh/m² year  Milan                         Vialba   \n1996    F≥ 175 kWh/m² year  Milan                         Vialba   \n1997    F≥ 175 kWh/m² year  Milan  Porta Romana - Medaglie d'Oro   \n1998   F220.35 kWh/m² year  Milan                       Centrale   \n1999    F≥ 175 kWh/m² year  Milan                         Vialba   \n\n                         street  \\\n0             Via Val Cannobina   \n1               Via del Ricordo   \n2                     Via Druso   \n3         Via Jacopo Vittorelli   \n4     Via Gerolamo Tiraboschi 6   \n...                         ...   \n1995    Via Carolina Invernizio   \n1996    Via Carolina Invernizio   \n1997             Viale Sabotino   \n1998           Via Ponte Seveso   \n1999    Via Carolina Invernizio   \n\n                                                   URL  \n0     https://www.immobiliare.it/en/annunci/106903681/  \n1     https://www.immobiliare.it/en/annunci/106886279/  \n2     https://www.immobiliare.it/en/annunci/106888689/  \n3     https://www.immobiliare.it/en/annunci/106892137/  \n4     https://www.immobiliare.it/en/annunci/106889543/  \n...                                                ...  \n1995  https://www.immobiliare.it/en/annunci/106660639/  \n1996  https://www.immobiliare.it/en/annunci/106660615/  \n1997  https://www.immobiliare.it/en/annunci/106656557/  \n1998  https://www.immobiliare.it/en/annunci/106654875/  \n1999  https://www.immobiliare.it/en/annunci/106660603/  \n\n[2000 rows x 27 columns]",
      "text/html": "<div>\n<style scoped>\n    .dataframe tbody tr th:only-of-type {\n        vertical-align: middle;\n    }\n\n    .dataframe tbody tr th {\n        vertical-align: top;\n    }\n\n    .dataframe thead th {\n        text-align: right;\n    }\n</style>\n<table border=\"1\" class=\"dataframe\">\n  <thead>\n    <tr style=\"text-align: right;\">\n      <th></th>\n      <th>price_euro</th>\n      <th>number_rooms</th>\n      <th>area_m2</th>\n      <th>bathrooms</th>\n      <th>floor_number</th>\n      <th>description</th>\n      <th>Reference and listing Date</th>\n      <th>contract</th>\n      <th>type</th>\n      <th>surface</th>\n      <th>...</th>\n      <th>deposit</th>\n      <th>year of construction</th>\n      <th>condition</th>\n      <th>heating</th>\n      <th>Air conditioner</th>\n      <th>Energy Efficiency</th>\n      <th>city</th>\n      <th>neighborhood</th>\n      <th>street</th>\n      <th>URL</th>\n    </tr>\n  </thead>\n  <tbody>\n    <tr>\n      <th>0</th>\n      <td>€ 289,000</td>\n      <td>3</td>\n      <td>100m²</td>\n      <td>1</td>\n      <td>4</td>\n      <td>Si propone in vendita in esclusiva un ampio ap...</td>\n      <td>CNB6 - 10/24/2023</td>\n      <td>Sale</td>\n      <td>Apartment | Full ownership | Stately property ...</td>\n      <td>100 m² - See detail</td>\n      <td>...</td>\n      <td>Not indicated</td>\n      <td>1970.0</td>\n      <td>Good condition / Liveable</td>\n      <td>Central, with radiators, powered by methane</td>\n      <td>Central, cold</td>\n      <td>F≥ 175 kWh/m² year</td>\n      <td>Milan</td>\n      <td>Baggio</td>\n      <td>Via Val Cannobina</td>\n      <td>https://www.immobiliare.it/en/annunci/106903681/</td>\n    </tr>\n    <tr>\n      <th>1</th>\n      <td>€ 950,000</td>\n      <td>234m²</td>\n      <td>3</td>\n      <td>5</td>\n      <td>NaN</td>\n      <td>A few steps from numerous neighborhood service...</td>\n      <td>LU.P5.R6_533 - 10/24/2023</td>\n      <td>Sale</td>\n      <td>Apartment | Full ownership | Stately property ...</td>\n      <td>234 m² - See detail</td>\n      <td>...</td>\n      <td>Not indicated</td>\n      <td>1995.0</td>\n      <td>Excellent / Refurbished</td>\n      <td>Independent, with radiators, gas powered</td>\n      <td>Independent, cold</td>\n      <td>E120 kWh/m² year</td>\n      <td>Milan</td>\n      <td>Ponte Nuovo</td>\n      <td>Via del Ricordo</td>\n      <td>https://www.immobiliare.it/en/annunci/106886279/</td>\n    </tr>\n    <tr>\n      <th>2</th>\n      <td>€ 398,000</td>\n      <td>2</td>\n      <td>78m²</td>\n      <td>1</td>\n      <td>2</td>\n      <td>RIF: Divina Servizi Immobiliari di Seregno, Pi...</td>\n      <td>EK-106888689 - 10/24/2023</td>\n      <td>Sale</td>\n      <td>Apartment | Full ownership | Stately property ...</td>\n      <td>78 m² - See detail</td>\n      <td>...</td>\n      <td>Not indicated</td>\n      <td>1957.0</td>\n      <td>Good condition / Liveable</td>\n      <td>Central, with radiators, gas powered</td>\n      <td>NaN</td>\n      <td>F232.6 kWh/m² year</td>\n      <td>Milan</td>\n      <td>Argonne - Corsica</td>\n      <td>Via Druso</td>\n      <td>https://www.immobiliare.it/en/annunci/106888689/</td>\n    </tr>\n    <tr>\n      <th>3</th>\n      <td>€ 420,000</td>\n      <td>3</td>\n      <td>85m²</td>\n      <td>1</td>\n      <td>2</td>\n      <td>Zona Crescenzago e più precisamente in Via Pri...</td>\n      <td>CS- Vittorelli - 10/24/2023</td>\n      <td>Sale</td>\n      <td>Apartment | Full ownership | Stately property ...</td>\n      <td>85 m² - See detail</td>\n      <td>...</td>\n      <td>Not indicated</td>\n      <td>2014.0</td>\n      <td>Excellent / Refurbished</td>\n      <td>Central, floor heating, gas powered</td>\n      <td>System predisposition</td>\n      <td>A1≥ 3,51 kWh/m² year</td>\n      <td>Milan</td>\n      <td>Crescenzago</td>\n      <td>Via Jacopo Vittorelli</td>\n      <td>https://www.immobiliare.it/en/annunci/106892137/</td>\n    </tr>\n    <tr>\n      <th>4</th>\n      <td>€ 780,000</td>\n      <td>3</td>\n      <td>80m²</td>\n      <td>1</td>\n      <td>5</td>\n      <td>Ref: ST6 - Tempocasa in Via Bergamo 11 offers ...</td>\n      <td>ST6 - 10/24/2023</td>\n      <td>Sale</td>\n      <td>Apartment | Full ownership | Stately property ...</td>\n      <td>80 m² - See detail</td>\n      <td>...</td>\n      <td>Not indicated</td>\n      <td>1906.0</td>\n      <td>Excellent / Refurbished</td>\n      <td>Independent, with radiators, powered by methane</td>\n      <td>Independent, cold</td>\n      <td>E109 kWh/m² year</td>\n      <td>Milan</td>\n      <td>Porta Romana - Medaglie d'Oro</td>\n      <td>Via Gerolamo Tiraboschi 6</td>\n      <td>https://www.immobiliare.it/en/annunci/106889543/</td>\n    </tr>\n    <tr>\n      <th>...</th>\n      <td>...</td>\n      <td>...</td>\n      <td>...</td>\n      <td>...</td>\n      <td>...</td>\n      <td>...</td>\n      <td>...</td>\n      <td>...</td>\n      <td>...</td>\n      <td>...</td>\n      <td>...</td>\n      <td>...</td>\n      <td>...</td>\n      <td>...</td>\n      <td>...</td>\n      <td>...</td>\n      <td>...</td>\n      <td>...</td>\n      <td>...</td>\n      <td>...</td>\n      <td>...</td>\n    </tr>\n    <tr>\n      <th>1995</th>\n      <td>€ 160,000</td>\n      <td>2</td>\n      <td>54m²</td>\n      <td>1</td>\n      <td>G</td>\n      <td>via carolina invernizio - in a 90s building, w...</td>\n      <td>160 INVERNIZIO - 10/14/2023</td>\n      <td>Sale - Download brochure</td>\n      <td>Apartment | Full ownership | Medium property c...</td>\n      <td>54 m² - See detail</td>\n      <td>...</td>\n      <td>Not indicated</td>\n      <td>1990.0</td>\n      <td>New / Under construction</td>\n      <td>Independent, air heating, powered by heat pump</td>\n      <td>Independent, cold/hot</td>\n      <td>F≥ 175 kWh/m² year</td>\n      <td>Milan</td>\n      <td>Vialba</td>\n      <td>Via Carolina Invernizio</td>\n      <td>https://www.immobiliare.it/en/annunci/106660639/</td>\n    </tr>\n    <tr>\n      <th>1996</th>\n      <td>€ 214,000</td>\n      <td>2</td>\n      <td>70m²</td>\n      <td>1</td>\n      <td>NaN</td>\n      <td>via carolina invernizio - in stabile anni 90, ...</td>\n      <td>214 INVERNIZIO - 10/14/2023</td>\n      <td>Sale - Download brochure</td>\n      <td>Apartment | Full ownership | Medium property c...</td>\n      <td>70 m² - See detail</td>\n      <td>...</td>\n      <td>Not indicated</td>\n      <td>1990.0</td>\n      <td>New / Under construction</td>\n      <td>Independent, air heating, powered by heat pump</td>\n      <td>Independent, cold/hot</td>\n      <td>F≥ 175 kWh/m² year</td>\n      <td>Milan</td>\n      <td>Vialba</td>\n      <td>Via Carolina Invernizio</td>\n      <td>https://www.immobiliare.it/en/annunci/106660615/</td>\n    </tr>\n    <tr>\n      <th>1997</th>\n      <td>€ 299,000</td>\n      <td>2</td>\n      <td>50m²</td>\n      <td>1</td>\n      <td>5</td>\n      <td>ARE YOU LOOKING FOR A PERFECT TWO-ROOM APARTME...</td>\n      <td>sabotino7 - 10/14/2023</td>\n      <td>Sale</td>\n      <td>Apartment | Full ownership | Stately property ...</td>\n      <td>50 m² - See detail</td>\n      <td>...</td>\n      <td>Not indicated</td>\n      <td>1940.0</td>\n      <td>Good condition / Liveable</td>\n      <td>Central, with radiators</td>\n      <td>NaN</td>\n      <td>F≥ 175 kWh/m² year</td>\n      <td>Milan</td>\n      <td>Porta Romana - Medaglie d'Oro</td>\n      <td>Viale Sabotino</td>\n      <td>https://www.immobiliare.it/en/annunci/106656557/</td>\n    </tr>\n    <tr>\n      <th>1998</th>\n      <td>€ 450,000</td>\n      <td>3</td>\n      <td>94m²</td>\n      <td>1</td>\n      <td>2</td>\n      <td>Rif: GG42 - INTERNO: la soluzione proposta è u...</td>\n      <td>GG42 - 10/14/2023</td>\n      <td>Sale</td>\n      <td>Apartment | Full ownership | Medium property c...</td>\n      <td>94 m² - See detail</td>\n      <td>...</td>\n      <td>Not indicated</td>\n      <td>1950.0</td>\n      <td>To be refurbished</td>\n      <td>Central, floor heating, powered by methane</td>\n      <td>NaN</td>\n      <td>F220.35 kWh/m² year</td>\n      <td>Milan</td>\n      <td>Centrale</td>\n      <td>Via Ponte Seveso</td>\n      <td>https://www.immobiliare.it/en/annunci/106654875/</td>\n    </tr>\n    <tr>\n      <th>1999</th>\n      <td>€ 170,000</td>\n      <td>1</td>\n      <td>57m²</td>\n      <td>1</td>\n      <td>NaN</td>\n      <td>via carolina invernizio - in stabile anni 90, ...</td>\n      <td>170 INVERNIZIO - 10/14/2023</td>\n      <td>Sale - Download brochure</td>\n      <td>Apartment | Full ownership | Medium property c...</td>\n      <td>57 m² - See detail</td>\n      <td>...</td>\n      <td>Not indicated</td>\n      <td>1990.0</td>\n      <td>New / Under construction</td>\n      <td>Independent, air heating, powered by heat pump</td>\n      <td>Independent, cold/hot</td>\n      <td>F≥ 175 kWh/m² year</td>\n      <td>Milan</td>\n      <td>Vialba</td>\n      <td>Via Carolina Invernizio</td>\n      <td>https://www.immobiliare.it/en/annunci/106660603/</td>\n    </tr>\n  </tbody>\n</table>\n<p>2000 rows × 27 columns</p>\n</div>"
     },
     "execution_count": 166,
     "metadata": {},
     "output_type": "execute_result"
    }
   ],
   "source": [
    "df"
   ],
   "metadata": {
    "collapsed": false,
    "ExecuteTime": {
     "end_time": "2023-10-31T15:12:20.941901600Z",
     "start_time": "2023-10-31T15:12:20.809645100Z"
    }
   },
   "id": "5dee7a971ceb1a39"
  },
  {
   "cell_type": "code",
   "execution_count": 167,
   "outputs": [
    {
     "name": "stderr",
     "output_type": "stream",
     "text": [
      "C:\\Users\\amras\\AppData\\Local\\Temp\\ipykernel_9312\\1378812021.py:8: SettingWithCopyWarning: \n",
      "A value is trying to be set on a copy of a slice from a DataFrame.\n",
      "Try using .loc[row_indexer,col_indexer] = value instead\n",
      "\n",
      "See the caveats in the documentation: https://pandas.pydata.org/pandas-docs/stable/user_guide/indexing.html#returning-a-view-versus-a-copy\n",
      "  df['price_euro'] = df['price_euro'].apply(lambda x: x.replace('€ ', '').replace('from ', '').replace(',', '').replace('.00', ''))\n"
     ]
    },
    {
     "data": {
      "text/plain": "0       289000.0\n1       950000.0\n2       398000.0\n3       420000.0\n4       780000.0\n          ...   \n1995    160000.0\n1996    214000.0\n1997    299000.0\n1998    450000.0\n1999    170000.0\nName: price_euro, Length: 1938, dtype: float64"
     },
     "execution_count": 167,
     "metadata": {},
     "output_type": "execute_result"
    }
   ],
   "source": [
    "# I have two columns for price ('price_euro', 'price') so, I'll drop ('price') because it has alot of null values\n",
    "df.drop('price', axis=1, inplace=True)\n",
    "\n",
    "# Drop rows with no price\n",
    "df = df[df['price_euro'] != 'Price on application']\n",
    "\n",
    "# Cleaning ('price_euro') column\n",
    "df['price_euro'] = df['price_euro'].apply(lambda x: x.replace('€ ', '').replace('from ', '').replace(',', '').replace('.00', ''))\n",
    "\n",
    "# Drop corrupted values and convert values to float\n",
    "df = df[df['price_euro'].str.isnumeric() != False]\n",
    "df['price_euro'] = df['price_euro'].astype('float')\n",
    "\n",
    "df['price_euro']"
   ],
   "metadata": {
    "collapsed": false,
    "ExecuteTime": {
     "end_time": "2023-10-31T15:12:20.941901600Z",
     "start_time": "2023-10-31T15:12:20.831226600Z"
    }
   },
   "id": "28a0be391a000891"
  },
  {
   "cell_type": "code",
   "execution_count": 168,
   "outputs": [
    {
     "data": {
      "text/plain": "number_rooms\n3             728\n2             675\n4             243\n1             125\n5              92\n5+             14\n200m²           3\n225m²           3\n360m²           2\n51m²            2\n205m²           2\n12/12/2023      2\n240m²           2\n325m²           1\n368m²           1\n125m²           1\n185m²           1\n300m²           1\n150m²           1\n230m²           1\n227m²           1\n315m²           1\n570m²           1\n275m²           1\n450m²           1\n280m²           1\n95m²            1\n171m²           1\n198m²           1\n900m²           1\n1,048m²         1\n400m²           1\n180m²           1\n202m²           1\n500m²           1\n250m²           1\n01/17/2024      1\n190m²           1\n720m²           1\n231m²           1\n490m²           1\n160m²           1\n340m²           1\n3,200m²         1\n12/19/2023      1\n12/14/2023      1\n12/20/2023      1\n55m²            1\n12/21/2023      1\n3,000m²         1\n1,000m²         1\n4,000m²         1\n260m²           1\n234m²           1\n140m²           1\n149m²           1\n330m²           1\n440m²           1\nName: count, dtype: int64"
     },
     "execution_count": 168,
     "metadata": {},
     "output_type": "execute_result"
    }
   ],
   "source": [
    "# Cleaning ('number_rooms') column\n",
    "df['number_rooms'].value_counts() # Values are corrupted"
   ],
   "metadata": {
    "collapsed": false,
    "ExecuteTime": {
     "end_time": "2023-10-31T15:12:20.941901600Z",
     "start_time": "2023-10-31T15:12:20.846917700Z"
    }
   },
   "id": "d15726e5c7040b8"
  },
  {
   "cell_type": "code",
   "execution_count": 169,
   "outputs": [
    {
     "data": {
      "text/plain": "0       3\n1       4\n2       2\n3       3\n4       3\n       ..\n1995    2\n1996    2\n1997    2\n1998    3\n1999    1\nName: number_rooms, Length: 1919, dtype: int32"
     },
     "execution_count": 169,
     "metadata": {},
     "output_type": "execute_result"
    }
   ],
   "source": [
    "# Extracting the right number of rooms from ('rooms') column\n",
    "df['number_rooms'] = df['rooms'].dropna().apply(lambda x : x.split()[0])\n",
    "\n",
    "# I will consider that apartments with 5+ rooms has just 5 rooms\n",
    "df['number_rooms'] = df['number_rooms'].str.replace('+', '')\n",
    "\n",
    "# Drop null values\n",
    "df = df[~df['number_rooms'].isnull()]\n",
    "\n",
    "# convert values to int\n",
    "df['number_rooms'] = df['number_rooms'].astype('int')\n",
    "\n",
    "df['number_rooms']"
   ],
   "metadata": {
    "collapsed": false,
    "ExecuteTime": {
     "end_time": "2023-10-31T15:12:20.941901600Z",
     "start_time": "2023-10-31T15:12:20.852436800Z"
    }
   },
   "id": "cd6859e7d92077ee"
  },
  {
   "cell_type": "code",
   "execution_count": 170,
   "outputs": [
    {
     "data": {
      "text/plain": "0       100\n1       234\n2        78\n3        85\n4        80\n       ... \n1995     54\n1996     70\n1997     50\n1998     94\n1999     57\nName: area_m2, Length: 1919, dtype: int32"
     },
     "execution_count": 170,
     "metadata": {},
     "output_type": "execute_result"
    }
   ],
   "source": [
    "# Cleaning ('area_m2') columns\n",
    "# Extracting the right surface area from ('surface') column\n",
    "df['area_m2'] = df['surface'].dropna().apply(lambda x : x.split()[0])\n",
    "\n",
    "df['area_m2'] = df['area_m2'].str.replace(',', '')\n",
    "\n",
    "# Drop ('surface') column\n",
    "df.drop('surface', axis=1, inplace=True)\n",
    "\n",
    "# convert values to int\n",
    "df['area_m2'] = df['area_m2'].astype('int')\n",
    "df['area_m2']"
   ],
   "metadata": {
    "collapsed": false,
    "ExecuteTime": {
     "end_time": "2023-10-31T15:12:20.949046400Z",
     "start_time": "2023-10-31T15:12:20.864087Z"
    }
   },
   "id": "53df042765e39b29"
  },
  {
   "cell_type": "code",
   "execution_count": 171,
   "outputs": [
    {
     "data": {
      "text/plain": "bathrooms\n1        1166\n2         456\n3          67\n82m²        7\n73m²        6\n         ... \n145m²       1\n46m²        1\n1 - 2       1\n187m²       1\n148m²       1\nName: count, Length: 69, dtype: int64"
     },
     "execution_count": 171,
     "metadata": {},
     "output_type": "execute_result"
    }
   ],
   "source": [
    "# Cleaning ('bathrooms') column\n",
    "df['bathrooms'].value_counts() # Values are corrupted"
   ],
   "metadata": {
    "collapsed": false,
    "ExecuteTime": {
     "end_time": "2023-10-31T15:12:20.949552700Z",
     "start_time": "2023-10-31T15:12:20.874516Z"
    }
   },
   "id": "fd8ceb5bba071948"
  },
  {
   "cell_type": "code",
   "execution_count": 172,
   "outputs": [
    {
     "data": {
      "text/plain": "0       1\n1       3\n2       1\n3       1\n4       1\n       ..\n1995    1\n1996    1\n1997    1\n1998    1\n1999    1\nName: bathrooms, Length: 1919, dtype: int32"
     },
     "execution_count": 172,
     "metadata": {},
     "output_type": "execute_result"
    }
   ],
   "source": [
    "# Extracting the right number of bathrooms from ('rooms') column\n",
    "# Apartment with no bathroom information, I'll assume that it has 1 bathroom\n",
    "df['bathrooms'] = df['rooms'].dropna().apply(lambda x : x.split(' bathroom')[0][-2:] if ' bathroom' in x else '1')\n",
    "df['bathrooms'].value_counts()\n",
    "\n",
    "# I will consider that apartments with 3+ bathrooms has just 3 bathrooms\n",
    "df['bathrooms'] = df['bathrooms'].str.replace('+', '')\n",
    "\n",
    "# Drop ('rooms') column\n",
    "df.drop('rooms', axis=1, inplace=True)\n",
    "\n",
    "# convert values to int\n",
    "df['bathrooms'] = df['bathrooms'].astype('int')\n",
    "\n",
    "df['bathrooms']"
   ],
   "metadata": {
    "collapsed": false,
    "ExecuteTime": {
     "end_time": "2023-10-31T15:12:20.949552700Z",
     "start_time": "2023-10-31T15:12:20.882055800Z"
    }
   },
   "id": "4ac4ee943a9a4d04"
  },
  {
   "cell_type": "code",
   "execution_count": 173,
   "outputs": [],
   "source": [
    "# Extracting useful information from ('floor') column\n",
    "# Make new column for ('with disabled access')\n",
    "df['with_disabled_access'] = df['floor'].dropna().apply(lambda x : 1 if 'with disabled access' in x else 0)\n",
    "\n",
    "# Make new column for ('with lift')\n",
    "df['with_lift'] = df['floor'].dropna().apply(lambda x : 1 if 'with lift' in x else 0)"
   ],
   "metadata": {
    "collapsed": false,
    "ExecuteTime": {
     "end_time": "2023-10-31T15:12:20.949552700Z",
     "start_time": "2023-10-31T15:12:20.895579700Z"
    }
   },
   "id": "b7d4a4adb7d031f0"
  },
  {
   "cell_type": "code",
   "execution_count": 174,
   "outputs": [],
   "source": [
    "# Drop ('floor') column\n",
    "df.drop('floor', axis=1, inplace=True)"
   ],
   "metadata": {
    "collapsed": false,
    "ExecuteTime": {
     "end_time": "2023-10-31T15:12:20.949552700Z",
     "start_time": "2023-10-31T15:12:20.905255700Z"
    }
   },
   "id": "b6fbbc830cbb8fa6"
  },
  {
   "cell_type": "code",
   "execution_count": 175,
   "outputs": [
    {
     "data": {
      "text/plain": "159"
     },
     "execution_count": 175,
     "metadata": {},
     "output_type": "execute_result"
    }
   ],
   "source": [
    "df['with_disabled_access'].isna().sum()"
   ],
   "metadata": {
    "collapsed": false,
    "ExecuteTime": {
     "end_time": "2023-10-31T15:12:20.949552700Z",
     "start_time": "2023-10-31T15:12:20.911241100Z"
    }
   },
   "id": "6d3ddffc158bd3e"
  },
  {
   "cell_type": "code",
   "execution_count": 176,
   "outputs": [],
   "source": [
    "# Remove null values\n",
    "df = df[~df['with_disabled_access'].isnull()]"
   ],
   "metadata": {
    "collapsed": false,
    "ExecuteTime": {
     "end_time": "2023-10-31T15:12:20.949552700Z",
     "start_time": "2023-10-31T15:12:20.920517Z"
    }
   },
   "id": "e84831f3fdafac96"
  },
  {
   "cell_type": "code",
   "execution_count": 177,
   "outputs": [
    {
     "data": {
      "text/plain": "floor_number\n1         411\n2         258\n3         216\n4         169\nG         149\n5         106\nM         102\n6          75\n7          45\nSB         29\n8          25\n9           7\n2 - 3       3\n3 - 4       3\n8 - 9       3\n4 - 5       3\nSB - G      2\nB           2\n14          2\n4 - 6       1\n1 - 2       1\n7 - 8       1\n10          1\n12          1\n13          1\n11          1\nName: count, dtype: int64"
     },
     "execution_count": 177,
     "metadata": {},
     "output_type": "execute_result"
    }
   ],
   "source": [
    "# Cleaning ('floor_number') column\n",
    "df['floor_number'].value_counts()"
   ],
   "metadata": {
    "collapsed": false,
    "ExecuteTime": {
     "end_time": "2023-10-31T15:12:20.949552700Z",
     "start_time": "2023-10-31T15:12:20.926004300Z"
    }
   },
   "id": "3284aea964126b7"
  },
  {
   "cell_type": "code",
   "execution_count": 178,
   "outputs": [
    {
     "data": {
      "text/plain": "floor_number\n1         410\n2         258\n3         216\n4         169\n0         149\n5         106\n0.5       102\n6          75\n7          45\n-1         31\n8          25\n9           7\n3 - 4       3\n4 - 5       3\n8 - 9       3\n2 - 3       3\n-1 - 0      2\n14          2\n13          1\n4 - 6       1\n12          1\n11          1\n10          1\n7 - 8       1\n1 - 2       1\nName: count, dtype: int64"
     },
     "execution_count": 178,
     "metadata": {},
     "output_type": "execute_result"
    }
   ],
   "source": [
    "df['floor_number'] = df['floor_number'].dropna().apply(lambda x : x.replace('M', '0.5').replace('SB', '-1').replace('B', '-1').replace('G', '0'))\n",
    "\n",
    "# convert values to category\n",
    "df['floor_number'] = df['floor_number'].astype('category')\n",
    "\n",
    "# Remove null values\n",
    "df = df[~df['floor_number'].isnull()]\n",
    "df = df[~df['description'].isnull()]\n",
    "df['floor_number'].value_counts()"
   ],
   "metadata": {
    "collapsed": false,
    "ExecuteTime": {
     "end_time": "2023-10-31T15:12:20.991854300Z",
     "start_time": "2023-10-31T15:12:20.935393200Z"
    }
   },
   "id": "1847d2915e6c454b"
  },
  {
   "cell_type": "code",
   "execution_count": 179,
   "outputs": [],
   "source": [
    "# Make new column for the date of the announcement\n",
    "df['listing Date'] = df['Reference and listing Date'].dropna().apply(lambda x : x.split('-')[-1])\n",
    "df['listing Date'] = pd.to_datetime(df['listing Date'])"
   ],
   "metadata": {
    "collapsed": false,
    "ExecuteTime": {
     "end_time": "2023-10-31T15:12:21.095893500Z",
     "start_time": "2023-10-31T15:12:20.949552700Z"
    }
   },
   "id": "1aa6c5899570ecea"
  },
  {
   "cell_type": "code",
   "execution_count": 180,
   "outputs": [
    {
     "data": {
      "text/plain": "contract\nSale                                    1399\nSale - Download brochure                 170\nSale | Income property                    43\nSale, open                                 3\nSale | Income property | Rent to buy       1\nName: count, dtype: int64"
     },
     "execution_count": 180,
     "metadata": {},
     "output_type": "execute_result"
    }
   ],
   "source": [
    "# Cleaning ('contract') column\n",
    "df['contract'].value_counts()"
   ],
   "metadata": {
    "collapsed": false,
    "ExecuteTime": {
     "end_time": "2023-10-31T15:12:21.095893500Z",
     "start_time": "2023-10-31T15:12:20.957494600Z"
    }
   },
   "id": "cdd98e960c2e49ff"
  },
  {
   "cell_type": "code",
   "execution_count": 181,
   "outputs": [],
   "source": [
    "df['contract'] = 'sale'"
   ],
   "metadata": {
    "collapsed": false,
    "ExecuteTime": {
     "end_time": "2023-10-31T15:12:21.095893500Z",
     "start_time": "2023-10-31T15:12:20.965048500Z"
    }
   },
   "id": "5189b9746dea0939"
  },
  {
   "cell_type": "code",
   "execution_count": 182,
   "outputs": [
    {
     "data": {
      "text/plain": "total building floors\n5 floors     278\n4 floors     262\n6 floors     253\n8 floors     206\n7 floors     173\n3 floors     158\n2 floors      81\n9 floors      57\n1 floor       39\n10 floors     14\n14 floors      5\n11 floors      5\n16 floors      4\n12 floors      2\n17 floors      1\n18 floors      1\n23 floors      1\n15 floors      1\nName: count, dtype: int64"
     },
     "execution_count": 182,
     "metadata": {},
     "output_type": "execute_result"
    }
   ],
   "source": [
    "# Cleaning ('total building floors') column\n",
    "df['total building floors'].value_counts()"
   ],
   "metadata": {
    "collapsed": false,
    "ExecuteTime": {
     "end_time": "2023-10-31T15:12:21.095893500Z",
     "start_time": "2023-10-31T15:12:20.973212500Z"
    }
   },
   "id": "dbe61d7d11654d0d"
  },
  {
   "cell_type": "code",
   "execution_count": 183,
   "outputs": [
    {
     "data": {
      "text/plain": "0        7.0\n2        3.0\n3        5.0\n4        5.0\n5        4.0\n        ... \n1993     6.0\n1994    10.0\n1995     6.0\n1997     5.0\n1998     6.0\nName: total building floors, Length: 1616, dtype: float64"
     },
     "execution_count": 183,
     "metadata": {},
     "output_type": "execute_result"
    }
   ],
   "source": [
    "df['total building floors'] = df['total building floors'].dropna().apply(lambda x : x.split(' ')[0])\n",
    "\n",
    "# convert values to float\n",
    "df['total building floors'] = df['total building floors'].dropna().astype('float')\n",
    "df['total building floors']"
   ],
   "metadata": {
    "collapsed": false,
    "ExecuteTime": {
     "end_time": "2023-10-31T15:12:21.095893500Z",
     "start_time": "2023-10-31T15:12:20.980417300Z"
    }
   },
   "id": "f6c946947e0d4abe"
  },
  {
   "cell_type": "code",
   "execution_count": 184,
   "outputs": [
    {
     "data": {
      "text/plain": "condominium fees\nNo condominium fees    159\n€ 100/month            125\n€ 150/month            117\n€ 200/month            102\n€ 250/month             73\n                      ... \n€ 600/month              1\n€ 191/month              1\n€ 134/month              1\n€ 86/month               1\n€ 666/month              1\nName: count, Length: 154, dtype: int64"
     },
     "execution_count": 184,
     "metadata": {},
     "output_type": "execute_result"
    }
   ],
   "source": [
    "# Cleaning ('condominium fees') column\n",
    "df['condominium fees'].value_counts()"
   ],
   "metadata": {
    "collapsed": false,
    "ExecuteTime": {
     "end_time": "2023-10-31T15:12:21.095893500Z",
     "start_time": "2023-10-31T15:12:20.991854300Z"
    }
   },
   "id": "b349b77a3843178a"
  },
  {
   "cell_type": "code",
   "execution_count": 185,
   "outputs": [],
   "source": [
    "df['condominium fees'] = df['condominium fees'].dropna().apply(lambda x : x.replace('No condominium fees', '0').replace('/month', '').replace('€ ', '').replace(',', ''))\n",
    "\n",
    "# Convert values to float\n",
    "df['condominium fees'] = df['condominium fees'].astype('float')"
   ],
   "metadata": {
    "collapsed": false,
    "ExecuteTime": {
     "end_time": "2023-10-31T15:12:21.137562100Z",
     "start_time": "2023-10-31T15:12:20.999032400Z"
    }
   },
   "id": "e9b8570ec80795b1"
  },
  {
   "cell_type": "code",
   "execution_count": 186,
   "outputs": [
    {
     "data": {
      "text/plain": "341"
     },
     "execution_count": 186,
     "metadata": {},
     "output_type": "execute_result"
    }
   ],
   "source": [
    "# ('condominium fees') column has alot of null values\n",
    "df['condominium fees'].isnull().sum()"
   ],
   "metadata": {
    "collapsed": false,
    "ExecuteTime": {
     "end_time": "2023-10-31T15:12:21.153192200Z",
     "start_time": "2023-10-31T15:12:21.007147100Z"
    }
   },
   "id": "5682dc3d3172eb24"
  },
  {
   "cell_type": "code",
   "execution_count": 187,
   "outputs": [
    {
     "data": {
      "text/plain": "neighborhood\nAffori                   244.800000\nAmendola - Buonarroti    110.000000\nArco della Pace          343.400000\nArena                      0.000000\nArgonne - Corsica        196.300000\n                            ...    \nVigentino - Fatima        92.937500\nVilla San Giovanni       206.666667\nVincenzo Monti           225.000000\nWashington               198.529412\nZara                     223.428571\nName: condominium fees, Length: 139, dtype: float64"
     },
     "execution_count": 187,
     "metadata": {},
     "output_type": "execute_result"
    }
   ],
   "source": [
    "# Getting the mean of the condominium fees of each neighborhood\n",
    "means = df.groupby('neighborhood')['condominium fees'].mean()\n",
    "means"
   ],
   "metadata": {
    "collapsed": false,
    "ExecuteTime": {
     "end_time": "2023-10-31T15:12:21.153192200Z",
     "start_time": "2023-10-31T15:12:21.013782Z"
    }
   },
   "id": "b9899914370f68c4"
  },
  {
   "cell_type": "code",
   "execution_count": 188,
   "outputs": [
    {
     "data": {
      "text/plain": "array([341.54545455, 542.5       , 135.5       , 216.31147541,\n       242.14285714, 136.71428571, 135.5       , 150.13636364,\n       196.3       , 136.71428571, 162.125     ,   0.        ,\n       341.54545455, 927.66666667, 260.9       , 341.54545455,\n       341.54545455, 341.54545455, 468.75      , 196.3       ,\n       341.54545455, 162.125     , 341.54545455, 341.54545455,\n       135.20454545, 341.54545455, 263.27777778, 136.71428571,\n       136.71428571, 216.31147541, 251.11111111, 177.84375   ,\n       216.31147541,  85.        , 239.375     , 223.60869565,\n         0.        , 160.625     , 416.        , 110.14285714,\n        60.90909091, 207.5       , 234.8       ,  60.90909091,\n       263.27777778, 164.28571429, 158.0625    , 315.25      ,\n        92.9375    , 207.55555556, 216.31147541, 216.31147541,\n       223.60869565, 216.31147541, 137.44117647, 159.54545455,\n       216.31147541, 358.        , 263.27777778, 228.20833333,\n       542.5       , 135.20454545, 196.3       , 216.31147541,\n       190.4       , 162.125     , 137.44117647, 107.36842105,\n       150.13636364, 239.375     , 150.13636364, 260.9       ,\n       216.31147541,   0.        , 244.8       , 136.71428571,\n       162.125     , 196.3       , 216.31147541, 162.125     ,\n       183.25      , 164.28571429, 196.3       , 216.31147541,\n       216.31147541, 216.31147541, 595.83333333, 146.16666667,\n       106.25      , 158.0625    , 247.66666667, 247.66666667,\n       247.66666667, 247.66666667, 247.66666667, 260.9       ,\n       247.66666667, 247.66666667, 165.58823529, 117.44444444,\n       234.8       ,          nan, 136.71428571, 196.3       ,\n       119.38709677, 207.5       , 165.58823529, 553.2       ,\n       553.2       , 162.5       , 196.3       , 162.125     ,\n       216.31147541, 136.71428571, 207.5       , 196.3       ,\n       154.71428571, 174.47619048, 206.66666667, 206.66666667,\n       313.80952381, 313.80952381, 169.2       , 177.84375   ,\n       358.        , 128.91666667, 110.14285714, 160.        ,\n       160.        , 160.        , 174.75      , 137.44117647,\n       139.63157895, 320.8       , 198.52941176, 154.71428571,\n       110.        , 128.91666667, 196.3       , 146.6875    ,\n                nan, 190.4       , 345.        , 128.91666667,\n       223.60869565, 244.8       , 162.5       , 165.58823529,\n       223.60869565, 110.14285714, 244.8       , 207.5       ,\n       137.44117647, 248.33333333, 159.54545455, 244.8       ,\n       223.60869565,          nan, 174.47619048, 220.5       ,\n       123.42857143, 135.20454545, 149.77777778, 135.20454545,\n       660.        , 150.13636364, 196.3       , 169.2       ,\n       169.2       , 117.44444444, 136.71428571, 244.8       ,\n                nan, 927.66666667, 110.14285714, 301.        ,\n       110.        , 135.20454545, 135.20454545, 223.60869565,\n       244.8       , 162.5       , 244.8       , 169.2       ,\n       223.60869565, 301.        , 260.        , 260.9       ,\n         0.        , 165.58823529, 142.        ,   0.        ,\n       280.2       , 483.        , 225.33333333, 223.60869565,\n       223.60869565, 190.4       , 183.25      , 162.125     ,\n       251.11111111, 107.36842105, 107.36842105, 107.36842105,\n       172.68421053, 150.13636364, 216.31147541, 150.13636364,\n       156.125     , 536.66666667, 223.60869565, 225.3       ,\n       160.625     , 223.60869565, 135.20454545, 216.31147541,\n       483.        , 128.91666667, 162.125     , 135.20454545,\n       135.20454545, 320.8       , 172.68421053, 216.31147541,\n        98.33333333, 207.5       , 358.        , 260.        ,\n       288.25806452, 156.125     , 135.20454545, 150.13636364,\n       341.54545455, 244.8       , 154.71428571, 223.60869565,\n       210.        , 210.        , 135.20454545, 234.8       ,\n       149.77777778, 210.        , 128.91666667, 137.44117647,\n                nan, 247.66666667, 345.        , 223.60869565,\n       216.31147541, 811.75      , 137.44117647, 313.80952381,\n       244.8       , 160.        , 244.8       , 135.20454545,\n       244.8       , 119.875     , 122.45454545, 162.5       ,\n       125.        , 117.44444444, 244.8       , 169.2       ,\n       244.8       , 136.71428571, 169.2       , 125.        ,\n       255.        , 239.375     , 169.2       , 125.        ,\n       136.71428571, 156.125     , 169.2       , 244.8       ,\n       169.2       , 358.        , 358.        , 358.        ,\n       358.        , 358.        , 150.13636364, 216.31147541,\n       216.31147541, 313.80952381, 216.31147541, 128.91666667,\n       128.91666667, 358.        , 164.22222222, 244.8       ,\n       180.        , 288.25806452, 135.20454545, 244.8       ,\n       239.375     , 190.4       , 135.20454545, 135.20454545,\n        92.9375    , 135.20454545, 260.        , 135.20454545,\n       137.44117647, 165.58823529, 162.5       ,   0.        ,\n       135.20454545, 162.5       , 135.20454545, 244.8       ,\n       244.8       , 239.375     , 251.11111111, 162.5       ,\n       135.20454545, 156.125     , 216.31147541, 223.60869565,\n       244.8       , 150.13636364, 244.8       , 225.3       ,\n       313.80952381, 244.8       , 234.8       , 234.8       ,\n       160.        , 160.        , 313.80952381, 160.        ,\n       128.91666667, 128.91666667, 128.91666667, 128.91666667,\n         0.        ,          nan, 190.4       , 223.42857143,\n       260.        ])"
     },
     "execution_count": 188,
     "metadata": {},
     "output_type": "execute_result"
    }
   ],
   "source": [
    "# Filling the null values with the mean of each neighborhood\n",
    "new_values = means[df[df['condominium fees'].isnull()]['neighborhood']].values\n",
    "new_values"
   ],
   "metadata": {
    "collapsed": false,
    "ExecuteTime": {
     "end_time": "2023-10-31T15:12:21.153192200Z",
     "start_time": "2023-10-31T15:12:21.023695500Z"
    }
   },
   "id": "5bcfd6dec146ef74"
  },
  {
   "cell_type": "code",
   "execution_count": 189,
   "outputs": [
    {
     "data": {
      "text/plain": "      price_euro  number_rooms  area_m2  bathrooms floor_number  \\\n18      415000.0             2       70          1        3 - 4   \n41     6000000.0             5    50000          3            0   \n54      525000.0             3      120          1            1   \n96      251250.0             3       90          1            1   \n108     122880.0             2       90          1            0   \n...          ...           ...      ...        ...          ...   \n1986    184500.0             3       87          2            2   \n1987    157800.0             5      148          2            2   \n1988     91627.0             3       73          1            1   \n1990    695000.0             4      104          2            4   \n1991    445000.0             3      115          2            4   \n\n                                            description  \\\n18    La Tempocasa in Milan Ripamonti offers for sal...   \n41    MEDIATORI GROUP CASTELSARDO PROPONE IN VENDITA...   \n54    three-room apartment with large terracePonteNu...   \n96    Appartamento posto al primo piano con ascensor...   \n108   ALL'ASTA BILOCALE IN VIALE CERTOSA, MILANO (MI...   \n...                                                 ...   \n1986  GRIMALDI PORTA ROMANA PROPONE ALL’ASTA IN VIA ...   \n1987  GRIMALDI PORTA ROMANA PROPONE ALL’ASTA IN MILA...   \n1988  GRIMALDI PORTA ROMANA PROPONE ALL’ASTA IN VIA ...   \n1990  Isola, stabile d’epoca ristrutturato nelle par...   \n1991  All'interno di un contesto residenziale con am...   \n\n         Reference and listing Date contract  \\\n18               B1100 - 10/24/2023     sale   \n41              315632 - 10/24/2023     sale   \n54        EK-106887461 - 10/24/2023     sale   \n96        EK-106886743 - 10/23/2023     sale   \n108          EX7982168 - 10/24/2023     sale   \n...                             ...      ...   \n1986  GPRAS/MLY/22/184 - 10/15/2023     sale   \n1987  GPRAS/VTT/22/157 - 10/15/2023     sale   \n1988   GPRAS/BAS/22/91 - 10/15/2023     sale   \n1990      EK-106666961 - 10/15/2023     sale   \n1991      EK-106666323 - 10/15/2023     sale   \n\n                                                   type  \\\n18    Apartment | Full ownership | Stately property ...   \n41                           Building | Luxury property   \n54         Apartment | Full ownership | Luxury property   \n96    Apartment | Full ownership | Medium property c...   \n108                   Apartment | Medium property class   \n...                                                 ...   \n1986                                          Apartment   \n1987                                          Apartment   \n1988                                          Apartment   \n1990                                          Apartment   \n1991                         Apartment | Full ownership   \n\n      total building floors  ...  \\\n18                      4.0  ...   \n41                      1.0  ...   \n54                      4.0  ...   \n96                      8.0  ...   \n108                     4.0  ...   \n...                     ...  ...   \n1986                    NaN  ...   \n1987                    NaN  ...   \n1988                    NaN  ...   \n1990                    5.0  ...   \n1991                    6.0  ...   \n\n                                              heating        Air conditioner  \\\n18    Independent, with radiators, powered by methane  System predisposition   \n41     Independent, air heating, powered by heat pump  System predisposition   \n54                           Independent, air heating  Independent, cold/hot   \n96        Central, with radiators, powered by methane                    NaN   \n108                       Independent, with radiators                    NaN   \n...                                               ...                    ...   \n1986                                              NaN                    NaN   \n1987                                              NaN                    NaN   \n1988                                              NaN                    NaN   \n1990                                          Central               Cold/hot   \n1991                                          Central               Cold/hot   \n\n         Energy Efficiency   city               neighborhood  \\\n18      A≥ 175 kWh/m² year  Milan                  Ripamonti   \n41      G≥ 175 kWh/m² year  Milan                      Duomo   \n54    A3≥ 3,51 kWh/m² year  Milan                Ponte Nuovo   \n96      G≥ 175 kWh/m² year  Milan                Città Studi   \n108       G175 kWh/m² year  Milan  Cascina Merlata - Musocco   \n...                    ...    ...                        ...   \n1986      G175 kWh/m² year  Milan             Quarto Cagnino   \n1987      G175 kWh/m² year  Milan               Ponte Lambro   \n1988      G175 kWh/m² year  Milan                   Bruzzano   \n1990                   NaN  Milan                       Zara   \n1991      E317 kWh/m² year  Milan      Cantalupa - San Paolo   \n\n                          street  \\\n18          Via Bernardino Verro   \n41              Piazza del Duomo   \n54               Via Ponte Nuovo   \n96    Via Ferdinando Marescalchi   \n108            viale Certosa 292   \n...                          ...   \n1986               Via Milly , 9   \n1987           via Vittorini, 32   \n1988          via dei Braschi, 7   \n1990             Piazza Spotorno   \n1991                  Via Teramo   \n\n                                                   URL with_disabled_access  \\\n18    https://www.immobiliare.it/en/annunci/106898201/                  0.0   \n41    https://www.immobiliare.it/en/annunci/106892483/                  1.0   \n54    https://www.immobiliare.it/en/annunci/106887461/                  1.0   \n96    https://www.immobiliare.it/en/annunci/106886743/                  0.0   \n108   https://www.immobiliare.it/en/annunci/106897523/                  0.0   \n...                                                ...                  ...   \n1986  https://www.immobiliare.it/en/annunci/106667341/                  0.0   \n1987  https://www.immobiliare.it/en/annunci/106667339/                  0.0   \n1988  https://www.immobiliare.it/en/annunci/106667343/                  0.0   \n1990  https://www.immobiliare.it/en/annunci/106666961/                  0.0   \n1991  https://www.immobiliare.it/en/annunci/106666323/                  0.0   \n\n     with_lift listing Date  \n18         1.0   2023-10-24  \n41         0.0   2023-10-24  \n54         1.0   2023-10-24  \n96         1.0   2023-10-23  \n108        0.0   2023-10-24  \n...        ...          ...  \n1986       0.0   2023-10-15  \n1987       0.0   2023-10-15  \n1988       0.0   2023-10-15  \n1990       1.0   2023-10-15  \n1991       1.0   2023-10-15  \n\n[341 rows x 26 columns]",
      "text/html": "<div>\n<style scoped>\n    .dataframe tbody tr th:only-of-type {\n        vertical-align: middle;\n    }\n\n    .dataframe tbody tr th {\n        vertical-align: top;\n    }\n\n    .dataframe thead th {\n        text-align: right;\n    }\n</style>\n<table border=\"1\" class=\"dataframe\">\n  <thead>\n    <tr style=\"text-align: right;\">\n      <th></th>\n      <th>price_euro</th>\n      <th>number_rooms</th>\n      <th>area_m2</th>\n      <th>bathrooms</th>\n      <th>floor_number</th>\n      <th>description</th>\n      <th>Reference and listing Date</th>\n      <th>contract</th>\n      <th>type</th>\n      <th>total building floors</th>\n      <th>...</th>\n      <th>heating</th>\n      <th>Air conditioner</th>\n      <th>Energy Efficiency</th>\n      <th>city</th>\n      <th>neighborhood</th>\n      <th>street</th>\n      <th>URL</th>\n      <th>with_disabled_access</th>\n      <th>with_lift</th>\n      <th>listing Date</th>\n    </tr>\n  </thead>\n  <tbody>\n    <tr>\n      <th>18</th>\n      <td>415000.0</td>\n      <td>2</td>\n      <td>70</td>\n      <td>1</td>\n      <td>3 - 4</td>\n      <td>La Tempocasa in Milan Ripamonti offers for sal...</td>\n      <td>B1100 - 10/24/2023</td>\n      <td>sale</td>\n      <td>Apartment | Full ownership | Stately property ...</td>\n      <td>4.0</td>\n      <td>...</td>\n      <td>Independent, with radiators, powered by methane</td>\n      <td>System predisposition</td>\n      <td>A≥ 175 kWh/m² year</td>\n      <td>Milan</td>\n      <td>Ripamonti</td>\n      <td>Via Bernardino Verro</td>\n      <td>https://www.immobiliare.it/en/annunci/106898201/</td>\n      <td>0.0</td>\n      <td>1.0</td>\n      <td>2023-10-24</td>\n    </tr>\n    <tr>\n      <th>41</th>\n      <td>6000000.0</td>\n      <td>5</td>\n      <td>50000</td>\n      <td>3</td>\n      <td>0</td>\n      <td>MEDIATORI GROUP CASTELSARDO PROPONE IN VENDITA...</td>\n      <td>315632 - 10/24/2023</td>\n      <td>sale</td>\n      <td>Building | Luxury property</td>\n      <td>1.0</td>\n      <td>...</td>\n      <td>Independent, air heating, powered by heat pump</td>\n      <td>System predisposition</td>\n      <td>G≥ 175 kWh/m² year</td>\n      <td>Milan</td>\n      <td>Duomo</td>\n      <td>Piazza del Duomo</td>\n      <td>https://www.immobiliare.it/en/annunci/106892483/</td>\n      <td>1.0</td>\n      <td>0.0</td>\n      <td>2023-10-24</td>\n    </tr>\n    <tr>\n      <th>54</th>\n      <td>525000.0</td>\n      <td>3</td>\n      <td>120</td>\n      <td>1</td>\n      <td>1</td>\n      <td>three-room apartment with large terracePonteNu...</td>\n      <td>EK-106887461 - 10/24/2023</td>\n      <td>sale</td>\n      <td>Apartment | Full ownership | Luxury property</td>\n      <td>4.0</td>\n      <td>...</td>\n      <td>Independent, air heating</td>\n      <td>Independent, cold/hot</td>\n      <td>A3≥ 3,51 kWh/m² year</td>\n      <td>Milan</td>\n      <td>Ponte Nuovo</td>\n      <td>Via Ponte Nuovo</td>\n      <td>https://www.immobiliare.it/en/annunci/106887461/</td>\n      <td>1.0</td>\n      <td>1.0</td>\n      <td>2023-10-24</td>\n    </tr>\n    <tr>\n      <th>96</th>\n      <td>251250.0</td>\n      <td>3</td>\n      <td>90</td>\n      <td>1</td>\n      <td>1</td>\n      <td>Appartamento posto al primo piano con ascensor...</td>\n      <td>EK-106886743 - 10/23/2023</td>\n      <td>sale</td>\n      <td>Apartment | Full ownership | Medium property c...</td>\n      <td>8.0</td>\n      <td>...</td>\n      <td>Central, with radiators, powered by methane</td>\n      <td>NaN</td>\n      <td>G≥ 175 kWh/m² year</td>\n      <td>Milan</td>\n      <td>Città Studi</td>\n      <td>Via Ferdinando Marescalchi</td>\n      <td>https://www.immobiliare.it/en/annunci/106886743/</td>\n      <td>0.0</td>\n      <td>1.0</td>\n      <td>2023-10-23</td>\n    </tr>\n    <tr>\n      <th>108</th>\n      <td>122880.0</td>\n      <td>2</td>\n      <td>90</td>\n      <td>1</td>\n      <td>0</td>\n      <td>ALL'ASTA BILOCALE IN VIALE CERTOSA, MILANO (MI...</td>\n      <td>EX7982168 - 10/24/2023</td>\n      <td>sale</td>\n      <td>Apartment | Medium property class</td>\n      <td>4.0</td>\n      <td>...</td>\n      <td>Independent, with radiators</td>\n      <td>NaN</td>\n      <td>G175 kWh/m² year</td>\n      <td>Milan</td>\n      <td>Cascina Merlata - Musocco</td>\n      <td>viale Certosa 292</td>\n      <td>https://www.immobiliare.it/en/annunci/106897523/</td>\n      <td>0.0</td>\n      <td>0.0</td>\n      <td>2023-10-24</td>\n    </tr>\n    <tr>\n      <th>...</th>\n      <td>...</td>\n      <td>...</td>\n      <td>...</td>\n      <td>...</td>\n      <td>...</td>\n      <td>...</td>\n      <td>...</td>\n      <td>...</td>\n      <td>...</td>\n      <td>...</td>\n      <td>...</td>\n      <td>...</td>\n      <td>...</td>\n      <td>...</td>\n      <td>...</td>\n      <td>...</td>\n      <td>...</td>\n      <td>...</td>\n      <td>...</td>\n      <td>...</td>\n      <td>...</td>\n    </tr>\n    <tr>\n      <th>1986</th>\n      <td>184500.0</td>\n      <td>3</td>\n      <td>87</td>\n      <td>2</td>\n      <td>2</td>\n      <td>GRIMALDI PORTA ROMANA PROPONE ALL’ASTA IN VIA ...</td>\n      <td>GPRAS/MLY/22/184 - 10/15/2023</td>\n      <td>sale</td>\n      <td>Apartment</td>\n      <td>NaN</td>\n      <td>...</td>\n      <td>NaN</td>\n      <td>NaN</td>\n      <td>G175 kWh/m² year</td>\n      <td>Milan</td>\n      <td>Quarto Cagnino</td>\n      <td>Via Milly , 9</td>\n      <td>https://www.immobiliare.it/en/annunci/106667341/</td>\n      <td>0.0</td>\n      <td>0.0</td>\n      <td>2023-10-15</td>\n    </tr>\n    <tr>\n      <th>1987</th>\n      <td>157800.0</td>\n      <td>5</td>\n      <td>148</td>\n      <td>2</td>\n      <td>2</td>\n      <td>GRIMALDI PORTA ROMANA PROPONE ALL’ASTA IN MILA...</td>\n      <td>GPRAS/VTT/22/157 - 10/15/2023</td>\n      <td>sale</td>\n      <td>Apartment</td>\n      <td>NaN</td>\n      <td>...</td>\n      <td>NaN</td>\n      <td>NaN</td>\n      <td>G175 kWh/m² year</td>\n      <td>Milan</td>\n      <td>Ponte Lambro</td>\n      <td>via Vittorini, 32</td>\n      <td>https://www.immobiliare.it/en/annunci/106667339/</td>\n      <td>0.0</td>\n      <td>0.0</td>\n      <td>2023-10-15</td>\n    </tr>\n    <tr>\n      <th>1988</th>\n      <td>91627.0</td>\n      <td>3</td>\n      <td>73</td>\n      <td>1</td>\n      <td>1</td>\n      <td>GRIMALDI PORTA ROMANA PROPONE ALL’ASTA IN VIA ...</td>\n      <td>GPRAS/BAS/22/91 - 10/15/2023</td>\n      <td>sale</td>\n      <td>Apartment</td>\n      <td>NaN</td>\n      <td>...</td>\n      <td>NaN</td>\n      <td>NaN</td>\n      <td>G175 kWh/m² year</td>\n      <td>Milan</td>\n      <td>Bruzzano</td>\n      <td>via dei Braschi, 7</td>\n      <td>https://www.immobiliare.it/en/annunci/106667343/</td>\n      <td>0.0</td>\n      <td>0.0</td>\n      <td>2023-10-15</td>\n    </tr>\n    <tr>\n      <th>1990</th>\n      <td>695000.0</td>\n      <td>4</td>\n      <td>104</td>\n      <td>2</td>\n      <td>4</td>\n      <td>Isola, stabile d’epoca ristrutturato nelle par...</td>\n      <td>EK-106666961 - 10/15/2023</td>\n      <td>sale</td>\n      <td>Apartment</td>\n      <td>5.0</td>\n      <td>...</td>\n      <td>Central</td>\n      <td>Cold/hot</td>\n      <td>NaN</td>\n      <td>Milan</td>\n      <td>Zara</td>\n      <td>Piazza Spotorno</td>\n      <td>https://www.immobiliare.it/en/annunci/106666961/</td>\n      <td>0.0</td>\n      <td>1.0</td>\n      <td>2023-10-15</td>\n    </tr>\n    <tr>\n      <th>1991</th>\n      <td>445000.0</td>\n      <td>3</td>\n      <td>115</td>\n      <td>2</td>\n      <td>4</td>\n      <td>All'interno di un contesto residenziale con am...</td>\n      <td>EK-106666323 - 10/15/2023</td>\n      <td>sale</td>\n      <td>Apartment | Full ownership</td>\n      <td>6.0</td>\n      <td>...</td>\n      <td>Central</td>\n      <td>Cold/hot</td>\n      <td>E317 kWh/m² year</td>\n      <td>Milan</td>\n      <td>Cantalupa - San Paolo</td>\n      <td>Via Teramo</td>\n      <td>https://www.immobiliare.it/en/annunci/106666323/</td>\n      <td>0.0</td>\n      <td>1.0</td>\n      <td>2023-10-15</td>\n    </tr>\n  </tbody>\n</table>\n<p>341 rows × 26 columns</p>\n</div>"
     },
     "execution_count": 189,
     "metadata": {},
     "output_type": "execute_result"
    }
   ],
   "source": [
    "condition  = df['condominium fees'].isnull()\n",
    "subset = df[condition]\n",
    "subset"
   ],
   "metadata": {
    "collapsed": false,
    "ExecuteTime": {
     "end_time": "2023-10-31T15:12:21.184634700Z",
     "start_time": "2023-10-31T15:12:21.036478100Z"
    }
   },
   "id": "cc2f6c2e06a08fd0"
  },
  {
   "cell_type": "code",
   "execution_count": 190,
   "outputs": [],
   "source": [
    "df.loc[condition, 'condominium fees'] = new_values"
   ],
   "metadata": {
    "collapsed": false,
    "ExecuteTime": {
     "end_time": "2023-10-31T15:12:21.200416100Z",
     "start_time": "2023-10-31T15:12:21.058781100Z"
    }
   },
   "id": "eff6b25e0b5b3b88"
  },
  {
   "cell_type": "code",
   "execution_count": 191,
   "outputs": [],
   "source": [
    "df.index = range(df.shape[0])"
   ],
   "metadata": {
    "collapsed": false,
    "ExecuteTime": {
     "end_time": "2023-10-31T15:12:21.200416100Z",
     "start_time": "2023-10-31T15:12:21.063507200Z"
    }
   },
   "id": "8b78b2539ee1b68f"
  },
  {
   "cell_type": "code",
   "execution_count": 192,
   "outputs": [
    {
     "data": {
      "text/plain": "      price_euro  number_rooms  area_m2  bathrooms floor_number  \\\n0       289000.0             3      100          1            4   \n1       398000.0             2       78          1            2   \n2       420000.0             3       85          1            2   \n3       780000.0             3       80          1            5   \n4       395000.0             2       50          1            4   \n...          ...           ...      ...        ...          ...   \n1611    134000.0             2       45          1            0   \n1612    369000.0             3       90          2            8   \n1613    160000.0             2       54          1            0   \n1614    299000.0             2       50          1            5   \n1615    450000.0             3       94          1            2   \n\n                                            description  \\\n0     Si propone in vendita in esclusiva un ampio ap...   \n1     RIF: Divina Servizi Immobiliari di Seregno, Pi...   \n2     Zona Crescenzago e più precisamente in Via Pri...   \n3     Ref: ST6 - Tempocasa in Via Bergamo 11 offers ...   \n4     Rif: D319 - STAI CERCANDO UN BILOCALE RISTRUTT...   \n...                                                 ...   \n1611  via carolina invernizio - in a 90s building, w...   \n1612  Agenzia Tecnocasa propone in Vendita Trilocale...   \n1613  via carolina invernizio - in a 90s building, w...   \n1614  ARE YOU LOOKING FOR A PERFECT TWO-ROOM APARTME...   \n1615  Rif: GG42 - INTERNO: la soluzione proposta è u...   \n\n       Reference and listing Date contract  \\\n0               CNB6 - 10/24/2023     sale   \n1       EK-106888689 - 10/24/2023     sale   \n2     CS- Vittorelli - 10/24/2023     sale   \n3                ST6 - 10/24/2023     sale   \n4               D319 - 10/24/2023     sale   \n...                           ...      ...   \n1611  134 INVERNIZIO - 10/14/2023     sale   \n1612        60812383 - 10/14/2023     sale   \n1613  160 INVERNIZIO - 10/14/2023     sale   \n1614       sabotino7 - 10/14/2023     sale   \n1615            GG42 - 10/14/2023     sale   \n\n                                                   type  \\\n0     Apartment | Full ownership | Stately property ...   \n1     Apartment | Full ownership | Stately property ...   \n2     Apartment | Full ownership | Stately property ...   \n3     Apartment | Full ownership | Stately property ...   \n4     Apartment | Full ownership | Stately property ...   \n...                                                 ...   \n1611  Apartment | Full ownership | Medium property c...   \n1612  Apartment | Full ownership | Stately property ...   \n1613  Apartment | Full ownership | Medium property c...   \n1614  Apartment | Full ownership | Stately property ...   \n1615  Apartment | Full ownership | Medium property c...   \n\n      total building floors  ...  \\\n0                       7.0  ...   \n1                       3.0  ...   \n2                       5.0  ...   \n3                       5.0  ...   \n4                       4.0  ...   \n...                     ...  ...   \n1611                    6.0  ...   \n1612                   10.0  ...   \n1613                    6.0  ...   \n1614                    5.0  ...   \n1615                    6.0  ...   \n\n                                              heating        Air conditioner  \\\n0         Central, with radiators, powered by methane          Central, cold   \n1                Central, with radiators, gas powered                    NaN   \n2                 Central, floor heating, gas powered  System predisposition   \n3     Independent, with radiators, powered by methane      Independent, cold   \n4     Independent, with radiators, powered by methane      Independent, cold   \n...                                               ...                    ...   \n1611   Independent, air heating, powered by heat pump  Independent, cold/hot   \n1612      Central, with radiators, powered by methane  Independent, cold/hot   \n1613   Independent, air heating, powered by heat pump  Independent, cold/hot   \n1614                          Central, with radiators                    NaN   \n1615       Central, floor heating, powered by methane                    NaN   \n\n         Energy Efficiency   city                   neighborhood  \\\n0       F≥ 175 kWh/m² year  Milan                         Baggio   \n1       F232.6 kWh/m² year  Milan              Argonne - Corsica   \n2     A1≥ 3,51 kWh/m² year  Milan                    Crescenzago   \n3         E109 kWh/m² year  Milan  Porta Romana - Medaglie d'Oro   \n4      G188.82 kWh/m² year  Milan                 Porta Vittoria   \n...                    ...    ...                            ...   \n1611    F≥ 175 kWh/m² year  Milan                         Vialba   \n1612    D76.45 kWh/m² year  Milan                    Giambellino   \n1613    F≥ 175 kWh/m² year  Milan                         Vialba   \n1614    F≥ 175 kWh/m² year  Milan  Porta Romana - Medaglie d'Oro   \n1615   F220.35 kWh/m² year  Milan                       Centrale   \n\n                         street  \\\n0             Via Val Cannobina   \n1                     Via Druso   \n2         Via Jacopo Vittorelli   \n3     Via Gerolamo Tiraboschi 6   \n4           Corso XXII Marzo 39   \n...                         ...   \n1611    Via Carolina Invernizio   \n1612        Via Francesco Gonin   \n1613    Via Carolina Invernizio   \n1614             Viale Sabotino   \n1615           Via Ponte Seveso   \n\n                                                   URL with_disabled_access  \\\n0     https://www.immobiliare.it/en/annunci/106903681/                  1.0   \n1     https://www.immobiliare.it/en/annunci/106888689/                  0.0   \n2     https://www.immobiliare.it/en/annunci/106892137/                  1.0   \n3     https://www.immobiliare.it/en/annunci/106889543/                  0.0   \n4     https://www.immobiliare.it/en/annunci/106894335/                  0.0   \n...                                                ...                  ...   \n1611  https://www.immobiliare.it/en/annunci/106660647/                  1.0   \n1612  https://www.immobiliare.it/en/annunci/106659427/                  1.0   \n1613  https://www.immobiliare.it/en/annunci/106660639/                  1.0   \n1614  https://www.immobiliare.it/en/annunci/106656557/                  0.0   \n1615  https://www.immobiliare.it/en/annunci/106654875/                  0.0   \n\n     with_lift listing Date  \n0          1.0   2023-10-24  \n1          1.0   2023-10-24  \n2          1.0   2023-10-24  \n3          1.0   2023-10-24  \n4          1.0   2023-10-24  \n...        ...          ...  \n1611       1.0   2023-10-14  \n1612       1.0   2023-10-14  \n1613       1.0   2023-10-14  \n1614       1.0   2023-10-14  \n1615       1.0   2023-10-14  \n\n[1616 rows x 26 columns]",
      "text/html": "<div>\n<style scoped>\n    .dataframe tbody tr th:only-of-type {\n        vertical-align: middle;\n    }\n\n    .dataframe tbody tr th {\n        vertical-align: top;\n    }\n\n    .dataframe thead th {\n        text-align: right;\n    }\n</style>\n<table border=\"1\" class=\"dataframe\">\n  <thead>\n    <tr style=\"text-align: right;\">\n      <th></th>\n      <th>price_euro</th>\n      <th>number_rooms</th>\n      <th>area_m2</th>\n      <th>bathrooms</th>\n      <th>floor_number</th>\n      <th>description</th>\n      <th>Reference and listing Date</th>\n      <th>contract</th>\n      <th>type</th>\n      <th>total building floors</th>\n      <th>...</th>\n      <th>heating</th>\n      <th>Air conditioner</th>\n      <th>Energy Efficiency</th>\n      <th>city</th>\n      <th>neighborhood</th>\n      <th>street</th>\n      <th>URL</th>\n      <th>with_disabled_access</th>\n      <th>with_lift</th>\n      <th>listing Date</th>\n    </tr>\n  </thead>\n  <tbody>\n    <tr>\n      <th>0</th>\n      <td>289000.0</td>\n      <td>3</td>\n      <td>100</td>\n      <td>1</td>\n      <td>4</td>\n      <td>Si propone in vendita in esclusiva un ampio ap...</td>\n      <td>CNB6 - 10/24/2023</td>\n      <td>sale</td>\n      <td>Apartment | Full ownership | Stately property ...</td>\n      <td>7.0</td>\n      <td>...</td>\n      <td>Central, with radiators, powered by methane</td>\n      <td>Central, cold</td>\n      <td>F≥ 175 kWh/m² year</td>\n      <td>Milan</td>\n      <td>Baggio</td>\n      <td>Via Val Cannobina</td>\n      <td>https://www.immobiliare.it/en/annunci/106903681/</td>\n      <td>1.0</td>\n      <td>1.0</td>\n      <td>2023-10-24</td>\n    </tr>\n    <tr>\n      <th>1</th>\n      <td>398000.0</td>\n      <td>2</td>\n      <td>78</td>\n      <td>1</td>\n      <td>2</td>\n      <td>RIF: Divina Servizi Immobiliari di Seregno, Pi...</td>\n      <td>EK-106888689 - 10/24/2023</td>\n      <td>sale</td>\n      <td>Apartment | Full ownership | Stately property ...</td>\n      <td>3.0</td>\n      <td>...</td>\n      <td>Central, with radiators, gas powered</td>\n      <td>NaN</td>\n      <td>F232.6 kWh/m² year</td>\n      <td>Milan</td>\n      <td>Argonne - Corsica</td>\n      <td>Via Druso</td>\n      <td>https://www.immobiliare.it/en/annunci/106888689/</td>\n      <td>0.0</td>\n      <td>1.0</td>\n      <td>2023-10-24</td>\n    </tr>\n    <tr>\n      <th>2</th>\n      <td>420000.0</td>\n      <td>3</td>\n      <td>85</td>\n      <td>1</td>\n      <td>2</td>\n      <td>Zona Crescenzago e più precisamente in Via Pri...</td>\n      <td>CS- Vittorelli - 10/24/2023</td>\n      <td>sale</td>\n      <td>Apartment | Full ownership | Stately property ...</td>\n      <td>5.0</td>\n      <td>...</td>\n      <td>Central, floor heating, gas powered</td>\n      <td>System predisposition</td>\n      <td>A1≥ 3,51 kWh/m² year</td>\n      <td>Milan</td>\n      <td>Crescenzago</td>\n      <td>Via Jacopo Vittorelli</td>\n      <td>https://www.immobiliare.it/en/annunci/106892137/</td>\n      <td>1.0</td>\n      <td>1.0</td>\n      <td>2023-10-24</td>\n    </tr>\n    <tr>\n      <th>3</th>\n      <td>780000.0</td>\n      <td>3</td>\n      <td>80</td>\n      <td>1</td>\n      <td>5</td>\n      <td>Ref: ST6 - Tempocasa in Via Bergamo 11 offers ...</td>\n      <td>ST6 - 10/24/2023</td>\n      <td>sale</td>\n      <td>Apartment | Full ownership | Stately property ...</td>\n      <td>5.0</td>\n      <td>...</td>\n      <td>Independent, with radiators, powered by methane</td>\n      <td>Independent, cold</td>\n      <td>E109 kWh/m² year</td>\n      <td>Milan</td>\n      <td>Porta Romana - Medaglie d'Oro</td>\n      <td>Via Gerolamo Tiraboschi 6</td>\n      <td>https://www.immobiliare.it/en/annunci/106889543/</td>\n      <td>0.0</td>\n      <td>1.0</td>\n      <td>2023-10-24</td>\n    </tr>\n    <tr>\n      <th>4</th>\n      <td>395000.0</td>\n      <td>2</td>\n      <td>50</td>\n      <td>1</td>\n      <td>4</td>\n      <td>Rif: D319 - STAI CERCANDO UN BILOCALE RISTRUTT...</td>\n      <td>D319 - 10/24/2023</td>\n      <td>sale</td>\n      <td>Apartment | Full ownership | Stately property ...</td>\n      <td>4.0</td>\n      <td>...</td>\n      <td>Independent, with radiators, powered by methane</td>\n      <td>Independent, cold</td>\n      <td>G188.82 kWh/m² year</td>\n      <td>Milan</td>\n      <td>Porta Vittoria</td>\n      <td>Corso XXII Marzo 39</td>\n      <td>https://www.immobiliare.it/en/annunci/106894335/</td>\n      <td>0.0</td>\n      <td>1.0</td>\n      <td>2023-10-24</td>\n    </tr>\n    <tr>\n      <th>...</th>\n      <td>...</td>\n      <td>...</td>\n      <td>...</td>\n      <td>...</td>\n      <td>...</td>\n      <td>...</td>\n      <td>...</td>\n      <td>...</td>\n      <td>...</td>\n      <td>...</td>\n      <td>...</td>\n      <td>...</td>\n      <td>...</td>\n      <td>...</td>\n      <td>...</td>\n      <td>...</td>\n      <td>...</td>\n      <td>...</td>\n      <td>...</td>\n      <td>...</td>\n      <td>...</td>\n    </tr>\n    <tr>\n      <th>1611</th>\n      <td>134000.0</td>\n      <td>2</td>\n      <td>45</td>\n      <td>1</td>\n      <td>0</td>\n      <td>via carolina invernizio - in a 90s building, w...</td>\n      <td>134 INVERNIZIO - 10/14/2023</td>\n      <td>sale</td>\n      <td>Apartment | Full ownership | Medium property c...</td>\n      <td>6.0</td>\n      <td>...</td>\n      <td>Independent, air heating, powered by heat pump</td>\n      <td>Independent, cold/hot</td>\n      <td>F≥ 175 kWh/m² year</td>\n      <td>Milan</td>\n      <td>Vialba</td>\n      <td>Via Carolina Invernizio</td>\n      <td>https://www.immobiliare.it/en/annunci/106660647/</td>\n      <td>1.0</td>\n      <td>1.0</td>\n      <td>2023-10-14</td>\n    </tr>\n    <tr>\n      <th>1612</th>\n      <td>369000.0</td>\n      <td>3</td>\n      <td>90</td>\n      <td>2</td>\n      <td>8</td>\n      <td>Agenzia Tecnocasa propone in Vendita Trilocale...</td>\n      <td>60812383 - 10/14/2023</td>\n      <td>sale</td>\n      <td>Apartment | Full ownership | Stately property ...</td>\n      <td>10.0</td>\n      <td>...</td>\n      <td>Central, with radiators, powered by methane</td>\n      <td>Independent, cold/hot</td>\n      <td>D76.45 kWh/m² year</td>\n      <td>Milan</td>\n      <td>Giambellino</td>\n      <td>Via Francesco Gonin</td>\n      <td>https://www.immobiliare.it/en/annunci/106659427/</td>\n      <td>1.0</td>\n      <td>1.0</td>\n      <td>2023-10-14</td>\n    </tr>\n    <tr>\n      <th>1613</th>\n      <td>160000.0</td>\n      <td>2</td>\n      <td>54</td>\n      <td>1</td>\n      <td>0</td>\n      <td>via carolina invernizio - in a 90s building, w...</td>\n      <td>160 INVERNIZIO - 10/14/2023</td>\n      <td>sale</td>\n      <td>Apartment | Full ownership | Medium property c...</td>\n      <td>6.0</td>\n      <td>...</td>\n      <td>Independent, air heating, powered by heat pump</td>\n      <td>Independent, cold/hot</td>\n      <td>F≥ 175 kWh/m² year</td>\n      <td>Milan</td>\n      <td>Vialba</td>\n      <td>Via Carolina Invernizio</td>\n      <td>https://www.immobiliare.it/en/annunci/106660639/</td>\n      <td>1.0</td>\n      <td>1.0</td>\n      <td>2023-10-14</td>\n    </tr>\n    <tr>\n      <th>1614</th>\n      <td>299000.0</td>\n      <td>2</td>\n      <td>50</td>\n      <td>1</td>\n      <td>5</td>\n      <td>ARE YOU LOOKING FOR A PERFECT TWO-ROOM APARTME...</td>\n      <td>sabotino7 - 10/14/2023</td>\n      <td>sale</td>\n      <td>Apartment | Full ownership | Stately property ...</td>\n      <td>5.0</td>\n      <td>...</td>\n      <td>Central, with radiators</td>\n      <td>NaN</td>\n      <td>F≥ 175 kWh/m² year</td>\n      <td>Milan</td>\n      <td>Porta Romana - Medaglie d'Oro</td>\n      <td>Viale Sabotino</td>\n      <td>https://www.immobiliare.it/en/annunci/106656557/</td>\n      <td>0.0</td>\n      <td>1.0</td>\n      <td>2023-10-14</td>\n    </tr>\n    <tr>\n      <th>1615</th>\n      <td>450000.0</td>\n      <td>3</td>\n      <td>94</td>\n      <td>1</td>\n      <td>2</td>\n      <td>Rif: GG42 - INTERNO: la soluzione proposta è u...</td>\n      <td>GG42 - 10/14/2023</td>\n      <td>sale</td>\n      <td>Apartment | Full ownership | Medium property c...</td>\n      <td>6.0</td>\n      <td>...</td>\n      <td>Central, floor heating, powered by methane</td>\n      <td>NaN</td>\n      <td>F220.35 kWh/m² year</td>\n      <td>Milan</td>\n      <td>Centrale</td>\n      <td>Via Ponte Seveso</td>\n      <td>https://www.immobiliare.it/en/annunci/106654875/</td>\n      <td>0.0</td>\n      <td>1.0</td>\n      <td>2023-10-14</td>\n    </tr>\n  </tbody>\n</table>\n<p>1616 rows × 26 columns</p>\n</div>"
     },
     "execution_count": 192,
     "metadata": {},
     "output_type": "execute_result"
    }
   ],
   "source": [
    "df"
   ],
   "metadata": {
    "collapsed": false,
    "ExecuteTime": {
     "end_time": "2023-10-31T15:12:21.210484700Z",
     "start_time": "2023-10-31T15:12:21.070266800Z"
    }
   },
   "id": "5d48cad57440e977"
  },
  {
   "cell_type": "code",
   "execution_count": 193,
   "outputs": [],
   "source": [
    "df.to_csv('milano_house_prices_raw_data_cleaned.csv')"
   ],
   "metadata": {
    "collapsed": false,
    "ExecuteTime": {
     "end_time": "2023-10-31T15:12:21.332909Z",
     "start_time": "2023-10-31T15:12:21.095893500Z"
    }
   },
   "id": "b12f50bba623a06"
  },
  {
   "cell_type": "code",
   "execution_count": 194,
   "outputs": [
    {
     "data": {
      "text/plain": "      Unnamed: 0  price_euro  number_rooms  area_m2  bathrooms floor_number  \\\n0              0    289000.0             3      100          1            4   \n1              1    398000.0             2       78          1            2   \n2              2    420000.0             3       85          1            2   \n3              3    780000.0             3       80          1            5   \n4              4    395000.0             2       50          1            4   \n...          ...         ...           ...      ...        ...          ...   \n1611        1611    134000.0             2       45          1            0   \n1612        1612    369000.0             3       90          2            8   \n1613        1613    160000.0             2       54          1            0   \n1614        1614    299000.0             2       50          1            5   \n1615        1615    450000.0             3       94          1            2   \n\n                                            description  \\\n0     Si propone in vendita in esclusiva un ampio ap...   \n1     RIF: Divina Servizi Immobiliari di Seregno, Pi...   \n2     Zona Crescenzago e più precisamente in Via Pri...   \n3     Ref: ST6 - Tempocasa in Via Bergamo 11 offers ...   \n4     Rif: D319 - STAI CERCANDO UN BILOCALE RISTRUTT...   \n...                                                 ...   \n1611  via carolina invernizio - in a 90s building, w...   \n1612  Agenzia Tecnocasa propone in Vendita Trilocale...   \n1613  via carolina invernizio - in a 90s building, w...   \n1614  ARE YOU LOOKING FOR A PERFECT TWO-ROOM APARTME...   \n1615  Rif: GG42 - INTERNO: la soluzione proposta è u...   \n\n       Reference and listing Date contract  \\\n0               CNB6 - 10/24/2023     sale   \n1       EK-106888689 - 10/24/2023     sale   \n2     CS- Vittorelli - 10/24/2023     sale   \n3                ST6 - 10/24/2023     sale   \n4               D319 - 10/24/2023     sale   \n...                           ...      ...   \n1611  134 INVERNIZIO - 10/14/2023     sale   \n1612        60812383 - 10/14/2023     sale   \n1613  160 INVERNIZIO - 10/14/2023     sale   \n1614       sabotino7 - 10/14/2023     sale   \n1615            GG42 - 10/14/2023     sale   \n\n                                                   type  ...  \\\n0     Apartment | Full ownership | Stately property ...  ...   \n1     Apartment | Full ownership | Stately property ...  ...   \n2     Apartment | Full ownership | Stately property ...  ...   \n3     Apartment | Full ownership | Stately property ...  ...   \n4     Apartment | Full ownership | Stately property ...  ...   \n...                                                 ...  ...   \n1611  Apartment | Full ownership | Medium property c...  ...   \n1612  Apartment | Full ownership | Stately property ...  ...   \n1613  Apartment | Full ownership | Medium property c...  ...   \n1614  Apartment | Full ownership | Stately property ...  ...   \n1615  Apartment | Full ownership | Medium property c...  ...   \n\n                                              heating        Air conditioner  \\\n0         Central, with radiators, powered by methane          Central, cold   \n1                Central, with radiators, gas powered                    NaN   \n2                 Central, floor heating, gas powered  System predisposition   \n3     Independent, with radiators, powered by methane      Independent, cold   \n4     Independent, with radiators, powered by methane      Independent, cold   \n...                                               ...                    ...   \n1611   Independent, air heating, powered by heat pump  Independent, cold/hot   \n1612      Central, with radiators, powered by methane  Independent, cold/hot   \n1613   Independent, air heating, powered by heat pump  Independent, cold/hot   \n1614                          Central, with radiators                    NaN   \n1615       Central, floor heating, powered by methane                    NaN   \n\n         Energy Efficiency   city                   neighborhood  \\\n0       F≥ 175 kWh/m² year  Milan                         Baggio   \n1       F232.6 kWh/m² year  Milan              Argonne - Corsica   \n2     A1≥ 3,51 kWh/m² year  Milan                    Crescenzago   \n3         E109 kWh/m² year  Milan  Porta Romana - Medaglie d'Oro   \n4      G188.82 kWh/m² year  Milan                 Porta Vittoria   \n...                    ...    ...                            ...   \n1611    F≥ 175 kWh/m² year  Milan                         Vialba   \n1612    D76.45 kWh/m² year  Milan                    Giambellino   \n1613    F≥ 175 kWh/m² year  Milan                         Vialba   \n1614    F≥ 175 kWh/m² year  Milan  Porta Romana - Medaglie d'Oro   \n1615   F220.35 kWh/m² year  Milan                       Centrale   \n\n                         street  \\\n0             Via Val Cannobina   \n1                     Via Druso   \n2         Via Jacopo Vittorelli   \n3     Via Gerolamo Tiraboschi 6   \n4           Corso XXII Marzo 39   \n...                         ...   \n1611    Via Carolina Invernizio   \n1612        Via Francesco Gonin   \n1613    Via Carolina Invernizio   \n1614             Viale Sabotino   \n1615           Via Ponte Seveso   \n\n                                                   URL with_disabled_access  \\\n0     https://www.immobiliare.it/en/annunci/106903681/                  1.0   \n1     https://www.immobiliare.it/en/annunci/106888689/                  0.0   \n2     https://www.immobiliare.it/en/annunci/106892137/                  1.0   \n3     https://www.immobiliare.it/en/annunci/106889543/                  0.0   \n4     https://www.immobiliare.it/en/annunci/106894335/                  0.0   \n...                                                ...                  ...   \n1611  https://www.immobiliare.it/en/annunci/106660647/                  1.0   \n1612  https://www.immobiliare.it/en/annunci/106659427/                  1.0   \n1613  https://www.immobiliare.it/en/annunci/106660639/                  1.0   \n1614  https://www.immobiliare.it/en/annunci/106656557/                  0.0   \n1615  https://www.immobiliare.it/en/annunci/106654875/                  0.0   \n\n     with_lift listing Date  \n0          1.0   2023-10-24  \n1          1.0   2023-10-24  \n2          1.0   2023-10-24  \n3          1.0   2023-10-24  \n4          1.0   2023-10-24  \n...        ...          ...  \n1611       1.0   2023-10-14  \n1612       1.0   2023-10-14  \n1613       1.0   2023-10-14  \n1614       1.0   2023-10-14  \n1615       1.0   2023-10-14  \n\n[1616 rows x 27 columns]",
      "text/html": "<div>\n<style scoped>\n    .dataframe tbody tr th:only-of-type {\n        vertical-align: middle;\n    }\n\n    .dataframe tbody tr th {\n        vertical-align: top;\n    }\n\n    .dataframe thead th {\n        text-align: right;\n    }\n</style>\n<table border=\"1\" class=\"dataframe\">\n  <thead>\n    <tr style=\"text-align: right;\">\n      <th></th>\n      <th>Unnamed: 0</th>\n      <th>price_euro</th>\n      <th>number_rooms</th>\n      <th>area_m2</th>\n      <th>bathrooms</th>\n      <th>floor_number</th>\n      <th>description</th>\n      <th>Reference and listing Date</th>\n      <th>contract</th>\n      <th>type</th>\n      <th>...</th>\n      <th>heating</th>\n      <th>Air conditioner</th>\n      <th>Energy Efficiency</th>\n      <th>city</th>\n      <th>neighborhood</th>\n      <th>street</th>\n      <th>URL</th>\n      <th>with_disabled_access</th>\n      <th>with_lift</th>\n      <th>listing Date</th>\n    </tr>\n  </thead>\n  <tbody>\n    <tr>\n      <th>0</th>\n      <td>0</td>\n      <td>289000.0</td>\n      <td>3</td>\n      <td>100</td>\n      <td>1</td>\n      <td>4</td>\n      <td>Si propone in vendita in esclusiva un ampio ap...</td>\n      <td>CNB6 - 10/24/2023</td>\n      <td>sale</td>\n      <td>Apartment | Full ownership | Stately property ...</td>\n      <td>...</td>\n      <td>Central, with radiators, powered by methane</td>\n      <td>Central, cold</td>\n      <td>F≥ 175 kWh/m² year</td>\n      <td>Milan</td>\n      <td>Baggio</td>\n      <td>Via Val Cannobina</td>\n      <td>https://www.immobiliare.it/en/annunci/106903681/</td>\n      <td>1.0</td>\n      <td>1.0</td>\n      <td>2023-10-24</td>\n    </tr>\n    <tr>\n      <th>1</th>\n      <td>1</td>\n      <td>398000.0</td>\n      <td>2</td>\n      <td>78</td>\n      <td>1</td>\n      <td>2</td>\n      <td>RIF: Divina Servizi Immobiliari di Seregno, Pi...</td>\n      <td>EK-106888689 - 10/24/2023</td>\n      <td>sale</td>\n      <td>Apartment | Full ownership | Stately property ...</td>\n      <td>...</td>\n      <td>Central, with radiators, gas powered</td>\n      <td>NaN</td>\n      <td>F232.6 kWh/m² year</td>\n      <td>Milan</td>\n      <td>Argonne - Corsica</td>\n      <td>Via Druso</td>\n      <td>https://www.immobiliare.it/en/annunci/106888689/</td>\n      <td>0.0</td>\n      <td>1.0</td>\n      <td>2023-10-24</td>\n    </tr>\n    <tr>\n      <th>2</th>\n      <td>2</td>\n      <td>420000.0</td>\n      <td>3</td>\n      <td>85</td>\n      <td>1</td>\n      <td>2</td>\n      <td>Zona Crescenzago e più precisamente in Via Pri...</td>\n      <td>CS- Vittorelli - 10/24/2023</td>\n      <td>sale</td>\n      <td>Apartment | Full ownership | Stately property ...</td>\n      <td>...</td>\n      <td>Central, floor heating, gas powered</td>\n      <td>System predisposition</td>\n      <td>A1≥ 3,51 kWh/m² year</td>\n      <td>Milan</td>\n      <td>Crescenzago</td>\n      <td>Via Jacopo Vittorelli</td>\n      <td>https://www.immobiliare.it/en/annunci/106892137/</td>\n      <td>1.0</td>\n      <td>1.0</td>\n      <td>2023-10-24</td>\n    </tr>\n    <tr>\n      <th>3</th>\n      <td>3</td>\n      <td>780000.0</td>\n      <td>3</td>\n      <td>80</td>\n      <td>1</td>\n      <td>5</td>\n      <td>Ref: ST6 - Tempocasa in Via Bergamo 11 offers ...</td>\n      <td>ST6 - 10/24/2023</td>\n      <td>sale</td>\n      <td>Apartment | Full ownership | Stately property ...</td>\n      <td>...</td>\n      <td>Independent, with radiators, powered by methane</td>\n      <td>Independent, cold</td>\n      <td>E109 kWh/m² year</td>\n      <td>Milan</td>\n      <td>Porta Romana - Medaglie d'Oro</td>\n      <td>Via Gerolamo Tiraboschi 6</td>\n      <td>https://www.immobiliare.it/en/annunci/106889543/</td>\n      <td>0.0</td>\n      <td>1.0</td>\n      <td>2023-10-24</td>\n    </tr>\n    <tr>\n      <th>4</th>\n      <td>4</td>\n      <td>395000.0</td>\n      <td>2</td>\n      <td>50</td>\n      <td>1</td>\n      <td>4</td>\n      <td>Rif: D319 - STAI CERCANDO UN BILOCALE RISTRUTT...</td>\n      <td>D319 - 10/24/2023</td>\n      <td>sale</td>\n      <td>Apartment | Full ownership | Stately property ...</td>\n      <td>...</td>\n      <td>Independent, with radiators, powered by methane</td>\n      <td>Independent, cold</td>\n      <td>G188.82 kWh/m² year</td>\n      <td>Milan</td>\n      <td>Porta Vittoria</td>\n      <td>Corso XXII Marzo 39</td>\n      <td>https://www.immobiliare.it/en/annunci/106894335/</td>\n      <td>0.0</td>\n      <td>1.0</td>\n      <td>2023-10-24</td>\n    </tr>\n    <tr>\n      <th>...</th>\n      <td>...</td>\n      <td>...</td>\n      <td>...</td>\n      <td>...</td>\n      <td>...</td>\n      <td>...</td>\n      <td>...</td>\n      <td>...</td>\n      <td>...</td>\n      <td>...</td>\n      <td>...</td>\n      <td>...</td>\n      <td>...</td>\n      <td>...</td>\n      <td>...</td>\n      <td>...</td>\n      <td>...</td>\n      <td>...</td>\n      <td>...</td>\n      <td>...</td>\n      <td>...</td>\n    </tr>\n    <tr>\n      <th>1611</th>\n      <td>1611</td>\n      <td>134000.0</td>\n      <td>2</td>\n      <td>45</td>\n      <td>1</td>\n      <td>0</td>\n      <td>via carolina invernizio - in a 90s building, w...</td>\n      <td>134 INVERNIZIO - 10/14/2023</td>\n      <td>sale</td>\n      <td>Apartment | Full ownership | Medium property c...</td>\n      <td>...</td>\n      <td>Independent, air heating, powered by heat pump</td>\n      <td>Independent, cold/hot</td>\n      <td>F≥ 175 kWh/m² year</td>\n      <td>Milan</td>\n      <td>Vialba</td>\n      <td>Via Carolina Invernizio</td>\n      <td>https://www.immobiliare.it/en/annunci/106660647/</td>\n      <td>1.0</td>\n      <td>1.0</td>\n      <td>2023-10-14</td>\n    </tr>\n    <tr>\n      <th>1612</th>\n      <td>1612</td>\n      <td>369000.0</td>\n      <td>3</td>\n      <td>90</td>\n      <td>2</td>\n      <td>8</td>\n      <td>Agenzia Tecnocasa propone in Vendita Trilocale...</td>\n      <td>60812383 - 10/14/2023</td>\n      <td>sale</td>\n      <td>Apartment | Full ownership | Stately property ...</td>\n      <td>...</td>\n      <td>Central, with radiators, powered by methane</td>\n      <td>Independent, cold/hot</td>\n      <td>D76.45 kWh/m² year</td>\n      <td>Milan</td>\n      <td>Giambellino</td>\n      <td>Via Francesco Gonin</td>\n      <td>https://www.immobiliare.it/en/annunci/106659427/</td>\n      <td>1.0</td>\n      <td>1.0</td>\n      <td>2023-10-14</td>\n    </tr>\n    <tr>\n      <th>1613</th>\n      <td>1613</td>\n      <td>160000.0</td>\n      <td>2</td>\n      <td>54</td>\n      <td>1</td>\n      <td>0</td>\n      <td>via carolina invernizio - in a 90s building, w...</td>\n      <td>160 INVERNIZIO - 10/14/2023</td>\n      <td>sale</td>\n      <td>Apartment | Full ownership | Medium property c...</td>\n      <td>...</td>\n      <td>Independent, air heating, powered by heat pump</td>\n      <td>Independent, cold/hot</td>\n      <td>F≥ 175 kWh/m² year</td>\n      <td>Milan</td>\n      <td>Vialba</td>\n      <td>Via Carolina Invernizio</td>\n      <td>https://www.immobiliare.it/en/annunci/106660639/</td>\n      <td>1.0</td>\n      <td>1.0</td>\n      <td>2023-10-14</td>\n    </tr>\n    <tr>\n      <th>1614</th>\n      <td>1614</td>\n      <td>299000.0</td>\n      <td>2</td>\n      <td>50</td>\n      <td>1</td>\n      <td>5</td>\n      <td>ARE YOU LOOKING FOR A PERFECT TWO-ROOM APARTME...</td>\n      <td>sabotino7 - 10/14/2023</td>\n      <td>sale</td>\n      <td>Apartment | Full ownership | Stately property ...</td>\n      <td>...</td>\n      <td>Central, with radiators</td>\n      <td>NaN</td>\n      <td>F≥ 175 kWh/m² year</td>\n      <td>Milan</td>\n      <td>Porta Romana - Medaglie d'Oro</td>\n      <td>Viale Sabotino</td>\n      <td>https://www.immobiliare.it/en/annunci/106656557/</td>\n      <td>0.0</td>\n      <td>1.0</td>\n      <td>2023-10-14</td>\n    </tr>\n    <tr>\n      <th>1615</th>\n      <td>1615</td>\n      <td>450000.0</td>\n      <td>3</td>\n      <td>94</td>\n      <td>1</td>\n      <td>2</td>\n      <td>Rif: GG42 - INTERNO: la soluzione proposta è u...</td>\n      <td>GG42 - 10/14/2023</td>\n      <td>sale</td>\n      <td>Apartment | Full ownership | Medium property c...</td>\n      <td>...</td>\n      <td>Central, floor heating, powered by methane</td>\n      <td>NaN</td>\n      <td>F220.35 kWh/m² year</td>\n      <td>Milan</td>\n      <td>Centrale</td>\n      <td>Via Ponte Seveso</td>\n      <td>https://www.immobiliare.it/en/annunci/106654875/</td>\n      <td>0.0</td>\n      <td>1.0</td>\n      <td>2023-10-14</td>\n    </tr>\n  </tbody>\n</table>\n<p>1616 rows × 27 columns</p>\n</div>"
     },
     "execution_count": 194,
     "metadata": {},
     "output_type": "execute_result"
    }
   ],
   "source": [
    "df = pd.read_csv('milano_house_prices_raw_data_cleaned.csv')\n",
    "df"
   ],
   "metadata": {
    "collapsed": false,
    "ExecuteTime": {
     "end_time": "2023-10-31T15:12:21.332909Z",
     "start_time": "2023-10-31T15:12:21.174600900Z"
    }
   },
   "id": "596e360cae5f5dc8"
  }
 ],
 "metadata": {
  "kernelspec": {
   "display_name": "Python 3",
   "language": "python",
   "name": "python3"
  },
  "language_info": {
   "codemirror_mode": {
    "name": "ipython",
    "version": 2
   },
   "file_extension": ".py",
   "mimetype": "text/x-python",
   "name": "python",
   "nbconvert_exporter": "python",
   "pygments_lexer": "ipython2",
   "version": "2.7.6"
  }
 },
 "nbformat": 4,
 "nbformat_minor": 5
}

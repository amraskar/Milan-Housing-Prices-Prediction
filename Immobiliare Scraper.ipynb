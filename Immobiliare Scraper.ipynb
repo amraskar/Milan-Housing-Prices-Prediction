{
 "cells": [
  {
   "cell_type": "code",
   "execution_count": 1,
   "id": "initial_id",
   "metadata": {
    "collapsed": true,
    "ExecuteTime": {
     "end_time": "2023-10-24T19:58:38.150028200Z",
     "start_time": "2023-10-24T19:58:37.391516100Z"
    }
   },
   "outputs": [],
   "source": [
    "from bs4 import BeautifulSoup\n",
    "import pandas as pd\n",
    "import requests"
   ]
  },
  {
   "cell_type": "code",
   "execution_count": 2,
   "outputs": [],
   "source": [
    "page_1 = 'https://www.immobiliare.it/en/vendita-case/milano/'\n",
    "pages = [page_1]\n",
    "\n",
    "# Get pages from the 2nd page to the 80th page\n",
    "for page_number in range(2, 81):\n",
    "    url = 'https://www.immobiliare.it/en/vendita-case/milano/?pag=' + str(page_number)\n",
    "    pages.append(url)"
   ],
   "metadata": {
    "collapsed": false,
    "ExecuteTime": {
     "end_time": "2023-10-24T19:58:38.152553800Z",
     "start_time": "2023-10-24T19:58:38.150509600Z"
    }
   },
   "id": "7bfbfc2e4436d3b1"
  },
  {
   "cell_type": "code",
   "execution_count": 3,
   "outputs": [],
   "source": [
    "# Get all announcements\n",
    "announcements_urls = []\n",
    "\n",
    "for url in pages:\n",
    "    response = requests.get(url)\n",
    "    soup = BeautifulSoup(response.text, features='html.parser')\n",
    "    announcements = soup.select('.in-reListCard__title')\n",
    "    page_urls = [url.get(\"href\") for url in announcements]\n",
    "    announcements_urls.append(page_urls)"
   ],
   "metadata": {
    "collapsed": false,
    "ExecuteTime": {
     "end_time": "2023-10-24T19:59:12.817266600Z",
     "start_time": "2023-10-24T19:58:38.152553800Z"
    }
   },
   "id": "19ac1426192ae16c"
  },
  {
   "cell_type": "code",
   "execution_count": 4,
   "outputs": [
    {
     "data": {
      "text/plain": "['https://www.immobiliare.it/en/annunci/106903681/',\n 'https://www.immobiliare.it/en/annunci/106886279/',\n 'https://www.immobiliare.it/en/annunci/106888689/',\n 'https://www.immobiliare.it/en/annunci/106892137/',\n 'https://www.immobiliare.it/en/annunci/106889543/',\n 'https://www.immobiliare.it/en/annunci/106894335/',\n 'https://www.immobiliare.it/en/annunci/106893519/',\n 'https://www.immobiliare.it/en/annunci/106892721/',\n 'https://www.immobiliare.it/en/annunci/106897805/',\n 'https://www.immobiliare.it/en/annunci/106879571/',\n 'https://www.immobiliare.it/en/annunci/106895311/',\n 'https://www.immobiliare.it/en/annunci/106897733/',\n 'https://www.immobiliare.it/en/annunci/106884301/',\n 'https://www.immobiliare.it/en/annunci/106882809/',\n 'https://www.immobiliare.it/en/annunci/106884725/',\n 'https://www.immobiliare.it/en/annunci/106887925/',\n 'https://www.immobiliare.it/en/annunci/106890161/',\n 'https://www.immobiliare.it/en/annunci/106892053/',\n 'https://www.immobiliare.it/en/annunci/106898201/',\n 'https://www.immobiliare.it/en/annunci/106891875/']"
     },
     "execution_count": 4,
     "metadata": {},
     "output_type": "execute_result"
    }
   ],
   "source": [
    "# It combines all the URLs into a single flat list.(used to flatten announcements_urls)\n",
    "all_announcements_urls = [url for page in announcements_urls for url in page]\n",
    "all_announcements_urls[:20]"
   ],
   "metadata": {
    "collapsed": false,
    "ExecuteTime": {
     "end_time": "2023-10-24T19:59:12.835481700Z",
     "start_time": "2023-10-24T19:59:12.823645200Z"
    }
   },
   "id": "9837f03f41947d20"
  },
  {
   "cell_type": "code",
   "execution_count": 5,
   "outputs": [
    {
     "data": {
      "text/plain": "2000"
     },
     "execution_count": 5,
     "metadata": {},
     "output_type": "execute_result"
    }
   ],
   "source": [
    "len(all_announcements_urls)"
   ],
   "metadata": {
    "collapsed": false,
    "ExecuteTime": {
     "end_time": "2023-10-24T19:59:12.835986Z",
     "start_time": "2023-10-24T19:59:12.832916400Z"
    }
   },
   "id": "a9e279726211865a"
  },
  {
   "cell_type": "code",
   "execution_count": 6,
   "outputs": [],
   "source": [
    "# Go to each announcement and get all the information\n",
    "df_1 = pd.DataFrame()\n",
    "df_2 = pd.DataFrame()\n",
    "df_3 = pd.DataFrame()\n",
    "df_4 = pd.DataFrame()\n",
    "\n",
    "for index, url in enumerate(all_announcements_urls):\n",
    "    response = requests.get(url)\n",
    "    soup = BeautifulSoup(response.text, features='html.parser')\n",
    "    \n",
    "    main_data = soup.select('.nd-list__item.in-feat__item')\n",
    "    main_data_labels = ['price_euro', 'number_rooms', 'area_m2', 'bathrooms', 'floor_number']\n",
    "    main_data_values = [item.get_text() for item in main_data]\n",
    "    main_data_dict = dict(zip(main_data_labels, main_data_values))\n",
    "    \n",
    "    description = soup.select('.in-readAll.in-readAll--lessContent')\n",
    "    description_labels = ['description']\n",
    "    description_values = [item.get_text() for item in description]\n",
    "    description_dict = dict(zip(description_labels, description_values))\n",
    "    \n",
    "    other_features = soup.select('.in-realEstateFeatures__title')\n",
    "    other_features_labels = [item.get_text() for item in other_features]\n",
    "    other_features = soup.select('.in-realEstateFeatures__value')\n",
    "    other_features_values = [item.get_text() for item in other_features]\n",
    "    other_features_dict = dict(zip(other_features_labels, other_features_values))\n",
    "    \n",
    "    location = soup.select('.in-location')\n",
    "    location_labels = ['city', 'neighborhood', 'street']\n",
    "    location_values = [item.get_text() for item in location]\n",
    "    location_dict = dict(zip(location_labels, location_values))\n",
    "    \n",
    "    data_1 = pd.DataFrame(main_data_dict, index=[index])\n",
    "    data_2 = pd.DataFrame(description_dict, index=[index])\n",
    "    data_3 = pd.DataFrame(other_features_dict, index=[index])\n",
    "    data_4 = pd.DataFrame(location_dict, index=[index])\n",
    "    \n",
    "    df_1 = pd.concat([df_1, data_1])\n",
    "    df_2 = pd.concat([df_2, data_2])\n",
    "    df_3 = pd.concat([df_3, data_3])\n",
    "    df_4 = pd.concat([df_4, data_4])\n",
    "    \n",
    "# Put all the data in a dataframe\n",
    "data = pd.concat([df_1, df_2, df_3, df_4], axis=1)\n",
    "    \n",
    "data['URL'] = all_announcements_urls"
   ],
   "metadata": {
    "collapsed": false,
    "ExecuteTime": {
     "end_time": "2023-10-24T20:19:38.692587200Z",
     "start_time": "2023-10-24T19:59:12.835986Z"
    }
   },
   "id": "67e5ed09dbb9a93e"
  },
  {
   "cell_type": "code",
   "execution_count": 7,
   "outputs": [],
   "source": [
    "data.to_csv('milano_house_prices_raw_data_.csv')"
   ],
   "metadata": {
    "collapsed": false,
    "ExecuteTime": {
     "end_time": "2023-10-24T20:19:39.178157300Z",
     "start_time": "2023-10-24T20:19:38.692587200Z"
    }
   },
   "id": "1675428ebef27b1"
  },
  {
   "cell_type": "code",
   "execution_count": 8,
   "outputs": [
    {
     "data": {
      "text/plain": "     price_euro number_rooms area_m2 bathrooms floor_number  \\\n0     € 289,000            3   100m²         1            4   \n1     € 950,000        234m²       3         5          NaN   \n2     € 398,000            2    78m²         1            2   \n3     € 420,000            3    85m²         1            2   \n4     € 780,000            3    80m²         1            5   \n...         ...          ...     ...       ...          ...   \n1995  € 160,000            2    54m²         1            G   \n1996  € 214,000            2    70m²         1          NaN   \n1997  € 299,000            2    50m²         1            5   \n1998  € 450,000            3    94m²         1            2   \n1999  € 170,000            1    57m²         1          NaN   \n\n                                            description  \\\n0     Si propone in vendita in esclusiva un ampio ap...   \n1     A few steps from numerous neighborhood service...   \n2     RIF: Divina Servizi Immobiliari di Seregno, Pi...   \n3     Zona Crescenzago e più precisamente in Via Pri...   \n4     Ref: ST6 - Tempocasa in Via Bergamo 11 offers ...   \n...                                                 ...   \n1995  via carolina invernizio - in a 90s building, w...   \n1996  via carolina invernizio - in stabile anni 90, ...   \n1997  ARE YOU LOOKING FOR A PERFECT TWO-ROOM APARTME...   \n1998  Rif: GG42 - INTERNO: la soluzione proposta è u...   \n1999  via carolina invernizio - in stabile anni 90, ...   \n\n       Reference and listing Date                  contract  \\\n0               CNB6 - 10/24/2023                      Sale   \n1       LU.P5.R6_533 - 10/24/2023                      Sale   \n2       EK-106888689 - 10/24/2023                      Sale   \n3     CS- Vittorelli - 10/24/2023                      Sale   \n4                ST6 - 10/24/2023                      Sale   \n...                           ...                       ...   \n1995  160 INVERNIZIO - 10/14/2023  Sale - Download brochure   \n1996  214 INVERNIZIO - 10/14/2023  Sale - Download brochure   \n1997       sabotino7 - 10/14/2023                      Sale   \n1998            GG42 - 10/14/2023                      Sale   \n1999  170 INVERNIZIO - 10/14/2023  Sale - Download brochure   \n\n                                                   type              surface  \\\n0     Apartment | Full ownership | Stately property ...  100 m² - See detail   \n1     Apartment | Full ownership | Stately property ...  234 m² - See detail   \n2     Apartment | Full ownership | Stately property ...   78 m² - See detail   \n3     Apartment | Full ownership | Stately property ...   85 m² - See detail   \n4     Apartment | Full ownership | Stately property ...   80 m² - See detail   \n...                                                 ...                  ...   \n1995  Apartment | Full ownership | Medium property c...   54 m² - See detail   \n1996  Apartment | Full ownership | Medium property c...   70 m² - See detail   \n1997  Apartment | Full ownership | Stately property ...   50 m² - See detail   \n1998  Apartment | Full ownership | Medium property c...   94 m² - See detail   \n1999  Apartment | Full ownership | Medium property c...   57 m² - See detail   \n\n      ... Reference Delegato alla vendita Curatore Geometra unit  \\\n0     ...       NaN                   NaN      NaN      NaN  NaN   \n1     ...       NaN                   NaN      NaN      NaN  NaN   \n2     ...       NaN                   NaN      NaN      NaN  NaN   \n3     ...       NaN                   NaN      NaN      NaN  NaN   \n4     ...       NaN                   NaN      NaN      NaN  NaN   \n...   ...       ...                   ...      ...      ...  ...   \n1995  ...       NaN                   NaN      NaN      NaN  NaN   \n1996  ...       NaN                   NaN      NaN      NaN  NaN   \n1997  ...       NaN                   NaN      NaN      NaN  NaN   \n1998  ...       NaN                   NaN      NaN      NaN  NaN   \n1999  ...       NaN                   NaN      NaN      NaN  NaN   \n\n     Construction start and expected delivery date   city  \\\n0                                              NaN  Milan   \n1                                              NaN  Milan   \n2                                              NaN  Milan   \n3                                              NaN  Milan   \n4                                              NaN  Milan   \n...                                            ...    ...   \n1995                                           NaN  Milan   \n1996                                           NaN  Milan   \n1997                                           NaN  Milan   \n1998                                           NaN  Milan   \n1999                                           NaN  Milan   \n\n                       neighborhood                     street  \\\n0                            Baggio          Via Val Cannobina   \n1                       Ponte Nuovo            Via del Ricordo   \n2                 Argonne - Corsica                  Via Druso   \n3                       Crescenzago      Via Jacopo Vittorelli   \n4     Porta Romana - Medaglie d'Oro  Via Gerolamo Tiraboschi 6   \n...                             ...                        ...   \n1995                         Vialba    Via Carolina Invernizio   \n1996                         Vialba    Via Carolina Invernizio   \n1997  Porta Romana - Medaglie d'Oro             Viale Sabotino   \n1998                       Centrale           Via Ponte Seveso   \n1999                         Vialba    Via Carolina Invernizio   \n\n                                                   URL  \n0     https://www.immobiliare.it/en/annunci/106903681/  \n1     https://www.immobiliare.it/en/annunci/106886279/  \n2     https://www.immobiliare.it/en/annunci/106888689/  \n3     https://www.immobiliare.it/en/annunci/106892137/  \n4     https://www.immobiliare.it/en/annunci/106889543/  \n...                                                ...  \n1995  https://www.immobiliare.it/en/annunci/106660639/  \n1996  https://www.immobiliare.it/en/annunci/106660615/  \n1997  https://www.immobiliare.it/en/annunci/106656557/  \n1998  https://www.immobiliare.it/en/annunci/106654875/  \n1999  https://www.immobiliare.it/en/annunci/106660603/  \n\n[2000 rows x 69 columns]",
      "text/html": "<div>\n<style scoped>\n    .dataframe tbody tr th:only-of-type {\n        vertical-align: middle;\n    }\n\n    .dataframe tbody tr th {\n        vertical-align: top;\n    }\n\n    .dataframe thead th {\n        text-align: right;\n    }\n</style>\n<table border=\"1\" class=\"dataframe\">\n  <thead>\n    <tr style=\"text-align: right;\">\n      <th></th>\n      <th>price_euro</th>\n      <th>number_rooms</th>\n      <th>area_m2</th>\n      <th>bathrooms</th>\n      <th>floor_number</th>\n      <th>description</th>\n      <th>Reference and listing Date</th>\n      <th>contract</th>\n      <th>type</th>\n      <th>surface</th>\n      <th>...</th>\n      <th>Reference</th>\n      <th>Delegato alla vendita</th>\n      <th>Curatore</th>\n      <th>Geometra</th>\n      <th>unit</th>\n      <th>Construction start and expected delivery date</th>\n      <th>city</th>\n      <th>neighborhood</th>\n      <th>street</th>\n      <th>URL</th>\n    </tr>\n  </thead>\n  <tbody>\n    <tr>\n      <th>0</th>\n      <td>€ 289,000</td>\n      <td>3</td>\n      <td>100m²</td>\n      <td>1</td>\n      <td>4</td>\n      <td>Si propone in vendita in esclusiva un ampio ap...</td>\n      <td>CNB6 - 10/24/2023</td>\n      <td>Sale</td>\n      <td>Apartment | Full ownership | Stately property ...</td>\n      <td>100 m² - See detail</td>\n      <td>...</td>\n      <td>NaN</td>\n      <td>NaN</td>\n      <td>NaN</td>\n      <td>NaN</td>\n      <td>NaN</td>\n      <td>NaN</td>\n      <td>Milan</td>\n      <td>Baggio</td>\n      <td>Via Val Cannobina</td>\n      <td>https://www.immobiliare.it/en/annunci/106903681/</td>\n    </tr>\n    <tr>\n      <th>1</th>\n      <td>€ 950,000</td>\n      <td>234m²</td>\n      <td>3</td>\n      <td>5</td>\n      <td>NaN</td>\n      <td>A few steps from numerous neighborhood service...</td>\n      <td>LU.P5.R6_533 - 10/24/2023</td>\n      <td>Sale</td>\n      <td>Apartment | Full ownership | Stately property ...</td>\n      <td>234 m² - See detail</td>\n      <td>...</td>\n      <td>NaN</td>\n      <td>NaN</td>\n      <td>NaN</td>\n      <td>NaN</td>\n      <td>NaN</td>\n      <td>NaN</td>\n      <td>Milan</td>\n      <td>Ponte Nuovo</td>\n      <td>Via del Ricordo</td>\n      <td>https://www.immobiliare.it/en/annunci/106886279/</td>\n    </tr>\n    <tr>\n      <th>2</th>\n      <td>€ 398,000</td>\n      <td>2</td>\n      <td>78m²</td>\n      <td>1</td>\n      <td>2</td>\n      <td>RIF: Divina Servizi Immobiliari di Seregno, Pi...</td>\n      <td>EK-106888689 - 10/24/2023</td>\n      <td>Sale</td>\n      <td>Apartment | Full ownership | Stately property ...</td>\n      <td>78 m² - See detail</td>\n      <td>...</td>\n      <td>NaN</td>\n      <td>NaN</td>\n      <td>NaN</td>\n      <td>NaN</td>\n      <td>NaN</td>\n      <td>NaN</td>\n      <td>Milan</td>\n      <td>Argonne - Corsica</td>\n      <td>Via Druso</td>\n      <td>https://www.immobiliare.it/en/annunci/106888689/</td>\n    </tr>\n    <tr>\n      <th>3</th>\n      <td>€ 420,000</td>\n      <td>3</td>\n      <td>85m²</td>\n      <td>1</td>\n      <td>2</td>\n      <td>Zona Crescenzago e più precisamente in Via Pri...</td>\n      <td>CS- Vittorelli - 10/24/2023</td>\n      <td>Sale</td>\n      <td>Apartment | Full ownership | Stately property ...</td>\n      <td>85 m² - See detail</td>\n      <td>...</td>\n      <td>NaN</td>\n      <td>NaN</td>\n      <td>NaN</td>\n      <td>NaN</td>\n      <td>NaN</td>\n      <td>NaN</td>\n      <td>Milan</td>\n      <td>Crescenzago</td>\n      <td>Via Jacopo Vittorelli</td>\n      <td>https://www.immobiliare.it/en/annunci/106892137/</td>\n    </tr>\n    <tr>\n      <th>4</th>\n      <td>€ 780,000</td>\n      <td>3</td>\n      <td>80m²</td>\n      <td>1</td>\n      <td>5</td>\n      <td>Ref: ST6 - Tempocasa in Via Bergamo 11 offers ...</td>\n      <td>ST6 - 10/24/2023</td>\n      <td>Sale</td>\n      <td>Apartment | Full ownership | Stately property ...</td>\n      <td>80 m² - See detail</td>\n      <td>...</td>\n      <td>NaN</td>\n      <td>NaN</td>\n      <td>NaN</td>\n      <td>NaN</td>\n      <td>NaN</td>\n      <td>NaN</td>\n      <td>Milan</td>\n      <td>Porta Romana - Medaglie d'Oro</td>\n      <td>Via Gerolamo Tiraboschi 6</td>\n      <td>https://www.immobiliare.it/en/annunci/106889543/</td>\n    </tr>\n    <tr>\n      <th>...</th>\n      <td>...</td>\n      <td>...</td>\n      <td>...</td>\n      <td>...</td>\n      <td>...</td>\n      <td>...</td>\n      <td>...</td>\n      <td>...</td>\n      <td>...</td>\n      <td>...</td>\n      <td>...</td>\n      <td>...</td>\n      <td>...</td>\n      <td>...</td>\n      <td>...</td>\n      <td>...</td>\n      <td>...</td>\n      <td>...</td>\n      <td>...</td>\n      <td>...</td>\n      <td>...</td>\n    </tr>\n    <tr>\n      <th>1995</th>\n      <td>€ 160,000</td>\n      <td>2</td>\n      <td>54m²</td>\n      <td>1</td>\n      <td>G</td>\n      <td>via carolina invernizio - in a 90s building, w...</td>\n      <td>160 INVERNIZIO - 10/14/2023</td>\n      <td>Sale - Download brochure</td>\n      <td>Apartment | Full ownership | Medium property c...</td>\n      <td>54 m² - See detail</td>\n      <td>...</td>\n      <td>NaN</td>\n      <td>NaN</td>\n      <td>NaN</td>\n      <td>NaN</td>\n      <td>NaN</td>\n      <td>NaN</td>\n      <td>Milan</td>\n      <td>Vialba</td>\n      <td>Via Carolina Invernizio</td>\n      <td>https://www.immobiliare.it/en/annunci/106660639/</td>\n    </tr>\n    <tr>\n      <th>1996</th>\n      <td>€ 214,000</td>\n      <td>2</td>\n      <td>70m²</td>\n      <td>1</td>\n      <td>NaN</td>\n      <td>via carolina invernizio - in stabile anni 90, ...</td>\n      <td>214 INVERNIZIO - 10/14/2023</td>\n      <td>Sale - Download brochure</td>\n      <td>Apartment | Full ownership | Medium property c...</td>\n      <td>70 m² - See detail</td>\n      <td>...</td>\n      <td>NaN</td>\n      <td>NaN</td>\n      <td>NaN</td>\n      <td>NaN</td>\n      <td>NaN</td>\n      <td>NaN</td>\n      <td>Milan</td>\n      <td>Vialba</td>\n      <td>Via Carolina Invernizio</td>\n      <td>https://www.immobiliare.it/en/annunci/106660615/</td>\n    </tr>\n    <tr>\n      <th>1997</th>\n      <td>€ 299,000</td>\n      <td>2</td>\n      <td>50m²</td>\n      <td>1</td>\n      <td>5</td>\n      <td>ARE YOU LOOKING FOR A PERFECT TWO-ROOM APARTME...</td>\n      <td>sabotino7 - 10/14/2023</td>\n      <td>Sale</td>\n      <td>Apartment | Full ownership | Stately property ...</td>\n      <td>50 m² - See detail</td>\n      <td>...</td>\n      <td>NaN</td>\n      <td>NaN</td>\n      <td>NaN</td>\n      <td>NaN</td>\n      <td>NaN</td>\n      <td>NaN</td>\n      <td>Milan</td>\n      <td>Porta Romana - Medaglie d'Oro</td>\n      <td>Viale Sabotino</td>\n      <td>https://www.immobiliare.it/en/annunci/106656557/</td>\n    </tr>\n    <tr>\n      <th>1998</th>\n      <td>€ 450,000</td>\n      <td>3</td>\n      <td>94m²</td>\n      <td>1</td>\n      <td>2</td>\n      <td>Rif: GG42 - INTERNO: la soluzione proposta è u...</td>\n      <td>GG42 - 10/14/2023</td>\n      <td>Sale</td>\n      <td>Apartment | Full ownership | Medium property c...</td>\n      <td>94 m² - See detail</td>\n      <td>...</td>\n      <td>NaN</td>\n      <td>NaN</td>\n      <td>NaN</td>\n      <td>NaN</td>\n      <td>NaN</td>\n      <td>NaN</td>\n      <td>Milan</td>\n      <td>Centrale</td>\n      <td>Via Ponte Seveso</td>\n      <td>https://www.immobiliare.it/en/annunci/106654875/</td>\n    </tr>\n    <tr>\n      <th>1999</th>\n      <td>€ 170,000</td>\n      <td>1</td>\n      <td>57m²</td>\n      <td>1</td>\n      <td>NaN</td>\n      <td>via carolina invernizio - in stabile anni 90, ...</td>\n      <td>170 INVERNIZIO - 10/14/2023</td>\n      <td>Sale - Download brochure</td>\n      <td>Apartment | Full ownership | Medium property c...</td>\n      <td>57 m² - See detail</td>\n      <td>...</td>\n      <td>NaN</td>\n      <td>NaN</td>\n      <td>NaN</td>\n      <td>NaN</td>\n      <td>NaN</td>\n      <td>NaN</td>\n      <td>Milan</td>\n      <td>Vialba</td>\n      <td>Via Carolina Invernizio</td>\n      <td>https://www.immobiliare.it/en/annunci/106660603/</td>\n    </tr>\n  </tbody>\n</table>\n<p>2000 rows × 69 columns</p>\n</div>"
     },
     "execution_count": 8,
     "metadata": {},
     "output_type": "execute_result"
    }
   ],
   "source": [
    "data"
   ],
   "metadata": {
    "collapsed": false,
    "ExecuteTime": {
     "end_time": "2023-10-24T20:19:39.197804900Z",
     "start_time": "2023-10-24T20:19:39.180152100Z"
    }
   },
   "id": "34efb294c332a177"
  }
 ],
 "metadata": {
  "kernelspec": {
   "display_name": "Python 3",
   "language": "python",
   "name": "python3"
  },
  "language_info": {
   "codemirror_mode": {
    "name": "ipython",
    "version": 2
   },
   "file_extension": ".py",
   "mimetype": "text/x-python",
   "name": "python",
   "nbconvert_exporter": "python",
   "pygments_lexer": "ipython2",
   "version": "2.7.6"
  }
 },
 "nbformat": 4,
 "nbformat_minor": 5
}

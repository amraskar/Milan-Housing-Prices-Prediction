{
 "cells": [
  {
   "cell_type": "code",
   "execution_count": 108,
   "id": "initial_id",
   "metadata": {
    "collapsed": true,
    "ExecuteTime": {
     "end_time": "2023-11-07T14:43:47.452208800Z",
     "start_time": "2023-11-07T14:43:47.212179400Z"
    }
   },
   "outputs": [],
   "source": [
    "import pandas as pd\n",
    "import numpy as np\n",
    "import matplotlib.pyplot as plt\n",
    "import seaborn as sns\n",
    "from scipy.stats import iqr\n",
    "from sklearn.model_selection import train_test_split, GridSearchCV, cross_val_score\n",
    "from sklearn.preprocessing import StandardScaler\n",
    "from sklearn.linear_model import LinearRegression\n",
    "from sklearn.svm import SVR\n",
    "from sklearn.tree import DecisionTreeRegressor\n",
    "from sklearn.ensemble import RandomForestRegressor\n",
    "from sklearn.metrics import mean_squared_error\n",
    "import pickle"
   ]
  },
  {
   "cell_type": "code",
   "execution_count": 109,
   "outputs": [],
   "source": [
    "df = pd.read_csv('milano_house_prices_raw_data_cleaned.csv', index_col=0)"
   ],
   "metadata": {
    "collapsed": false,
    "ExecuteTime": {
     "end_time": "2023-11-07T14:43:47.773705400Z",
     "start_time": "2023-11-07T14:43:47.218988200Z"
    }
   },
   "id": "3351479a899e8ace"
  },
  {
   "cell_type": "markdown",
   "source": [
    "Data Preparation"
   ],
   "metadata": {
    "collapsed": false
   },
   "id": "f394fe73f68cbe0e"
  },
  {
   "cell_type": "code",
   "execution_count": 110,
   "outputs": [
    {
     "data": {
      "text/plain": "   price_euro  number_rooms  area_m2  bathrooms  condominium fees  \\\n0    289000.0             3      100          1             250.0   \n1    398000.0             2       78          1             208.0   \n2    420000.0             3       85          1             180.0   \n3    780000.0             3       80          1              83.0   \n4    395000.0             2       50          1              80.0   \n\n                    neighborhood  \n0                         Baggio  \n1              Argonne - Corsica  \n2                    Crescenzago  \n3  Porta Romana - Medaglie d'Oro  \n4                 Porta Vittoria  ",
      "text/html": "<div>\n<style scoped>\n    .dataframe tbody tr th:only-of-type {\n        vertical-align: middle;\n    }\n\n    .dataframe tbody tr th {\n        vertical-align: top;\n    }\n\n    .dataframe thead th {\n        text-align: right;\n    }\n</style>\n<table border=\"1\" class=\"dataframe\">\n  <thead>\n    <tr style=\"text-align: right;\">\n      <th></th>\n      <th>price_euro</th>\n      <th>number_rooms</th>\n      <th>area_m2</th>\n      <th>bathrooms</th>\n      <th>condominium fees</th>\n      <th>neighborhood</th>\n    </tr>\n  </thead>\n  <tbody>\n    <tr>\n      <th>0</th>\n      <td>289000.0</td>\n      <td>3</td>\n      <td>100</td>\n      <td>1</td>\n      <td>250.0</td>\n      <td>Baggio</td>\n    </tr>\n    <tr>\n      <th>1</th>\n      <td>398000.0</td>\n      <td>2</td>\n      <td>78</td>\n      <td>1</td>\n      <td>208.0</td>\n      <td>Argonne - Corsica</td>\n    </tr>\n    <tr>\n      <th>2</th>\n      <td>420000.0</td>\n      <td>3</td>\n      <td>85</td>\n      <td>1</td>\n      <td>180.0</td>\n      <td>Crescenzago</td>\n    </tr>\n    <tr>\n      <th>3</th>\n      <td>780000.0</td>\n      <td>3</td>\n      <td>80</td>\n      <td>1</td>\n      <td>83.0</td>\n      <td>Porta Romana - Medaglie d'Oro</td>\n    </tr>\n    <tr>\n      <th>4</th>\n      <td>395000.0</td>\n      <td>2</td>\n      <td>50</td>\n      <td>1</td>\n      <td>80.0</td>\n      <td>Porta Vittoria</td>\n    </tr>\n  </tbody>\n</table>\n</div>"
     },
     "execution_count": 110,
     "metadata": {},
     "output_type": "execute_result"
    }
   ],
   "source": [
    "# Selecting columns for model building\n",
    "df_model = df[['price_euro', 'number_rooms', 'area_m2', 'bathrooms', 'condominium fees', 'neighborhood']]\n",
    "df_model.head()"
   ],
   "metadata": {
    "collapsed": false,
    "ExecuteTime": {
     "end_time": "2023-11-07T14:43:47.805360700Z",
     "start_time": "2023-11-07T14:43:47.275399500Z"
    }
   },
   "id": "da77b0ee41dfdace"
  },
  {
   "cell_type": "code",
   "execution_count": 111,
   "outputs": [
    {
     "data": {
      "text/plain": "price_euro          0\nnumber_rooms        0\narea_m2             0\nbathrooms           0\ncondominium fees    6\nneighborhood        0\ndtype: int64"
     },
     "execution_count": 111,
     "metadata": {},
     "output_type": "execute_result"
    }
   ],
   "source": [
    "# Drop null values\n",
    "df_model.isnull().sum()"
   ],
   "metadata": {
    "collapsed": false,
    "ExecuteTime": {
     "end_time": "2023-11-07T14:43:47.805360700Z",
     "start_time": "2023-11-07T14:43:47.290901800Z"
    }
   },
   "id": "28bba00755abee71"
  },
  {
   "cell_type": "code",
   "execution_count": 112,
   "outputs": [
    {
     "name": "stderr",
     "output_type": "stream",
     "text": [
      "C:\\Users\\amras\\AppData\\Local\\Temp\\ipykernel_19352\\1810750224.py:1: SettingWithCopyWarning: \n",
      "A value is trying to be set on a copy of a slice from a DataFrame\n",
      "\n",
      "See the caveats in the documentation: https://pandas.pydata.org/pandas-docs/stable/user_guide/indexing.html#returning-a-view-versus-a-copy\n",
      "  df_model.dropna(axis=0, inplace=True)\n"
     ]
    },
    {
     "data": {
      "text/plain": "price_euro          0\nnumber_rooms        0\narea_m2             0\nbathrooms           0\ncondominium fees    0\nneighborhood        0\ndtype: int64"
     },
     "execution_count": 112,
     "metadata": {},
     "output_type": "execute_result"
    }
   ],
   "source": [
    "df_model.dropna(axis=0, inplace=True)\n",
    "df_model.isnull().sum()"
   ],
   "metadata": {
    "collapsed": false,
    "ExecuteTime": {
     "end_time": "2023-11-07T14:43:47.805360700Z",
     "start_time": "2023-11-07T14:43:47.311137300Z"
    }
   },
   "id": "bbf7ea8752af3140"
  },
  {
   "cell_type": "code",
   "execution_count": 113,
   "outputs": [
    {
     "name": "stdout",
     "output_type": "stream",
     "text": [
      "<class 'pandas.core.frame.DataFrame'>\n",
      "Index: 1610 entries, 0 to 1615\n",
      "Data columns (total 6 columns):\n",
      " #   Column            Non-Null Count  Dtype  \n",
      "---  ------            --------------  -----  \n",
      " 0   price_euro        1610 non-null   float64\n",
      " 1   number_rooms      1610 non-null   int64  \n",
      " 2   area_m2           1610 non-null   int64  \n",
      " 3   bathrooms         1610 non-null   int64  \n",
      " 4   condominium fees  1610 non-null   float64\n",
      " 5   neighborhood      1610 non-null   object \n",
      "dtypes: float64(2), int64(3), object(1)\n",
      "memory usage: 88.0+ KB\n"
     ]
    }
   ],
   "source": [
    "df_model.info()"
   ],
   "metadata": {
    "collapsed": false,
    "ExecuteTime": {
     "end_time": "2023-11-07T14:43:47.805360700Z",
     "start_time": "2023-11-07T14:43:47.319818200Z"
    }
   },
   "id": "e1189d875d2c040b"
  },
  {
   "cell_type": "code",
   "execution_count": 114,
   "outputs": [
    {
     "data": {
      "text/plain": "(1610, 6)"
     },
     "execution_count": 114,
     "metadata": {},
     "output_type": "execute_result"
    }
   ],
   "source": [
    "df_model.shape"
   ],
   "metadata": {
    "collapsed": false,
    "ExecuteTime": {
     "end_time": "2023-11-07T14:43:47.805360700Z",
     "start_time": "2023-11-07T14:43:47.333068500Z"
    }
   },
   "id": "2034c2c4c9308e76"
  },
  {
   "cell_type": "code",
   "execution_count": 115,
   "outputs": [
    {
     "data": {
      "text/plain": "<Axes: >"
     },
     "execution_count": 115,
     "metadata": {},
     "output_type": "execute_result"
    },
    {
     "data": {
      "text/plain": "<Figure size 500x500 with 2 Axes>",
      "image/png": "[encoded data removed]"
     },
     "metadata": {},
     "output_type": "display_data"
    }
   ],
   "source": [
    "# Check the correlation\n",
    "correlation = df_model.select_dtypes('number').corr()\n",
    "_, ax = plt.subplots(figsize=(5, 5))\n",
    "sns.heatmap(correlation, ax=ax, annot=True, linewidths=0.5, cmap='mako_r') # Number of rooms and bathrooms have a high correlation with the price"
   ],
   "metadata": {
    "collapsed": false,
    "ExecuteTime": {
     "end_time": "2023-11-07T14:43:47.805360700Z",
     "start_time": "2023-11-07T14:43:47.342913300Z"
    }
   },
   "id": "d4a63c9edc36a48a"
  },
  {
   "cell_type": "code",
   "execution_count": 116,
   "outputs": [
    {
     "data": {
      "text/plain": "<Figure size 500x2000 with 5 Axes>",
      "image/png": "[encoded data removed]"
     },
     "metadata": {},
     "output_type": "display_data"
    }
   ],
   "source": [
    "# Dealing with outliers\n",
    "columns = df_model.select_dtypes('number').columns\n",
    "\n",
    "# Plot boxplot of each feature\n",
    "_, ax = plt.subplots(5, figsize=(5,20))\n",
    "for index, value in enumerate(columns):\n",
    "    sns.boxplot(data=df_model , x=value, ax=ax[index]) # (Price_euro, condominium fees, number_rooms, area_m2) fees have alot of outliers"
   ],
   "metadata": {
    "collapsed": false,
    "ExecuteTime": {
     "end_time": "2023-11-07T14:43:48.674617Z",
     "start_time": "2023-11-07T14:43:47.680604600Z"
    }
   },
   "id": "e827f7ed0849593b"
  },
  {
   "cell_type": "code",
   "execution_count": 117,
   "outputs": [
    {
     "data": {
      "text/plain": "Index(['price_euro', 'number_rooms', 'area_m2', 'bathrooms',\n       'condominium fees', 'neighborhood'],\n      dtype='object')"
     },
     "execution_count": 117,
     "metadata": {},
     "output_type": "execute_result"
    }
   ],
   "source": [
    "df_model.columns"
   ],
   "metadata": {
    "collapsed": false,
    "ExecuteTime": {
     "end_time": "2023-11-07T14:43:48.689174700Z",
     "start_time": "2023-11-07T14:43:48.674617Z"
    }
   },
   "id": "f6270d926e08c63c"
  },
  {
   "cell_type": "code",
   "execution_count": 118,
   "outputs": [],
   "source": [
    "# Removing outliers\n",
    "# I'll remove the outliers by removing rows that contains data bigger than (1.5 * iqr + 3rd quartile)\n",
    "mask1 = df_model['price_euro'] < iqr(df_model['price_euro']) * 1.5 + np.percentile(df_model['price_euro'], 75)\n",
    "mask2 = df_model['number_rooms'] < iqr(df_model['number_rooms']) * 1.5 + np.percentile(df_model['number_rooms'], 75)\n",
    "mask3 = df_model['area_m2'] < iqr(df_model['area_m2']) * 1.5 + np.percentile(df_model['area_m2'], 75)\n",
    "mask4 = df_model['condominium fees'] < iqr(df_model['condominium fees']) * 1.5 + np.percentile(df_model['condominium fees'], 75)\n",
    "\n",
    "# DataFrame after removing outliers\n",
    "df_model = df_model[mask1 & mask2 & mask3 & mask4]"
   ],
   "metadata": {
    "collapsed": false,
    "ExecuteTime": {
     "end_time": "2023-11-07T14:43:48.720632100Z",
     "start_time": "2023-11-07T14:43:48.691682500Z"
    }
   },
   "id": "c7cd9f7530d54f20"
  },
  {
   "cell_type": "code",
   "execution_count": 119,
   "outputs": [
    {
     "data": {
      "text/plain": "(1434, 6)"
     },
     "execution_count": 119,
     "metadata": {},
     "output_type": "execute_result"
    }
   ],
   "source": [
    "df_model.shape"
   ],
   "metadata": {
    "collapsed": false,
    "ExecuteTime": {
     "end_time": "2023-11-07T14:43:48.767529900Z",
     "start_time": "2023-11-07T14:43:48.697446100Z"
    }
   },
   "id": "1b1aa391259a709c"
  },
  {
   "cell_type": "code",
   "execution_count": 120,
   "outputs": [
    {
     "data": {
      "text/plain": "<Figure size 500x2000 with 5 Axes>",
      "image/png": "[encoded data removed]"
     },
     "metadata": {},
     "output_type": "display_data"
    }
   ],
   "source": [
    "# Dealing with skewed data\n",
    "\n",
    "# Data is symmetrical: skewness is between -0.5 and 0.5\n",
    "# Data is slightly skewed: skewness is between -1 and -0.5 or 0.5 and 1\n",
    "# Data is highly skewed: skewness is less than -1 or greater than 1\n",
    "\n",
    "# Plot boxplot of each feature\n",
    "fig, ax = plt.subplots(5, figsize=(5,20))\n",
    "for index, value in enumerate(columns):\n",
    "    sns.histplot(data=df_model , x=value, ax=ax[index])"
   ],
   "metadata": {
    "collapsed": false,
    "ExecuteTime": {
     "end_time": "2023-11-07T14:43:50.454286800Z",
     "start_time": "2023-11-07T14:43:48.706121400Z"
    }
   },
   "id": "5aad96ca0b6556b"
  },
  {
   "cell_type": "code",
   "execution_count": 121,
   "outputs": [
    {
     "data": {
      "text/plain": "price_euro          0.876849\narea_m2             0.675003\ncondominium fees    0.286117\ndtype: float64"
     },
     "execution_count": 121,
     "metadata": {},
     "output_type": "execute_result"
    }
   ],
   "source": [
    "df_model[['price_euro', 'area_m2', 'condominium fees']].skew() # Skewness is in acceptable ranges"
   ],
   "metadata": {
    "collapsed": false,
    "ExecuteTime": {
     "end_time": "2023-11-07T14:43:50.469126100Z",
     "start_time": "2023-11-07T14:43:50.458797900Z"
    }
   },
   "id": "b742b2628f0cfcf9"
  },
  {
   "cell_type": "code",
   "execution_count": 122,
   "outputs": [],
   "source": [
    "df_model.index = range(df_model.shape[0])"
   ],
   "metadata": {
    "collapsed": false,
    "ExecuteTime": {
     "end_time": "2023-11-07T14:43:50.469126100Z",
     "start_time": "2023-11-07T14:43:50.469126100Z"
    }
   },
   "id": "bf5818fcdf7bef61"
  },
  {
   "cell_type": "markdown",
   "source": [
    "Data Preprocessing"
   ],
   "metadata": {
    "collapsed": false
   },
   "id": "8d4c3bbd523b9649"
  },
  {
   "cell_type": "code",
   "execution_count": 123,
   "outputs": [],
   "source": [
    "# Split the data to features and target\n",
    "target = df_model['price_euro'].copy()\n",
    "df_model.drop('price_euro', axis=1, inplace=True)"
   ],
   "metadata": {
    "collapsed": false,
    "ExecuteTime": {
     "end_time": "2023-11-07T14:43:50.477848300Z",
     "start_time": "2023-11-07T14:43:50.469126100Z"
    }
   },
   "id": "b34cee980024e847"
  },
  {
   "cell_type": "code",
   "execution_count": 124,
   "outputs": [
    {
     "data": {
      "text/plain": "      number_rooms  area_m2  bathrooms  condominium fees  \\\n0                3      100          1             250.0   \n1                2       78          1             208.0   \n2                3       85          1             180.0   \n3                3       80          1              83.0   \n4                2       50          1              80.0   \n...            ...      ...        ...               ...   \n1429             2       45          1             100.0   \n1430             3       90          2             208.0   \n1431             2       54          1             100.0   \n1432             2       50          1              40.0   \n1433             3       94          1             292.0   \n\n                       neighborhood  \n0                            Baggio  \n1                 Argonne - Corsica  \n2                       Crescenzago  \n3     Porta Romana - Medaglie d'Oro  \n4                    Porta Vittoria  \n...                             ...  \n1429                         Vialba  \n1430                    Giambellino  \n1431                         Vialba  \n1432  Porta Romana - Medaglie d'Oro  \n1433                       Centrale  \n\n[1434 rows x 5 columns]",
      "text/html": "<div>\n<style scoped>\n    .dataframe tbody tr th:only-of-type {\n        vertical-align: middle;\n    }\n\n    .dataframe tbody tr th {\n        vertical-align: top;\n    }\n\n    .dataframe thead th {\n        text-align: right;\n    }\n</style>\n<table border=\"1\" class=\"dataframe\">\n  <thead>\n    <tr style=\"text-align: right;\">\n      <th></th>\n      <th>number_rooms</th>\n      <th>area_m2</th>\n      <th>bathrooms</th>\n      <th>condominium fees</th>\n      <th>neighborhood</th>\n    </tr>\n  </thead>\n  <tbody>\n    <tr>\n      <th>0</th>\n      <td>3</td>\n      <td>100</td>\n      <td>1</td>\n      <td>250.0</td>\n      <td>Baggio</td>\n    </tr>\n    <tr>\n      <th>1</th>\n      <td>2</td>\n      <td>78</td>\n      <td>1</td>\n      <td>208.0</td>\n      <td>Argonne - Corsica</td>\n    </tr>\n    <tr>\n      <th>2</th>\n      <td>3</td>\n      <td>85</td>\n      <td>1</td>\n      <td>180.0</td>\n      <td>Crescenzago</td>\n    </tr>\n    <tr>\n      <th>3</th>\n      <td>3</td>\n      <td>80</td>\n      <td>1</td>\n      <td>83.0</td>\n      <td>Porta Romana - Medaglie d'Oro</td>\n    </tr>\n    <tr>\n      <th>4</th>\n      <td>2</td>\n      <td>50</td>\n      <td>1</td>\n      <td>80.0</td>\n      <td>Porta Vittoria</td>\n    </tr>\n    <tr>\n      <th>...</th>\n      <td>...</td>\n      <td>...</td>\n      <td>...</td>\n      <td>...</td>\n      <td>...</td>\n    </tr>\n    <tr>\n      <th>1429</th>\n      <td>2</td>\n      <td>45</td>\n      <td>1</td>\n      <td>100.0</td>\n      <td>Vialba</td>\n    </tr>\n    <tr>\n      <th>1430</th>\n      <td>3</td>\n      <td>90</td>\n      <td>2</td>\n      <td>208.0</td>\n      <td>Giambellino</td>\n    </tr>\n    <tr>\n      <th>1431</th>\n      <td>2</td>\n      <td>54</td>\n      <td>1</td>\n      <td>100.0</td>\n      <td>Vialba</td>\n    </tr>\n    <tr>\n      <th>1432</th>\n      <td>2</td>\n      <td>50</td>\n      <td>1</td>\n      <td>40.0</td>\n      <td>Porta Romana - Medaglie d'Oro</td>\n    </tr>\n    <tr>\n      <th>1433</th>\n      <td>3</td>\n      <td>94</td>\n      <td>1</td>\n      <td>292.0</td>\n      <td>Centrale</td>\n    </tr>\n  </tbody>\n</table>\n<p>1434 rows × 5 columns</p>\n</div>"
     },
     "execution_count": 124,
     "metadata": {},
     "output_type": "execute_result"
    }
   ],
   "source": [
    "df_model"
   ],
   "metadata": {
    "collapsed": false,
    "ExecuteTime": {
     "end_time": "2023-11-07T14:43:50.536159500Z",
     "start_time": "2023-11-07T14:43:50.477848300Z"
    }
   },
   "id": "968f512e8acf61f5"
  },
  {
   "cell_type": "code",
   "execution_count": 125,
   "outputs": [
    {
     "data": {
      "text/plain": "      Affori  Amendola - Buonarroti  Arco della Pace  Argonne - Corsica  \\\n0          0                      0                0                  0   \n1          0                      0                0                  1   \n2          0                      0                0                  0   \n3          0                      0                0                  0   \n4          0                      0                0                  0   \n...      ...                    ...              ...                ...   \n1429       0                      0                0                  0   \n1430       0                      0                0                  0   \n1431       0                      0                0                  0   \n1432       0                      0                0                  0   \n1433       0                      0                0                  0   \n\n      Ascanio Sforza  Baggio  Bande Nere  Barona  Bicocca  Bignami - Ponale  \\\n0                  0       1           0       0        0                 0   \n1                  0       0           0       0        0                 0   \n2                  0       0           0       0        0                 0   \n3                  0       0           0       0        0                 0   \n4                  0       0           0       0        0                 0   \n...              ...     ...         ...     ...      ...               ...   \n1429               0       0           0       0        0                 0   \n1430               0       0           0       0        0                 0   \n1431               0       0           0       0        0                 0   \n1432               0       0           0       0        0                 0   \n1433               0       0           0       0        0                 0   \n\n      ...  Turro  Udine  Vercelli - Wagner  Vialba  Viale Ungheria - Mecenate  \\\n0     ...      0      0                  0       0                          0   \n1     ...      0      0                  0       0                          0   \n2     ...      0      0                  0       0                          0   \n3     ...      0      0                  0       0                          0   \n4     ...      0      0                  0       0                          0   \n...   ...    ...    ...                ...     ...                        ...   \n1429  ...      0      0                  0       1                          0   \n1430  ...      0      0                  0       0                          0   \n1431  ...      0      0                  0       1                          0   \n1432  ...      0      0                  0       0                          0   \n1433  ...      0      0                  0       0                          0   \n\n      Vigentino - Fatima  Villa San Giovanni  Vincenzo Monti  Washington  Zara  \n0                      0                   0               0           0     0  \n1                      0                   0               0           0     0  \n2                      0                   0               0           0     0  \n3                      0                   0               0           0     0  \n4                      0                   0               0           0     0  \n...                  ...                 ...             ...         ...   ...  \n1429                   0                   0               0           0     0  \n1430                   0                   0               0           0     0  \n1431                   0                   0               0           0     0  \n1432                   0                   0               0           0     0  \n1433                   0                   0               0           0     0  \n\n[1434 rows x 128 columns]",
      "text/html": "<div>\n<style scoped>\n    .dataframe tbody tr th:only-of-type {\n        vertical-align: middle;\n    }\n\n    .dataframe tbody tr th {\n        vertical-align: top;\n    }\n\n    .dataframe thead th {\n        text-align: right;\n    }\n</style>\n<table border=\"1\" class=\"dataframe\">\n  <thead>\n    <tr style=\"text-align: right;\">\n      <th></th>\n      <th>Affori</th>\n      <th>Amendola - Buonarroti</th>\n      <th>Arco della Pace</th>\n      <th>Argonne - Corsica</th>\n      <th>Ascanio Sforza</th>\n      <th>Baggio</th>\n      <th>Bande Nere</th>\n      <th>Barona</th>\n      <th>Bicocca</th>\n      <th>Bignami - Ponale</th>\n      <th>...</th>\n      <th>Turro</th>\n      <th>Udine</th>\n      <th>Vercelli - Wagner</th>\n      <th>Vialba</th>\n      <th>Viale Ungheria - Mecenate</th>\n      <th>Vigentino - Fatima</th>\n      <th>Villa San Giovanni</th>\n      <th>Vincenzo Monti</th>\n      <th>Washington</th>\n      <th>Zara</th>\n    </tr>\n  </thead>\n  <tbody>\n    <tr>\n      <th>0</th>\n      <td>0</td>\n      <td>0</td>\n      <td>0</td>\n      <td>0</td>\n      <td>0</td>\n      <td>1</td>\n      <td>0</td>\n      <td>0</td>\n      <td>0</td>\n      <td>0</td>\n      <td>...</td>\n      <td>0</td>\n      <td>0</td>\n      <td>0</td>\n      <td>0</td>\n      <td>0</td>\n      <td>0</td>\n      <td>0</td>\n      <td>0</td>\n      <td>0</td>\n      <td>0</td>\n    </tr>\n    <tr>\n      <th>1</th>\n      <td>0</td>\n      <td>0</td>\n      <td>0</td>\n      <td>1</td>\n      <td>0</td>\n      <td>0</td>\n      <td>0</td>\n      <td>0</td>\n      <td>0</td>\n      <td>0</td>\n      <td>...</td>\n      <td>0</td>\n      <td>0</td>\n      <td>0</td>\n      <td>0</td>\n      <td>0</td>\n      <td>0</td>\n      <td>0</td>\n      <td>0</td>\n      <td>0</td>\n      <td>0</td>\n    </tr>\n    <tr>\n      <th>2</th>\n      <td>0</td>\n      <td>0</td>\n      <td>0</td>\n      <td>0</td>\n      <td>0</td>\n      <td>0</td>\n      <td>0</td>\n      <td>0</td>\n      <td>0</td>\n      <td>0</td>\n      <td>...</td>\n      <td>0</td>\n      <td>0</td>\n      <td>0</td>\n      <td>0</td>\n      <td>0</td>\n      <td>0</td>\n      <td>0</td>\n      <td>0</td>\n      <td>0</td>\n      <td>0</td>\n    </tr>\n    <tr>\n      <th>3</th>\n      <td>0</td>\n      <td>0</td>\n      <td>0</td>\n      <td>0</td>\n      <td>0</td>\n      <td>0</td>\n      <td>0</td>\n      <td>0</td>\n      <td>0</td>\n      <td>0</td>\n      <td>...</td>\n      <td>0</td>\n      <td>0</td>\n      <td>0</td>\n      <td>0</td>\n      <td>0</td>\n      <td>0</td>\n      <td>0</td>\n      <td>0</td>\n      <td>0</td>\n      <td>0</td>\n    </tr>\n    <tr>\n      <th>4</th>\n      <td>0</td>\n      <td>0</td>\n      <td>0</td>\n      <td>0</td>\n      <td>0</td>\n      <td>0</td>\n      <td>0</td>\n      <td>0</td>\n      <td>0</td>\n      <td>0</td>\n      <td>...</td>\n      <td>0</td>\n      <td>0</td>\n      <td>0</td>\n      <td>0</td>\n      <td>0</td>\n      <td>0</td>\n      <td>0</td>\n      <td>0</td>\n      <td>0</td>\n      <td>0</td>\n    </tr>\n    <tr>\n      <th>...</th>\n      <td>...</td>\n      <td>...</td>\n      <td>...</td>\n      <td>...</td>\n      <td>...</td>\n      <td>...</td>\n      <td>...</td>\n      <td>...</td>\n      <td>...</td>\n      <td>...</td>\n      <td>...</td>\n      <td>...</td>\n      <td>...</td>\n      <td>...</td>\n      <td>...</td>\n      <td>...</td>\n      <td>...</td>\n      <td>...</td>\n      <td>...</td>\n      <td>...</td>\n      <td>...</td>\n    </tr>\n    <tr>\n      <th>1429</th>\n      <td>0</td>\n      <td>0</td>\n      <td>0</td>\n      <td>0</td>\n      <td>0</td>\n      <td>0</td>\n      <td>0</td>\n      <td>0</td>\n      <td>0</td>\n      <td>0</td>\n      <td>...</td>\n      <td>0</td>\n      <td>0</td>\n      <td>0</td>\n      <td>1</td>\n      <td>0</td>\n      <td>0</td>\n      <td>0</td>\n      <td>0</td>\n      <td>0</td>\n      <td>0</td>\n    </tr>\n    <tr>\n      <th>1430</th>\n      <td>0</td>\n      <td>0</td>\n      <td>0</td>\n      <td>0</td>\n      <td>0</td>\n      <td>0</td>\n      <td>0</td>\n      <td>0</td>\n      <td>0</td>\n      <td>0</td>\n      <td>...</td>\n      <td>0</td>\n      <td>0</td>\n      <td>0</td>\n      <td>0</td>\n      <td>0</td>\n      <td>0</td>\n      <td>0</td>\n      <td>0</td>\n      <td>0</td>\n      <td>0</td>\n    </tr>\n    <tr>\n      <th>1431</th>\n      <td>0</td>\n      <td>0</td>\n      <td>0</td>\n      <td>0</td>\n      <td>0</td>\n      <td>0</td>\n      <td>0</td>\n      <td>0</td>\n      <td>0</td>\n      <td>0</td>\n      <td>...</td>\n      <td>0</td>\n      <td>0</td>\n      <td>0</td>\n      <td>1</td>\n      <td>0</td>\n      <td>0</td>\n      <td>0</td>\n      <td>0</td>\n      <td>0</td>\n      <td>0</td>\n    </tr>\n    <tr>\n      <th>1432</th>\n      <td>0</td>\n      <td>0</td>\n      <td>0</td>\n      <td>0</td>\n      <td>0</td>\n      <td>0</td>\n      <td>0</td>\n      <td>0</td>\n      <td>0</td>\n      <td>0</td>\n      <td>...</td>\n      <td>0</td>\n      <td>0</td>\n      <td>0</td>\n      <td>0</td>\n      <td>0</td>\n      <td>0</td>\n      <td>0</td>\n      <td>0</td>\n      <td>0</td>\n      <td>0</td>\n    </tr>\n    <tr>\n      <th>1433</th>\n      <td>0</td>\n      <td>0</td>\n      <td>0</td>\n      <td>0</td>\n      <td>0</td>\n      <td>0</td>\n      <td>0</td>\n      <td>0</td>\n      <td>0</td>\n      <td>0</td>\n      <td>...</td>\n      <td>0</td>\n      <td>0</td>\n      <td>0</td>\n      <td>0</td>\n      <td>0</td>\n      <td>0</td>\n      <td>0</td>\n      <td>0</td>\n      <td>0</td>\n      <td>0</td>\n    </tr>\n  </tbody>\n</table>\n<p>1434 rows × 128 columns</p>\n</div>"
     },
     "execution_count": 125,
     "metadata": {},
     "output_type": "execute_result"
    }
   ],
   "source": [
    "# Encode categorical features\n",
    "neighborhoods = pd.get_dummies(df_model['neighborhood'], dtype='int')\n",
    "neighborhoods"
   ],
   "metadata": {
    "collapsed": false,
    "ExecuteTime": {
     "end_time": "2023-11-07T14:43:50.567500400Z",
     "start_time": "2023-11-07T14:43:50.494537300Z"
    }
   },
   "id": "6757825c06aa7f13"
  },
  {
   "cell_type": "code",
   "execution_count": 126,
   "outputs": [
    {
     "data": {
      "text/plain": "      number_rooms   area_m2  bathrooms  condominium fees\n0         0.579758  0.660318  -0.537919          0.897647\n1        -0.703225 -0.072445  -0.537919          0.455514\n2         0.579758  0.160707  -0.537919          0.160759\n3         0.579758 -0.005830  -0.537919         -0.860359\n4        -0.703225 -1.005053  -0.537919         -0.891940\n...            ...       ...        ...               ...\n1429     -0.703225 -1.171590  -0.537919         -0.681400\n1430      0.579758  0.327244   1.691490          0.455514\n1431     -0.703225 -0.871823  -0.537919         -0.681400\n1432     -0.703225 -1.005053  -0.537919         -1.313019\n1433      0.579758  0.460474  -0.537919          1.339780\n\n[1434 rows x 4 columns]",
      "text/html": "<div>\n<style scoped>\n    .dataframe tbody tr th:only-of-type {\n        vertical-align: middle;\n    }\n\n    .dataframe tbody tr th {\n        vertical-align: top;\n    }\n\n    .dataframe thead th {\n        text-align: right;\n    }\n</style>\n<table border=\"1\" class=\"dataframe\">\n  <thead>\n    <tr style=\"text-align: right;\">\n      <th></th>\n      <th>number_rooms</th>\n      <th>area_m2</th>\n      <th>bathrooms</th>\n      <th>condominium fees</th>\n    </tr>\n  </thead>\n  <tbody>\n    <tr>\n      <th>0</th>\n      <td>0.579758</td>\n      <td>0.660318</td>\n      <td>-0.537919</td>\n      <td>0.897647</td>\n    </tr>\n    <tr>\n      <th>1</th>\n      <td>-0.703225</td>\n      <td>-0.072445</td>\n      <td>-0.537919</td>\n      <td>0.455514</td>\n    </tr>\n    <tr>\n      <th>2</th>\n      <td>0.579758</td>\n      <td>0.160707</td>\n      <td>-0.537919</td>\n      <td>0.160759</td>\n    </tr>\n    <tr>\n      <th>3</th>\n      <td>0.579758</td>\n      <td>-0.005830</td>\n      <td>-0.537919</td>\n      <td>-0.860359</td>\n    </tr>\n    <tr>\n      <th>4</th>\n      <td>-0.703225</td>\n      <td>-1.005053</td>\n      <td>-0.537919</td>\n      <td>-0.891940</td>\n    </tr>\n    <tr>\n      <th>...</th>\n      <td>...</td>\n      <td>...</td>\n      <td>...</td>\n      <td>...</td>\n    </tr>\n    <tr>\n      <th>1429</th>\n      <td>-0.703225</td>\n      <td>-1.171590</td>\n      <td>-0.537919</td>\n      <td>-0.681400</td>\n    </tr>\n    <tr>\n      <th>1430</th>\n      <td>0.579758</td>\n      <td>0.327244</td>\n      <td>1.691490</td>\n      <td>0.455514</td>\n    </tr>\n    <tr>\n      <th>1431</th>\n      <td>-0.703225</td>\n      <td>-0.871823</td>\n      <td>-0.537919</td>\n      <td>-0.681400</td>\n    </tr>\n    <tr>\n      <th>1432</th>\n      <td>-0.703225</td>\n      <td>-1.005053</td>\n      <td>-0.537919</td>\n      <td>-1.313019</td>\n    </tr>\n    <tr>\n      <th>1433</th>\n      <td>0.579758</td>\n      <td>0.460474</td>\n      <td>-0.537919</td>\n      <td>1.339780</td>\n    </tr>\n  </tbody>\n</table>\n<p>1434 rows × 4 columns</p>\n</div>"
     },
     "execution_count": 126,
     "metadata": {},
     "output_type": "execute_result"
    }
   ],
   "source": [
    "# Scale numerical features\n",
    "scaler = StandardScaler()\n",
    "data = scaler.fit_transform(df_model.drop('neighborhood', axis=1))\n",
    "data = pd.DataFrame(data, columns=df_model.drop('neighborhood', axis=1).columns)\n",
    "data"
   ],
   "metadata": {
    "collapsed": false,
    "ExecuteTime": {
     "end_time": "2023-11-07T14:43:50.571684800Z",
     "start_time": "2023-11-07T14:43:50.515691Z"
    }
   },
   "id": "a720f88dbd676482"
  },
  {
   "cell_type": "code",
   "execution_count": 127,
   "outputs": [
    {
     "data": {
      "text/plain": "      number_rooms   area_m2  bathrooms  condominium fees  Affori  \\\n0         0.579758  0.660318  -0.537919          0.897647       0   \n1        -0.703225 -0.072445  -0.537919          0.455514       0   \n2         0.579758  0.160707  -0.537919          0.160759       0   \n3         0.579758 -0.005830  -0.537919         -0.860359       0   \n4        -0.703225 -1.005053  -0.537919         -0.891940       0   \n...            ...       ...        ...               ...     ...   \n1429     -0.703225 -1.171590  -0.537919         -0.681400       0   \n1430      0.579758  0.327244   1.691490          0.455514       0   \n1431     -0.703225 -0.871823  -0.537919         -0.681400       0   \n1432     -0.703225 -1.005053  -0.537919         -1.313019       0   \n1433      0.579758  0.460474  -0.537919          1.339780       0   \n\n      Amendola - Buonarroti  Arco della Pace  Argonne - Corsica  \\\n0                         0                0                  0   \n1                         0                0                  1   \n2                         0                0                  0   \n3                         0                0                  0   \n4                         0                0                  0   \n...                     ...              ...                ...   \n1429                      0                0                  0   \n1430                      0                0                  0   \n1431                      0                0                  0   \n1432                      0                0                  0   \n1433                      0                0                  0   \n\n      Ascanio Sforza  Baggio  ...  Turro  Udine  Vercelli - Wagner  Vialba  \\\n0                  0       1  ...      0      0                  0       0   \n1                  0       0  ...      0      0                  0       0   \n2                  0       0  ...      0      0                  0       0   \n3                  0       0  ...      0      0                  0       0   \n4                  0       0  ...      0      0                  0       0   \n...              ...     ...  ...    ...    ...                ...     ...   \n1429               0       0  ...      0      0                  0       1   \n1430               0       0  ...      0      0                  0       0   \n1431               0       0  ...      0      0                  0       1   \n1432               0       0  ...      0      0                  0       0   \n1433               0       0  ...      0      0                  0       0   \n\n      Viale Ungheria - Mecenate  Vigentino - Fatima  Villa San Giovanni  \\\n0                             0                   0                   0   \n1                             0                   0                   0   \n2                             0                   0                   0   \n3                             0                   0                   0   \n4                             0                   0                   0   \n...                         ...                 ...                 ...   \n1429                          0                   0                   0   \n1430                          0                   0                   0   \n1431                          0                   0                   0   \n1432                          0                   0                   0   \n1433                          0                   0                   0   \n\n      Vincenzo Monti  Washington  Zara  \n0                  0           0     0  \n1                  0           0     0  \n2                  0           0     0  \n3                  0           0     0  \n4                  0           0     0  \n...              ...         ...   ...  \n1429               0           0     0  \n1430               0           0     0  \n1431               0           0     0  \n1432               0           0     0  \n1433               0           0     0  \n\n[1434 rows x 132 columns]",
      "text/html": "<div>\n<style scoped>\n    .dataframe tbody tr th:only-of-type {\n        vertical-align: middle;\n    }\n\n    .dataframe tbody tr th {\n        vertical-align: top;\n    }\n\n    .dataframe thead th {\n        text-align: right;\n    }\n</style>\n<table border=\"1\" class=\"dataframe\">\n  <thead>\n    <tr style=\"text-align: right;\">\n      <th></th>\n      <th>number_rooms</th>\n      <th>area_m2</th>\n      <th>bathrooms</th>\n      <th>condominium fees</th>\n      <th>Affori</th>\n      <th>Amendola - Buonarroti</th>\n      <th>Arco della Pace</th>\n      <th>Argonne - Corsica</th>\n      <th>Ascanio Sforza</th>\n      <th>Baggio</th>\n      <th>...</th>\n      <th>Turro</th>\n      <th>Udine</th>\n      <th>Vercelli - Wagner</th>\n      <th>Vialba</th>\n      <th>Viale Ungheria - Mecenate</th>\n      <th>Vigentino - Fatima</th>\n      <th>Villa San Giovanni</th>\n      <th>Vincenzo Monti</th>\n      <th>Washington</th>\n      <th>Zara</th>\n    </tr>\n  </thead>\n  <tbody>\n    <tr>\n      <th>0</th>\n      <td>0.579758</td>\n      <td>0.660318</td>\n      <td>-0.537919</td>\n      <td>0.897647</td>\n      <td>0</td>\n      <td>0</td>\n      <td>0</td>\n      <td>0</td>\n      <td>0</td>\n      <td>1</td>\n      <td>...</td>\n      <td>0</td>\n      <td>0</td>\n      <td>0</td>\n      <td>0</td>\n      <td>0</td>\n      <td>0</td>\n      <td>0</td>\n      <td>0</td>\n      <td>0</td>\n      <td>0</td>\n    </tr>\n    <tr>\n      <th>1</th>\n      <td>-0.703225</td>\n      <td>-0.072445</td>\n      <td>-0.537919</td>\n      <td>0.455514</td>\n      <td>0</td>\n      <td>0</td>\n      <td>0</td>\n      <td>1</td>\n      <td>0</td>\n      <td>0</td>\n      <td>...</td>\n      <td>0</td>\n      <td>0</td>\n      <td>0</td>\n      <td>0</td>\n      <td>0</td>\n      <td>0</td>\n      <td>0</td>\n      <td>0</td>\n      <td>0</td>\n      <td>0</td>\n    </tr>\n    <tr>\n      <th>2</th>\n      <td>0.579758</td>\n      <td>0.160707</td>\n      <td>-0.537919</td>\n      <td>0.160759</td>\n      <td>0</td>\n      <td>0</td>\n      <td>0</td>\n      <td>0</td>\n      <td>0</td>\n      <td>0</td>\n      <td>...</td>\n      <td>0</td>\n      <td>0</td>\n      <td>0</td>\n      <td>0</td>\n      <td>0</td>\n      <td>0</td>\n      <td>0</td>\n      <td>0</td>\n      <td>0</td>\n      <td>0</td>\n    </tr>\n    <tr>\n      <th>3</th>\n      <td>0.579758</td>\n      <td>-0.005830</td>\n      <td>-0.537919</td>\n      <td>-0.860359</td>\n      <td>0</td>\n      <td>0</td>\n      <td>0</td>\n      <td>0</td>\n      <td>0</td>\n      <td>0</td>\n      <td>...</td>\n      <td>0</td>\n      <td>0</td>\n      <td>0</td>\n      <td>0</td>\n      <td>0</td>\n      <td>0</td>\n      <td>0</td>\n      <td>0</td>\n      <td>0</td>\n      <td>0</td>\n    </tr>\n    <tr>\n      <th>4</th>\n      <td>-0.703225</td>\n      <td>-1.005053</td>\n      <td>-0.537919</td>\n      <td>-0.891940</td>\n      <td>0</td>\n      <td>0</td>\n      <td>0</td>\n      <td>0</td>\n      <td>0</td>\n      <td>0</td>\n      <td>...</td>\n      <td>0</td>\n      <td>0</td>\n      <td>0</td>\n      <td>0</td>\n      <td>0</td>\n      <td>0</td>\n      <td>0</td>\n      <td>0</td>\n      <td>0</td>\n      <td>0</td>\n    </tr>\n    <tr>\n      <th>...</th>\n      <td>...</td>\n      <td>...</td>\n      <td>...</td>\n      <td>...</td>\n      <td>...</td>\n      <td>...</td>\n      <td>...</td>\n      <td>...</td>\n      <td>...</td>\n      <td>...</td>\n      <td>...</td>\n      <td>...</td>\n      <td>...</td>\n      <td>...</td>\n      <td>...</td>\n      <td>...</td>\n      <td>...</td>\n      <td>...</td>\n      <td>...</td>\n      <td>...</td>\n      <td>...</td>\n    </tr>\n    <tr>\n      <th>1429</th>\n      <td>-0.703225</td>\n      <td>-1.171590</td>\n      <td>-0.537919</td>\n      <td>-0.681400</td>\n      <td>0</td>\n      <td>0</td>\n      <td>0</td>\n      <td>0</td>\n      <td>0</td>\n      <td>0</td>\n      <td>...</td>\n      <td>0</td>\n      <td>0</td>\n      <td>0</td>\n      <td>1</td>\n      <td>0</td>\n      <td>0</td>\n      <td>0</td>\n      <td>0</td>\n      <td>0</td>\n      <td>0</td>\n    </tr>\n    <tr>\n      <th>1430</th>\n      <td>0.579758</td>\n      <td>0.327244</td>\n      <td>1.691490</td>\n      <td>0.455514</td>\n      <td>0</td>\n      <td>0</td>\n      <td>0</td>\n      <td>0</td>\n      <td>0</td>\n      <td>0</td>\n      <td>...</td>\n      <td>0</td>\n      <td>0</td>\n      <td>0</td>\n      <td>0</td>\n      <td>0</td>\n      <td>0</td>\n      <td>0</td>\n      <td>0</td>\n      <td>0</td>\n      <td>0</td>\n    </tr>\n    <tr>\n      <th>1431</th>\n      <td>-0.703225</td>\n      <td>-0.871823</td>\n      <td>-0.537919</td>\n      <td>-0.681400</td>\n      <td>0</td>\n      <td>0</td>\n      <td>0</td>\n      <td>0</td>\n      <td>0</td>\n      <td>0</td>\n      <td>...</td>\n      <td>0</td>\n      <td>0</td>\n      <td>0</td>\n      <td>1</td>\n      <td>0</td>\n      <td>0</td>\n      <td>0</td>\n      <td>0</td>\n      <td>0</td>\n      <td>0</td>\n    </tr>\n    <tr>\n      <th>1432</th>\n      <td>-0.703225</td>\n      <td>-1.005053</td>\n      <td>-0.537919</td>\n      <td>-1.313019</td>\n      <td>0</td>\n      <td>0</td>\n      <td>0</td>\n      <td>0</td>\n      <td>0</td>\n      <td>0</td>\n      <td>...</td>\n      <td>0</td>\n      <td>0</td>\n      <td>0</td>\n      <td>0</td>\n      <td>0</td>\n      <td>0</td>\n      <td>0</td>\n      <td>0</td>\n      <td>0</td>\n      <td>0</td>\n    </tr>\n    <tr>\n      <th>1433</th>\n      <td>0.579758</td>\n      <td>0.460474</td>\n      <td>-0.537919</td>\n      <td>1.339780</td>\n      <td>0</td>\n      <td>0</td>\n      <td>0</td>\n      <td>0</td>\n      <td>0</td>\n      <td>0</td>\n      <td>...</td>\n      <td>0</td>\n      <td>0</td>\n      <td>0</td>\n      <td>0</td>\n      <td>0</td>\n      <td>0</td>\n      <td>0</td>\n      <td>0</td>\n      <td>0</td>\n      <td>0</td>\n    </tr>\n  </tbody>\n</table>\n<p>1434 rows × 132 columns</p>\n</div>"
     },
     "execution_count": 127,
     "metadata": {},
     "output_type": "execute_result"
    }
   ],
   "source": [
    "# Concatenate the two dataframes\n",
    "df_prepared = pd.concat([data, neighborhoods], axis=1)\n",
    "df_prepared"
   ],
   "metadata": {
    "collapsed": false,
    "ExecuteTime": {
     "end_time": "2023-11-07T14:43:50.591630500Z",
     "start_time": "2023-11-07T14:43:50.536159500Z"
    }
   },
   "id": "2d1bb5924ce2c1bd"
  },
  {
   "cell_type": "code",
   "execution_count": 128,
   "outputs": [],
   "source": [
    "# Split the data into a training set and a test set\n",
    "X_train, X_test, y_train, y_test = train_test_split(df_prepared, target, test_size=0.2, random_state=42)"
   ],
   "metadata": {
    "collapsed": false,
    "ExecuteTime": {
     "end_time": "2023-11-07T14:43:50.591630500Z",
     "start_time": "2023-11-07T14:43:50.557213900Z"
    }
   },
   "id": "d7c9a8e2c529a145"
  },
  {
   "cell_type": "code",
   "execution_count": 129,
   "outputs": [
    {
     "name": "stdout",
     "output_type": "stream",
     "text": [
      "Size of train data: 1147\n",
      "Size of test data: 287\n"
     ]
    }
   ],
   "source": [
    "print(f'Size of train data: {X_train.shape[0]}\\nSize of test data: {X_test.shape[0]}')"
   ],
   "metadata": {
    "collapsed": false,
    "ExecuteTime": {
     "end_time": "2023-11-07T14:43:50.665677700Z",
     "start_time": "2023-11-07T14:43:50.567500400Z"
    }
   },
   "id": "19920e04eb0c8b4a"
  },
  {
   "cell_type": "markdown",
   "source": [
    "Model Building"
   ],
   "metadata": {
    "collapsed": false
   },
   "id": "cc1c1e690ec148c2"
  },
  {
   "cell_type": "code",
   "execution_count": 130,
   "outputs": [],
   "source": [
    "# Function used to train each model and measure the performance of the model\n",
    "def try_model(model, X, y):\n",
    "    model = model\n",
    "    model.fit(X, y)\n",
    "    housing_predictions = model.predict(X)\n",
    "    model_mse = mean_squared_error(y, housing_predictions)\n",
    "    model_rmse = np.sqrt(model_mse) # One of the best performance measures for regression problems is root mean squared error\n",
    "    \n",
    "    scores = cross_val_score(model, X, y, cv=5, scoring='neg_mean_squared_error')\n",
    "    rmse_scores = np.sqrt(-scores)\n",
    "    \n",
    "    print(f'Rmse on training set: {model_rmse}\\n')\n",
    "    print(f'Rmse on k-fold cv sets:\\nScores: {rmse_scores}\\nMean: {rmse_scores.mean():.2f}\\nStandard deviation: {rmse_scores.std():.2f}')"
   ],
   "metadata": {
    "collapsed": false,
    "ExecuteTime": {
     "end_time": "2023-11-07T14:43:50.681301200Z",
     "start_time": "2023-11-07T14:43:50.575005400Z"
    }
   },
   "id": "b2a098e8be8b890e"
  },
  {
   "cell_type": "code",
   "execution_count": 131,
   "outputs": [],
   "source": [
    "# I will start by trying some model with default hyperparameter\n",
    "# Then i will compare between the score on the training set and the validation sets\n",
    "# To see if the model overfit or underfit"
   ],
   "metadata": {
    "collapsed": false,
    "ExecuteTime": {
     "end_time": "2023-11-07T14:43:50.697319800Z",
     "start_time": "2023-11-07T14:43:50.587454600Z"
    }
   },
   "id": "34be5142f3f4dc4e"
  },
  {
   "cell_type": "code",
   "execution_count": 132,
   "outputs": [
    {
     "name": "stdout",
     "output_type": "stream",
     "text": [
      "Rmse on training set: 88280.62782705881\n",
      "\n",
      "Rmse on k-fold cv sets:\n",
      "Scores: [1.04658451e+17 1.06091669e+05 3.03114150e+16 7.30110146e+16\n",
      " 8.16835789e+15]\n",
      "Mean: 43229847632518064.00\n",
      "Standard deviation: 39813075429865824.00\n"
     ]
    }
   ],
   "source": [
    "# Linear regression model\n",
    "lin_reg = LinearRegression()\n",
    "try_model(lin_reg, X_train, y_train) # The model suffers from a very bad overfitting"
   ],
   "metadata": {
    "collapsed": false,
    "ExecuteTime": {
     "end_time": "2023-11-07T14:43:51.011750900Z",
     "start_time": "2023-11-07T14:43:50.593650Z"
    }
   },
   "id": "f0f380a91c687892"
  },
  {
   "cell_type": "code",
   "execution_count": 133,
   "outputs": [
    {
     "name": "stdout",
     "output_type": "stream",
     "text": [
      "Rmse on training set: 232437.33610471358\n",
      "\n",
      "Rmse on k-fold cv sets:\n",
      "Scores: [212432.88960909 216678.99218241 243118.30117587 244425.42205235\n",
      " 245285.0109901 ]\n",
      "Mean: 232388.12\n",
      "Standard deviation: 14637.97\n"
     ]
    }
   ],
   "source": [
    "# Support Vector Regressor model\n",
    "svm_reg = SVR(kernel=\"linear\")\n",
    "try_model(svm_reg, X_train, y_train) # The model suffers from a very bad underfitting"
   ],
   "metadata": {
    "collapsed": false,
    "ExecuteTime": {
     "end_time": "2023-11-07T14:43:51.516991400Z",
     "start_time": "2023-11-07T14:43:50.932868200Z"
    }
   },
   "id": "6c3891fbbb70bed2"
  },
  {
   "cell_type": "code",
   "execution_count": 134,
   "outputs": [
    {
     "name": "stdout",
     "output_type": "stream",
     "text": [
      "Rmse on training set: 10594.156159364615\n",
      "\n",
      "Rmse on k-fold cv sets:\n",
      "Scores: [161377.01224651 147860.06182196 154868.17989871 175581.84174449\n",
      " 161470.21472207]\n",
      "Mean: 160231.46\n",
      "Standard deviation: 9168.39\n"
     ]
    }
   ],
   "source": [
    "# Decision Tree model\n",
    "tree_reg = DecisionTreeRegressor(random_state=42)\n",
    "try_model(tree_reg, X_train, y_train) # The model suffers from a very bad overfitting"
   ],
   "metadata": {
    "collapsed": false,
    "ExecuteTime": {
     "end_time": "2023-11-07T14:43:51.705175700Z",
     "start_time": "2023-11-07T14:43:51.497848600Z"
    }
   },
   "id": "12e36a06beebc1fd"
  },
  {
   "cell_type": "code",
   "execution_count": 135,
   "outputs": [
    {
     "name": "stdout",
     "output_type": "stream",
     "text": [
      "Rmse on training set: 48802.42441658406\n",
      "\n",
      "Rmse on k-fold cv sets:\n",
      "Scores: [124552.17757812 126983.86667855 127379.5126914  139770.28678188\n",
      " 133940.08748417]\n",
      "Mean: 130525.19\n",
      "Standard deviation: 5572.19\n"
     ]
    }
   ],
   "source": [
    "# Random Forest model\n",
    "forest_reg = RandomForestRegressor(random_state=42)\n",
    "try_model(forest_reg, X_train, y_train) # The model suffers from a very bad overfitting"
   ],
   "metadata": {
    "collapsed": false,
    "ExecuteTime": {
     "end_time": "2023-11-07T14:44:02.533085800Z",
     "start_time": "2023-11-07T14:43:51.689157500Z"
    }
   },
   "id": "d9c61b8d0455afa0"
  },
  {
   "cell_type": "code",
   "execution_count": 136,
   "outputs": [
    {
     "name": "stdout",
     "output_type": "stream",
     "text": [
      "Fitting 5 folds for each of 87 candidates, totalling 435 fits\n",
      "[CV 1/5] END max_features=auto, n_estimators=10;, score=(train=nan, test=nan) total time=   0.0s\n",
      "[CV 2/5] END max_features=auto, n_estimators=10;, score=(train=nan, test=nan) total time=   0.0s\n",
      "[CV 3/5] END max_features=auto, n_estimators=10;, score=(train=nan, test=nan) total time=   0.0s\n",
      "[CV 4/5] END max_features=auto, n_estimators=10;, score=(train=nan, test=nan) total time=   0.0s\n",
      "[CV 5/5] END max_features=auto, n_estimators=10;, score=(train=nan, test=nan) total time=   0.0s\n",
      "[CV 1/5] END max_features=auto, n_estimators=20;, score=(train=nan, test=nan) total time=   0.0s\n",
      "[CV 2/5] END max_features=auto, n_estimators=20;, score=(train=nan, test=nan) total time=   0.0s\n",
      "[CV 3/5] END max_features=auto, n_estimators=20;, score=(train=nan, test=nan) total time=   0.0s\n",
      "[CV 4/5] END max_features=auto, n_estimators=20;, score=(train=nan, test=nan) total time=   0.0s\n",
      "[CV 5/5] END max_features=auto, n_estimators=20;, score=(train=nan, test=nan) total time=   0.0s\n",
      "[CV 1/5] END max_features=auto, n_estimators=30;, score=(train=nan, test=nan) total time=   0.0s\n",
      "[CV 2/5] END max_features=auto, n_estimators=30;, score=(train=nan, test=nan) total time=   0.0s\n",
      "[CV 3/5] END max_features=auto, n_estimators=30;, score=(train=nan, test=nan) total time=   0.0s\n",
      "[CV 4/5] END max_features=auto, n_estimators=30;, score=(train=nan, test=nan) total time=   0.0s\n",
      "[CV 5/5] END max_features=auto, n_estimators=30;, score=(train=nan, test=nan) total time=   0.0s\n",
      "[CV 1/5] END max_features=auto, n_estimators=40;, score=(train=nan, test=nan) total time=   0.0s\n",
      "[CV 2/5] END max_features=auto, n_estimators=40;, score=(train=nan, test=nan) total time=   0.0s\n",
      "[CV 3/5] END max_features=auto, n_estimators=40;, score=(train=nan, test=nan) total time=   0.0s\n",
      "[CV 4/5] END max_features=auto, n_estimators=40;, score=(train=nan, test=nan) total time=   0.0s\n",
      "[CV 5/5] END max_features=auto, n_estimators=40;, score=(train=nan, test=nan) total time=   0.0s\n",
      "[CV 1/5] END max_features=auto, n_estimators=50;, score=(train=nan, test=nan) total time=   0.0s\n",
      "[CV 2/5] END max_features=auto, n_estimators=50;, score=(train=nan, test=nan) total time=   0.0s\n",
      "[CV 3/5] END max_features=auto, n_estimators=50;, score=(train=nan, test=nan) total time=   0.0s\n",
      "[CV 4/5] END max_features=auto, n_estimators=50;, score=(train=nan, test=nan) total time=   0.0s\n",
      "[CV 5/5] END max_features=auto, n_estimators=50;, score=(train=nan, test=nan) total time=   0.0s\n",
      "[CV 1/5] END max_features=auto, n_estimators=60;, score=(train=nan, test=nan) total time=   0.0s\n",
      "[CV 2/5] END max_features=auto, n_estimators=60;, score=(train=nan, test=nan) total time=   0.0s\n",
      "[CV 3/5] END max_features=auto, n_estimators=60;, score=(train=nan, test=nan) total time=   0.0s\n",
      "[CV 4/5] END max_features=auto, n_estimators=60;, score=(train=nan, test=nan) total time=   0.0s\n",
      "[CV 5/5] END max_features=auto, n_estimators=60;, score=(train=nan, test=nan) total time=   0.0s\n",
      "[CV 1/5] END max_features=auto, n_estimators=70;, score=(train=nan, test=nan) total time=   0.0s\n",
      "[CV 2/5] END max_features=auto, n_estimators=70;, score=(train=nan, test=nan) total time=   0.0s\n",
      "[CV 3/5] END max_features=auto, n_estimators=70;, score=(train=nan, test=nan) total time=   0.0s\n",
      "[CV 4/5] END max_features=auto, n_estimators=70;, score=(train=nan, test=nan) total time=   0.0s\n",
      "[CV 5/5] END max_features=auto, n_estimators=70;, score=(train=nan, test=nan) total time=   0.0s\n",
      "[CV 1/5] END max_features=auto, n_estimators=80;, score=(train=nan, test=nan) total time=   0.0s\n",
      "[CV 2/5] END max_features=auto, n_estimators=80;, score=(train=nan, test=nan) total time=   0.0s\n",
      "[CV 3/5] END max_features=auto, n_estimators=80;, score=(train=nan, test=nan) total time=   0.0s\n",
      "[CV 4/5] END max_features=auto, n_estimators=80;, score=(train=nan, test=nan) total time=   0.0s\n",
      "[CV 5/5] END max_features=auto, n_estimators=80;, score=(train=nan, test=nan) total time=   0.0s\n",
      "[CV 1/5] END max_features=auto, n_estimators=90;, score=(train=nan, test=nan) total time=   0.0s\n",
      "[CV 2/5] END max_features=auto, n_estimators=90;, score=(train=nan, test=nan) total time=   0.0s\n",
      "[CV 3/5] END max_features=auto, n_estimators=90;, score=(train=nan, test=nan) total time=   0.0s\n",
      "[CV 4/5] END max_features=auto, n_estimators=90;, score=(train=nan, test=nan) total time=   0.0s\n",
      "[CV 5/5] END max_features=auto, n_estimators=90;, score=(train=nan, test=nan) total time=   0.0s\n",
      "[CV 1/5] END max_features=auto, n_estimators=100;, score=(train=nan, test=nan) total time=   0.0s\n",
      "[CV 2/5] END max_features=auto, n_estimators=100;, score=(train=nan, test=nan) total time=   0.0s\n",
      "[CV 3/5] END max_features=auto, n_estimators=100;, score=(train=nan, test=nan) total time=   0.0s\n",
      "[CV 4/5] END max_features=auto, n_estimators=100;, score=(train=nan, test=nan) total time=   0.0s\n",
      "[CV 5/5] END max_features=auto, n_estimators=100;, score=(train=nan, test=nan) total time=   0.0s\n",
      "[CV 1/5] END max_features=auto, n_estimators=110;, score=(train=nan, test=nan) total time=   0.0s\n",
      "[CV 2/5] END max_features=auto, n_estimators=110;, score=(train=nan, test=nan) total time=   0.0s\n",
      "[CV 3/5] END max_features=auto, n_estimators=110;, score=(train=nan, test=nan) total time=   0.0s\n",
      "[CV 4/5] END max_features=auto, n_estimators=110;, score=(train=nan, test=nan) total time=   0.0s\n",
      "[CV 5/5] END max_features=auto, n_estimators=110;, score=(train=nan, test=nan) total time=   0.0s\n",
      "[CV 1/5] END max_features=auto, n_estimators=120;, score=(train=nan, test=nan) total time=   0.0s\n",
      "[CV 2/5] END max_features=auto, n_estimators=120;, score=(train=nan, test=nan) total time=   0.0s\n",
      "[CV 3/5] END max_features=auto, n_estimators=120;, score=(train=nan, test=nan) total time=   0.0s\n",
      "[CV 4/5] END max_features=auto, n_estimators=120;, score=(train=nan, test=nan) total time=   0.0s\n",
      "[CV 5/5] END max_features=auto, n_estimators=120;, score=(train=nan, test=nan) total time=   0.0s\n",
      "[CV 1/5] END max_features=auto, n_estimators=130;, score=(train=nan, test=nan) total time=   0.0s\n",
      "[CV 2/5] END max_features=auto, n_estimators=130;, score=(train=nan, test=nan) total time=   0.0s\n",
      "[CV 3/5] END max_features=auto, n_estimators=130;, score=(train=nan, test=nan) total time=   0.0s\n",
      "[CV 4/5] END max_features=auto, n_estimators=130;, score=(train=nan, test=nan) total time=   0.0s\n",
      "[CV 5/5] END max_features=auto, n_estimators=130;, score=(train=nan, test=nan) total time=   0.0s\n",
      "[CV 1/5] END max_features=auto, n_estimators=140;, score=(train=nan, test=nan) total time=   0.0s\n",
      "[CV 2/5] END max_features=auto, n_estimators=140;, score=(train=nan, test=nan) total time=   0.0s\n",
      "[CV 3/5] END max_features=auto, n_estimators=140;, score=(train=nan, test=nan) total time=   0.0s\n",
      "[CV 4/5] END max_features=auto, n_estimators=140;, score=(train=nan, test=nan) total time=   0.0s\n",
      "[CV 5/5] END max_features=auto, n_estimators=140;, score=(train=nan, test=nan) total time=   0.0s\n",
      "[CV 1/5] END max_features=auto, n_estimators=150;, score=(train=nan, test=nan) total time=   0.0s\n",
      "[CV 2/5] END max_features=auto, n_estimators=150;, score=(train=nan, test=nan) total time=   0.0s\n",
      "[CV 3/5] END max_features=auto, n_estimators=150;, score=(train=nan, test=nan) total time=   0.0s\n",
      "[CV 4/5] END max_features=auto, n_estimators=150;, score=(train=nan, test=nan) total time=   0.0s\n",
      "[CV 5/5] END max_features=auto, n_estimators=150;, score=(train=nan, test=nan) total time=   0.0s\n",
      "[CV 1/5] END max_features=auto, n_estimators=160;, score=(train=nan, test=nan) total time=   0.0s\n",
      "[CV 2/5] END max_features=auto, n_estimators=160;, score=(train=nan, test=nan) total time=   0.0s\n",
      "[CV 3/5] END max_features=auto, n_estimators=160;, score=(train=nan, test=nan) total time=   0.0s\n",
      "[CV 4/5] END max_features=auto, n_estimators=160;, score=(train=nan, test=nan) total time=   0.0s\n",
      "[CV 5/5] END max_features=auto, n_estimators=160;, score=(train=nan, test=nan) total time=   0.0s\n",
      "[CV 1/5] END max_features=auto, n_estimators=170;, score=(train=nan, test=nan) total time=   0.0s\n",
      "[CV 2/5] END max_features=auto, n_estimators=170;, score=(train=nan, test=nan) total time=   0.0s\n",
      "[CV 3/5] END max_features=auto, n_estimators=170;, score=(train=nan, test=nan) total time=   0.0s\n",
      "[CV 4/5] END max_features=auto, n_estimators=170;, score=(train=nan, test=nan) total time=   0.0s\n",
      "[CV 5/5] END max_features=auto, n_estimators=170;, score=(train=nan, test=nan) total time=   0.0s\n",
      "[CV 1/5] END max_features=auto, n_estimators=180;, score=(train=nan, test=nan) total time=   0.0s\n",
      "[CV 2/5] END max_features=auto, n_estimators=180;, score=(train=nan, test=nan) total time=   0.0s\n",
      "[CV 3/5] END max_features=auto, n_estimators=180;, score=(train=nan, test=nan) total time=   0.0s\n",
      "[CV 4/5] END max_features=auto, n_estimators=180;, score=(train=nan, test=nan) total time=   0.0s\n",
      "[CV 5/5] END max_features=auto, n_estimators=180;, score=(train=nan, test=nan) total time=   0.0s\n",
      "[CV 1/5] END max_features=auto, n_estimators=190;, score=(train=nan, test=nan) total time=   0.0s\n",
      "[CV 2/5] END max_features=auto, n_estimators=190;, score=(train=nan, test=nan) total time=   0.0s\n",
      "[CV 3/5] END max_features=auto, n_estimators=190;, score=(train=nan, test=nan) total time=   0.0s\n",
      "[CV 4/5] END max_features=auto, n_estimators=190;, score=(train=nan, test=nan) total time=   0.0s\n",
      "[CV 5/5] END max_features=auto, n_estimators=190;, score=(train=nan, test=nan) total time=   0.0s\n",
      "[CV 1/5] END max_features=auto, n_estimators=200;, score=(train=nan, test=nan) total time=   0.0s\n",
      "[CV 2/5] END max_features=auto, n_estimators=200;, score=(train=nan, test=nan) total time=   0.0s\n",
      "[CV 3/5] END max_features=auto, n_estimators=200;, score=(train=nan, test=nan) total time=   0.0s\n",
      "[CV 4/5] END max_features=auto, n_estimators=200;, score=(train=nan, test=nan) total time=   0.0s\n",
      "[CV 5/5] END max_features=auto, n_estimators=200;, score=(train=nan, test=nan) total time=   0.0s\n",
      "[CV 1/5] END max_features=auto, n_estimators=210;, score=(train=nan, test=nan) total time=   0.0s\n",
      "[CV 2/5] END max_features=auto, n_estimators=210;, score=(train=nan, test=nan) total time=   0.0s\n",
      "[CV 3/5] END max_features=auto, n_estimators=210;, score=(train=nan, test=nan) total time=   0.0s\n",
      "[CV 4/5] END max_features=auto, n_estimators=210;, score=(train=nan, test=nan) total time=   0.0s\n",
      "[CV 5/5] END max_features=auto, n_estimators=210;, score=(train=nan, test=nan) total time=   0.0s\n",
      "[CV 1/5] END max_features=auto, n_estimators=220;, score=(train=nan, test=nan) total time=   0.0s\n",
      "[CV 2/5] END max_features=auto, n_estimators=220;, score=(train=nan, test=nan) total time=   0.0s\n",
      "[CV 3/5] END max_features=auto, n_estimators=220;, score=(train=nan, test=nan) total time=   0.0s\n",
      "[CV 4/5] END max_features=auto, n_estimators=220;, score=(train=nan, test=nan) total time=   0.0s\n",
      "[CV 5/5] END max_features=auto, n_estimators=220;, score=(train=nan, test=nan) total time=   0.0s\n",
      "[CV 1/5] END max_features=auto, n_estimators=230;, score=(train=nan, test=nan) total time=   0.0s\n",
      "[CV 2/5] END max_features=auto, n_estimators=230;, score=(train=nan, test=nan) total time=   0.0s\n",
      "[CV 3/5] END max_features=auto, n_estimators=230;, score=(train=nan, test=nan) total time=   0.0s\n",
      "[CV 4/5] END max_features=auto, n_estimators=230;, score=(train=nan, test=nan) total time=   0.0s\n",
      "[CV 5/5] END max_features=auto, n_estimators=230;, score=(train=nan, test=nan) total time=   0.0s\n",
      "[CV 1/5] END max_features=auto, n_estimators=240;, score=(train=nan, test=nan) total time=   0.0s\n",
      "[CV 2/5] END max_features=auto, n_estimators=240;, score=(train=nan, test=nan) total time=   0.0s\n",
      "[CV 3/5] END max_features=auto, n_estimators=240;, score=(train=nan, test=nan) total time=   0.0s\n",
      "[CV 4/5] END max_features=auto, n_estimators=240;, score=(train=nan, test=nan) total time=   0.0s\n",
      "[CV 5/5] END max_features=auto, n_estimators=240;, score=(train=nan, test=nan) total time=   0.0s\n",
      "[CV 1/5] END max_features=auto, n_estimators=250;, score=(train=nan, test=nan) total time=   0.0s\n",
      "[CV 2/5] END max_features=auto, n_estimators=250;, score=(train=nan, test=nan) total time=   0.0s\n",
      "[CV 3/5] END max_features=auto, n_estimators=250;, score=(train=nan, test=nan) total time=   0.0s\n",
      "[CV 4/5] END max_features=auto, n_estimators=250;, score=(train=nan, test=nan) total time=   0.0s\n",
      "[CV 5/5] END max_features=auto, n_estimators=250;, score=(train=nan, test=nan) total time=   0.0s\n",
      "[CV 1/5] END max_features=auto, n_estimators=260;, score=(train=nan, test=nan) total time=   0.0s\n",
      "[CV 2/5] END max_features=auto, n_estimators=260;, score=(train=nan, test=nan) total time=   0.0s\n",
      "[CV 3/5] END max_features=auto, n_estimators=260;, score=(train=nan, test=nan) total time=   0.0s\n",
      "[CV 4/5] END max_features=auto, n_estimators=260;, score=(train=nan, test=nan) total time=   0.0s\n",
      "[CV 5/5] END max_features=auto, n_estimators=260;, score=(train=nan, test=nan) total time=   0.0s\n",
      "[CV 1/5] END max_features=auto, n_estimators=270;, score=(train=nan, test=nan) total time=   0.0s\n",
      "[CV 2/5] END max_features=auto, n_estimators=270;, score=(train=nan, test=nan) total time=   0.0s\n",
      "[CV 3/5] END max_features=auto, n_estimators=270;, score=(train=nan, test=nan) total time=   0.0s\n",
      "[CV 4/5] END max_features=auto, n_estimators=270;, score=(train=nan, test=nan) total time=   0.0s\n",
      "[CV 5/5] END max_features=auto, n_estimators=270;, score=(train=nan, test=nan) total time=   0.0s\n",
      "[CV 1/5] END max_features=auto, n_estimators=280;, score=(train=nan, test=nan) total time=   0.0s\n",
      "[CV 2/5] END max_features=auto, n_estimators=280;, score=(train=nan, test=nan) total time=   0.0s\n",
      "[CV 3/5] END max_features=auto, n_estimators=280;, score=(train=nan, test=nan) total time=   0.0s\n",
      "[CV 4/5] END max_features=auto, n_estimators=280;, score=(train=nan, test=nan) total time=   0.0s\n",
      "[CV 5/5] END max_features=auto, n_estimators=280;, score=(train=nan, test=nan) total time=   0.0s\n",
      "[CV 1/5] END max_features=auto, n_estimators=290;, score=(train=nan, test=nan) total time=   0.0s\n",
      "[CV 2/5] END max_features=auto, n_estimators=290;, score=(train=nan, test=nan) total time=   0.0s\n",
      "[CV 3/5] END max_features=auto, n_estimators=290;, score=(train=nan, test=nan) total time=   0.0s\n",
      "[CV 4/5] END max_features=auto, n_estimators=290;, score=(train=nan, test=nan) total time=   0.0s\n",
      "[CV 5/5] END max_features=auto, n_estimators=290;, score=(train=nan, test=nan) total time=   0.0s\n",
      "[CV 1/5] END max_features=sqrt, n_estimators=10;, score=(train=-2868940809.456, test=-13894398363.022) total time=   0.0s\n",
      "[CV 2/5] END max_features=sqrt, n_estimators=10;, score=(train=-2936831987.852, test=-15414792965.330) total time=   0.0s\n",
      "[CV 3/5] END max_features=sqrt, n_estimators=10;, score=(train=-3336554771.606, test=-15055518232.817) total time=   0.0s\n",
      "[CV 4/5] END max_features=sqrt, n_estimators=10;, score=(train=-2695754159.996, test=-17671667789.672) total time=   0.0s\n",
      "[CV 5/5] END max_features=sqrt, n_estimators=10;, score=(train=-3006648995.586, test=-15998925898.866) total time=   0.0s\n",
      "[CV 1/5] END max_features=sqrt, n_estimators=20;, score=(train=-2552261053.316, test=-12595501994.018) total time=   0.0s\n",
      "[CV 2/5] END max_features=sqrt, n_estimators=20;, score=(train=-2446586405.746, test=-16124316837.759) total time=   0.0s\n",
      "[CV 3/5] END max_features=sqrt, n_estimators=20;, score=(train=-2434555867.540, test=-14281558149.417) total time=   0.0s\n",
      "[CV 4/5] END max_features=sqrt, n_estimators=20;, score=(train=-2524576405.134, test=-17181519307.145) total time=   0.0s\n",
      "[CV 5/5] END max_features=sqrt, n_estimators=20;, score=(train=-2611801650.594, test=-16480107577.846) total time=   0.0s\n",
      "[CV 1/5] END max_features=sqrt, n_estimators=30;, score=(train=-2436567029.419, test=-12480216157.210) total time=   0.1s\n",
      "[CV 2/5] END max_features=sqrt, n_estimators=30;, score=(train=-2191788013.609, test=-14422362158.111) total time=   0.1s\n",
      "[CV 3/5] END max_features=sqrt, n_estimators=30;, score=(train=-2311153179.236, test=-13886996070.741) total time=   0.1s\n",
      "[CV 4/5] END max_features=sqrt, n_estimators=30;, score=(train=-2166517136.102, test=-16575993766.555) total time=   0.1s\n",
      "[CV 5/5] END max_features=sqrt, n_estimators=30;, score=(train=-2360867230.431, test=-17157027174.083) total time=   0.0s\n",
      "[CV 1/5] END max_features=sqrt, n_estimators=40;, score=(train=-2088608217.222, test=-12382217081.117) total time=   0.1s\n",
      "[CV 2/5] END max_features=sqrt, n_estimators=40;, score=(train=-2149995320.575, test=-13869329107.422) total time=   0.1s\n",
      "[CV 3/5] END max_features=sqrt, n_estimators=40;, score=(train=-2154043696.536, test=-14321720559.752) total time=   0.1s\n",
      "[CV 4/5] END max_features=sqrt, n_estimators=40;, score=(train=-2101878123.414, test=-17078509033.054) total time=   0.1s\n",
      "[CV 5/5] END max_features=sqrt, n_estimators=40;, score=(train=-2267882603.109, test=-15006003698.461) total time=   0.1s\n",
      "[CV 1/5] END max_features=sqrt, n_estimators=50;, score=(train=-2209664490.221, test=-12351395017.116) total time=   0.1s\n",
      "[CV 2/5] END max_features=sqrt, n_estimators=50;, score=(train=-2217339828.976, test=-14093362097.920) total time=   0.2s\n",
      "[CV 3/5] END max_features=sqrt, n_estimators=50;, score=(train=-2337316378.239, test=-15106029405.895) total time=   0.2s\n",
      "[CV 4/5] END max_features=sqrt, n_estimators=50;, score=(train=-1987521163.839, test=-16699650127.465) total time=   0.2s\n",
      "[CV 5/5] END max_features=sqrt, n_estimators=50;, score=(train=-2093318142.106, test=-15246258152.543) total time=   0.2s\n",
      "[CV 1/5] END max_features=sqrt, n_estimators=60;, score=(train=-2272081477.056, test=-11986283320.280) total time=   0.2s\n",
      "[CV 2/5] END max_features=sqrt, n_estimators=60;, score=(train=-2214403543.253, test=-13886838527.529) total time=   0.2s\n",
      "[CV 3/5] END max_features=sqrt, n_estimators=60;, score=(train=-2165590759.466, test=-14029381802.952) total time=   0.2s\n",
      "[CV 4/5] END max_features=sqrt, n_estimators=60;, score=(train=-1912458160.398, test=-17048051640.085) total time=   0.2s\n",
      "[CV 5/5] END max_features=sqrt, n_estimators=60;, score=(train=-2116867370.231, test=-15556656098.950) total time=   0.2s\n",
      "[CV 1/5] END max_features=sqrt, n_estimators=70;, score=(train=-2113111036.636, test=-12244989527.010) total time=   0.2s\n",
      "[CV 2/5] END max_features=sqrt, n_estimators=70;, score=(train=-2163791518.428, test=-14114609565.725) total time=   0.2s\n",
      "[CV 3/5] END max_features=sqrt, n_estimators=70;, score=(train=-2221933333.978, test=-13939486018.240) total time=   0.3s\n",
      "[CV 4/5] END max_features=sqrt, n_estimators=70;, score=(train=-2037674339.578, test=-16846316200.716) total time=   0.3s\n",
      "[CV 5/5] END max_features=sqrt, n_estimators=70;, score=(train=-2212632445.242, test=-16243138904.423) total time=   0.6s\n",
      "[CV 1/5] END max_features=sqrt, n_estimators=80;, score=(train=-2171193845.205, test=-12606304973.668) total time=   1.3s\n",
      "[CV 2/5] END max_features=sqrt, n_estimators=80;, score=(train=-2202478265.885, test=-13657704559.319) total time=   0.9s\n",
      "[CV 3/5] END max_features=sqrt, n_estimators=80;, score=(train=-2244602119.585, test=-15358851463.437) total time=   0.7s\n",
      "[CV 4/5] END max_features=sqrt, n_estimators=80;, score=(train=-1817691772.363, test=-16933701563.428) total time=   0.5s\n",
      "[CV 5/5] END max_features=sqrt, n_estimators=80;, score=(train=-2172257690.131, test=-16197501233.048) total time=   0.5s\n",
      "[CV 1/5] END max_features=sqrt, n_estimators=90;, score=(train=-2069068610.627, test=-12200489531.041) total time=   0.8s\n",
      "[CV 2/5] END max_features=sqrt, n_estimators=90;, score=(train=-2137135179.568, test=-13994326407.331) total time=   0.7s\n",
      "[CV 3/5] END max_features=sqrt, n_estimators=90;, score=(train=-2138787110.522, test=-14685695443.273) total time=   0.5s\n",
      "[CV 4/5] END max_features=sqrt, n_estimators=90;, score=(train=-1983134797.627, test=-16892511129.311) total time=   0.6s\n",
      "[CV 5/5] END max_features=sqrt, n_estimators=90;, score=(train=-2169300685.250, test=-15236647210.714) total time=   0.8s\n",
      "[CV 1/5] END max_features=sqrt, n_estimators=100;, score=(train=-2142114670.929, test=-12304732705.663) total time=   0.9s\n",
      "[CV 2/5] END max_features=sqrt, n_estimators=100;, score=(train=-2125026566.081, test=-13937523566.852) total time=   0.7s\n",
      "[CV 3/5] END max_features=sqrt, n_estimators=100;, score=(train=-2143708358.702, test=-14164905533.302) total time=   0.8s\n",
      "[CV 4/5] END max_features=sqrt, n_estimators=100;, score=(train=-1970893317.817, test=-17137175256.498) total time=   0.8s\n",
      "[CV 5/5] END max_features=sqrt, n_estimators=100;, score=(train=-2125567112.764, test=-15081479839.304) total time=   0.6s\n",
      "[CV 1/5] END max_features=sqrt, n_estimators=110;, score=(train=-2171354847.686, test=-11976245881.432) total time=   0.8s\n",
      "[CV 2/5] END max_features=sqrt, n_estimators=110;, score=(train=-2086392648.446, test=-13133267872.082) total time=   0.9s\n",
      "[CV 3/5] END max_features=sqrt, n_estimators=110;, score=(train=-2135371363.789, test=-14468293348.150) total time=   0.7s\n",
      "[CV 4/5] END max_features=sqrt, n_estimators=110;, score=(train=-1975903186.918, test=-17376681450.770) total time=   0.8s\n",
      "[CV 5/5] END max_features=sqrt, n_estimators=110;, score=(train=-2089181857.877, test=-15985549832.114) total time=   0.8s\n",
      "[CV 1/5] END max_features=sqrt, n_estimators=120;, score=(train=-2058517071.560, test=-12423196714.435) total time=   0.9s\n",
      "[CV 2/5] END max_features=sqrt, n_estimators=120;, score=(train=-1991373156.122, test=-13534834383.621) total time=   0.7s\n",
      "[CV 3/5] END max_features=sqrt, n_estimators=120;, score=(train=-2135420005.918, test=-14189148951.338) total time=   0.8s\n",
      "[CV 4/5] END max_features=sqrt, n_estimators=120;, score=(train=-2036240156.822, test=-16517848756.579) total time=   0.7s\n",
      "[CV 5/5] END max_features=sqrt, n_estimators=120;, score=(train=-2092646541.374, test=-14991311356.675) total time=   0.7s\n",
      "[CV 1/5] END max_features=sqrt, n_estimators=130;, score=(train=-2103045857.780, test=-12269816094.927) total time=   1.0s\n",
      "[CV 2/5] END max_features=sqrt, n_estimators=130;, score=(train=-2103188547.376, test=-13807404416.952) total time=   1.0s\n",
      "[CV 3/5] END max_features=sqrt, n_estimators=130;, score=(train=-2131331099.578, test=-14149565672.698) total time=   0.9s\n",
      "[CV 4/5] END max_features=sqrt, n_estimators=130;, score=(train=-1933124900.746, test=-16910393768.603) total time=   0.9s\n",
      "[CV 5/5] END max_features=sqrt, n_estimators=130;, score=(train=-2192328563.522, test=-15573573466.883) total time=   0.8s\n",
      "[CV 1/5] END max_features=sqrt, n_estimators=140;, score=(train=-2083817771.693, test=-12112513276.355) total time=   0.8s\n",
      "[CV 2/5] END max_features=sqrt, n_estimators=140;, score=(train=-2043537712.720, test=-13763188536.045) total time=   1.1s\n",
      "[CV 3/5] END max_features=sqrt, n_estimators=140;, score=(train=-2124062563.028, test=-13968223972.931) total time=   1.1s\n",
      "[CV 4/5] END max_features=sqrt, n_estimators=140;, score=(train=-1949127961.641, test=-17166519393.619) total time=   1.0s\n",
      "[CV 5/5] END max_features=sqrt, n_estimators=140;, score=(train=-2113561322.626, test=-15544505502.447) total time=   1.6s\n",
      "[CV 1/5] END max_features=sqrt, n_estimators=150;, score=(train=-2137351323.654, test=-12072058049.478) total time=   1.4s\n",
      "[CV 2/5] END max_features=sqrt, n_estimators=150;, score=(train=-2105325648.659, test=-13760553719.470) total time=   1.0s\n",
      "[CV 3/5] END max_features=sqrt, n_estimators=150;, score=(train=-2125928795.093, test=-14036418304.169) total time=   1.1s\n",
      "[CV 4/5] END max_features=sqrt, n_estimators=150;, score=(train=-1956531428.016, test=-16716467372.805) total time=   1.1s\n",
      "[CV 5/5] END max_features=sqrt, n_estimators=150;, score=(train=-2147565609.665, test=-15623019037.270) total time=   1.1s\n",
      "[CV 1/5] END max_features=sqrt, n_estimators=160;, score=(train=-2170743954.873, test=-12103727844.380) total time=   1.4s\n",
      "[CV 2/5] END max_features=sqrt, n_estimators=160;, score=(train=-2018977049.410, test=-14045777968.834) total time=   1.1s\n",
      "[CV 3/5] END max_features=sqrt, n_estimators=160;, score=(train=-2065447210.133, test=-13985487338.713) total time=   1.0s\n",
      "[CV 4/5] END max_features=sqrt, n_estimators=160;, score=(train=-1940528014.288, test=-16424054291.003) total time=   1.2s\n",
      "[CV 5/5] END max_features=sqrt, n_estimators=160;, score=(train=-2132385887.911, test=-15388860729.545) total time=   1.0s\n",
      "[CV 1/5] END max_features=sqrt, n_estimators=170;, score=(train=-2094810042.250, test=-11940892509.650) total time=   1.0s\n",
      "[CV 2/5] END max_features=sqrt, n_estimators=170;, score=(train=-2039547676.613, test=-13627083125.468) total time=   1.3s\n",
      "[CV 3/5] END max_features=sqrt, n_estimators=170;, score=(train=-2046014431.451, test=-13639203989.972) total time=   1.1s\n",
      "[CV 4/5] END max_features=sqrt, n_estimators=170;, score=(train=-2014600079.095, test=-16492473749.908) total time=   1.0s\n",
      "[CV 5/5] END max_features=sqrt, n_estimators=170;, score=(train=-2109326792.867, test=-15306741770.202) total time=   1.3s\n",
      "[CV 1/5] END max_features=sqrt, n_estimators=180;, score=(train=-1995946361.041, test=-12316980851.185) total time=   1.6s\n",
      "[CV 2/5] END max_features=sqrt, n_estimators=180;, score=(train=-2028436529.441, test=-13671965705.260) total time=   1.3s\n",
      "[CV 3/5] END max_features=sqrt, n_estimators=180;, score=(train=-2097644951.124, test=-14028212440.062) total time=   1.2s\n",
      "[CV 4/5] END max_features=sqrt, n_estimators=180;, score=(train=-1971527696.826, test=-16987927861.552) total time=   1.1s\n",
      "[CV 5/5] END max_features=sqrt, n_estimators=180;, score=(train=-2079035484.619, test=-15262194148.901) total time=   1.1s\n",
      "[CV 1/5] END max_features=sqrt, n_estimators=190;, score=(train=-2074784391.576, test=-12087331483.450) total time=   1.2s\n",
      "[CV 2/5] END max_features=sqrt, n_estimators=190;, score=(train=-2013247529.636, test=-13749369353.381) total time=   1.1s\n",
      "[CV 3/5] END max_features=sqrt, n_estimators=190;, score=(train=-2087897520.353, test=-13977320353.779) total time=   1.1s\n",
      "[CV 4/5] END max_features=sqrt, n_estimators=190;, score=(train=-1938240174.151, test=-17227453217.001) total time=   1.3s\n",
      "[CV 5/5] END max_features=sqrt, n_estimators=190;, score=(train=-2076269235.484, test=-15449635559.877) total time=   1.1s\n",
      "[CV 1/5] END max_features=sqrt, n_estimators=200;, score=(train=-2085172232.366, test=-12052784033.639) total time=   1.1s\n",
      "[CV 2/5] END max_features=sqrt, n_estimators=200;, score=(train=-1982401954.326, test=-13404022727.791) total time=   1.4s\n",
      "[CV 3/5] END max_features=sqrt, n_estimators=200;, score=(train=-2104434020.891, test=-14275110970.166) total time=   1.2s\n",
      "[CV 4/5] END max_features=sqrt, n_estimators=200;, score=(train=-1967140635.208, test=-16647253600.381) total time=   1.1s\n",
      "[CV 5/5] END max_features=sqrt, n_estimators=200;, score=(train=-2096619360.011, test=-15393482203.092) total time=   1.4s\n",
      "[CV 1/5] END max_features=sqrt, n_estimators=210;, score=(train=-2032116074.470, test=-11866496703.131) total time=   1.1s\n",
      "[CV 2/5] END max_features=sqrt, n_estimators=210;, score=(train=-2024387408.037, test=-13499324879.442) total time=   1.2s\n",
      "[CV 3/5] END max_features=sqrt, n_estimators=210;, score=(train=-2142258860.327, test=-13790295883.355) total time=   1.4s\n",
      "[CV 4/5] END max_features=sqrt, n_estimators=210;, score=(train=-1904051715.345, test=-16841484709.697) total time=   1.2s\n",
      "[CV 5/5] END max_features=sqrt, n_estimators=210;, score=(train=-2150597811.862, test=-15236871605.368) total time=   1.2s\n",
      "[CV 1/5] END max_features=sqrt, n_estimators=220;, score=(train=-2144584807.891, test=-12385881974.372) total time=   1.5s\n",
      "[CV 2/5] END max_features=sqrt, n_estimators=220;, score=(train=-1967215085.145, test=-13626051082.016) total time=   1.2s\n",
      "[CV 3/5] END max_features=sqrt, n_estimators=220;, score=(train=-2080322246.492, test=-14176583624.997) total time=   1.2s\n",
      "[CV 4/5] END max_features=sqrt, n_estimators=220;, score=(train=-1920053338.573, test=-16916493632.272) total time=   1.4s\n",
      "[CV 5/5] END max_features=sqrt, n_estimators=220;, score=(train=-2112349085.577, test=-15387241741.278) total time=   1.3s\n",
      "[CV 1/5] END max_features=sqrt, n_estimators=230;, score=(train=-2012397094.261, test=-12157056706.564) total time=   1.3s\n",
      "[CV 2/5] END max_features=sqrt, n_estimators=230;, score=(train=-2044682493.350, test=-13626001724.743) total time=   1.5s\n",
      "[CV 3/5] END max_features=sqrt, n_estimators=230;, score=(train=-2092177680.637, test=-14084469849.064) total time=   1.3s\n",
      "[CV 4/5] END max_features=sqrt, n_estimators=230;, score=(train=-1957971766.765, test=-16659663449.310) total time=   1.3s\n",
      "[CV 5/5] END max_features=sqrt, n_estimators=230;, score=(train=-2066561405.643, test=-15644558144.255) total time=   1.5s\n",
      "[CV 1/5] END max_features=sqrt, n_estimators=240;, score=(train=-2071421065.765, test=-12161404259.293) total time=   1.4s\n",
      "[CV 2/5] END max_features=sqrt, n_estimators=240;, score=(train=-2066439749.353, test=-13900774283.149) total time=   1.4s\n",
      "[CV 3/5] END max_features=sqrt, n_estimators=240;, score=(train=-2055498328.732, test=-13846090051.399) total time=   1.5s\n",
      "[CV 4/5] END max_features=sqrt, n_estimators=240;, score=(train=-1915661332.491, test=-16945618599.303) total time=   1.3s\n",
      "[CV 5/5] END max_features=sqrt, n_estimators=240;, score=(train=-2068076257.460, test=-15166428761.435) total time=   1.4s\n",
      "[CV 1/5] END max_features=sqrt, n_estimators=250;, score=(train=-2100101978.244, test=-12281787042.199) total time=   1.6s\n",
      "[CV 2/5] END max_features=sqrt, n_estimators=250;, score=(train=-2024476685.278, test=-13475991302.014) total time=   1.4s\n",
      "[CV 3/5] END max_features=sqrt, n_estimators=250;, score=(train=-2095743747.429, test=-14138146462.299) total time=   1.5s\n",
      "[CV 4/5] END max_features=sqrt, n_estimators=250;, score=(train=-1894664242.679, test=-16695976292.898) total time=   1.7s\n",
      "[CV 5/5] END max_features=sqrt, n_estimators=250;, score=(train=-2108496748.598, test=-15095675262.663) total time=   1.5s\n",
      "[CV 1/5] END max_features=sqrt, n_estimators=260;, score=(train=-2100638543.956, test=-12373960710.094) total time=   1.6s\n",
      "[CV 2/5] END max_features=sqrt, n_estimators=260;, score=(train=-2005328090.093, test=-13528132881.233) total time=   1.6s\n",
      "[CV 3/5] END max_features=sqrt, n_estimators=260;, score=(train=-2034506536.238, test=-14036849256.472) total time=   1.5s\n",
      "[CV 4/5] END max_features=sqrt, n_estimators=260;, score=(train=-1908367252.938, test=-17293860826.733) total time=   1.5s\n",
      "[CV 5/5] END max_features=sqrt, n_estimators=260;, score=(train=-2066211655.369, test=-15574542369.346) total time=   1.7s\n",
      "[CV 1/5] END max_features=sqrt, n_estimators=270;, score=(train=-2081346591.576, test=-12074989166.549) total time=   1.5s\n",
      "[CV 2/5] END max_features=sqrt, n_estimators=270;, score=(train=-2049366038.340, test=-13607055286.994) total time=   1.6s\n",
      "[CV 3/5] END max_features=sqrt, n_estimators=270;, score=(train=-2041032662.869, test=-13959405190.638) total time=   1.9s\n",
      "[CV 4/5] END max_features=sqrt, n_estimators=270;, score=(train=-2003990442.146, test=-16843456493.722) total time=   1.6s\n",
      "[CV 5/5] END max_features=sqrt, n_estimators=270;, score=(train=-2058076447.605, test=-15542548937.968) total time=   1.8s\n",
      "[CV 1/5] END max_features=sqrt, n_estimators=280;, score=(train=-2009328190.541, test=-12174327518.099) total time=   2.0s\n",
      "[CV 2/5] END max_features=sqrt, n_estimators=280;, score=(train=-2021572467.259, test=-13910624558.484) total time=   1.8s\n",
      "[CV 3/5] END max_features=sqrt, n_estimators=280;, score=(train=-2046411398.835, test=-14144348102.965) total time=   2.4s\n",
      "[CV 4/5] END max_features=sqrt, n_estimators=280;, score=(train=-1943106994.756, test=-16963388319.032) total time=   2.0s\n",
      "[CV 5/5] END max_features=sqrt, n_estimators=280;, score=(train=-2114119069.311, test=-15256414036.300) total time=   2.0s\n",
      "[CV 1/5] END max_features=sqrt, n_estimators=290;, score=(train=-2088541327.072, test=-12137880020.524) total time=   2.0s\n",
      "[CV 2/5] END max_features=sqrt, n_estimators=290;, score=(train=-2049519222.612, test=-13641977940.735) total time=   2.3s\n",
      "[CV 3/5] END max_features=sqrt, n_estimators=290;, score=(train=-2046388246.220, test=-14294644759.045) total time=   2.1s\n",
      "[CV 4/5] END max_features=sqrt, n_estimators=290;, score=(train=-1942140088.742, test=-16632544224.901) total time=   2.2s\n",
      "[CV 5/5] END max_features=sqrt, n_estimators=290;, score=(train=-2102440520.241, test=-15204154813.678) total time=   1.7s\n",
      "[CV 1/5] END max_features=log2, n_estimators=10;, score=(train=-2893642201.466, test=-13716535497.446) total time=   0.0s\n",
      "[CV 2/5] END max_features=log2, n_estimators=10;, score=(train=-2756538575.460, test=-13996482126.443) total time=   0.0s\n",
      "[CV 3/5] END max_features=log2, n_estimators=10;, score=(train=-2621838925.906, test=-14369538963.059) total time=   0.0s\n",
      "[CV 4/5] END max_features=log2, n_estimators=10;, score=(train=-2629920843.832, test=-16587766314.517) total time=   0.0s\n",
      "[CV 5/5] END max_features=log2, n_estimators=10;, score=(train=-2851725012.653, test=-17237003637.493) total time=   0.0s\n",
      "[CV 1/5] END max_features=log2, n_estimators=20;, score=(train=-2286386110.312, test=-11832497626.594) total time=   0.0s\n",
      "[CV 2/5] END max_features=log2, n_estimators=20;, score=(train=-2594721247.625, test=-14737845433.519) total time=   0.0s\n",
      "[CV 3/5] END max_features=log2, n_estimators=20;, score=(train=-2553394016.049, test=-14629133658.646) total time=   0.0s\n",
      "[CV 4/5] END max_features=log2, n_estimators=20;, score=(train=-2205101050.933, test=-17856680004.975) total time=   0.0s\n",
      "[CV 5/5] END max_features=log2, n_estimators=20;, score=(train=-2433645633.797, test=-14491897261.897) total time=   0.0s\n",
      "[CV 1/5] END max_features=log2, n_estimators=30;, score=(train=-2254450013.977, test=-12018616879.383) total time=   0.1s\n",
      "[CV 2/5] END max_features=log2, n_estimators=30;, score=(train=-2257979246.995, test=-13297348786.250) total time=   0.0s\n",
      "[CV 3/5] END max_features=log2, n_estimators=30;, score=(train=-2154340759.875, test=-14828356880.055) total time=   0.1s\n",
      "[CV 4/5] END max_features=log2, n_estimators=30;, score=(train=-2217323914.511, test=-16907001027.875) total time=   0.0s\n",
      "[CV 5/5] END max_features=log2, n_estimators=30;, score=(train=-2443491483.357, test=-13714839127.654) total time=   0.1s\n",
      "[CV 1/5] END max_features=log2, n_estimators=40;, score=(train=-2193069525.243, test=-12643176435.687) total time=   0.1s\n",
      "[CV 2/5] END max_features=log2, n_estimators=40;, score=(train=-2250859622.097, test=-13370403709.167) total time=   0.1s\n",
      "[CV 3/5] END max_features=log2, n_estimators=40;, score=(train=-2180435553.405, test=-14056680283.776) total time=   0.2s\n",
      "[CV 4/5] END max_features=log2, n_estimators=40;, score=(train=-1979955832.333, test=-16261334023.723) total time=   0.2s\n",
      "[CV 5/5] END max_features=log2, n_estimators=40;, score=(train=-2242798949.549, test=-14504708020.035) total time=   0.1s\n",
      "[CV 1/5] END max_features=log2, n_estimators=50;, score=(train=-2123098433.314, test=-11439815850.007) total time=   0.2s\n",
      "[CV 2/5] END max_features=log2, n_estimators=50;, score=(train=-2036578798.145, test=-13090321811.144) total time=   0.1s\n",
      "[CV 3/5] END max_features=log2, n_estimators=50;, score=(train=-1967082198.950, test=-13726779678.072) total time=   0.2s\n",
      "[CV 4/5] END max_features=log2, n_estimators=50;, score=(train=-1929119968.907, test=-16193117344.051) total time=   0.1s\n",
      "[CV 5/5] END max_features=log2, n_estimators=50;, score=(train=-2080371777.935, test=-15066584609.723) total time=   0.1s\n",
      "[CV 1/5] END max_features=log2, n_estimators=60;, score=(train=-1957255055.951, test=-12065381834.547) total time=   0.2s\n",
      "[CV 2/5] END max_features=log2, n_estimators=60;, score=(train=-2031759903.498, test=-12710124182.461) total time=   0.2s\n",
      "[CV 3/5] END max_features=log2, n_estimators=60;, score=(train=-2087562855.025, test=-13589582673.034) total time=   0.2s\n",
      "[CV 4/5] END max_features=log2, n_estimators=60;, score=(train=-1960511367.687, test=-16164195520.205) total time=   0.2s\n",
      "[CV 5/5] END max_features=log2, n_estimators=60;, score=(train=-2068458533.786, test=-14667378198.839) total time=   0.2s\n",
      "[CV 1/5] END max_features=log2, n_estimators=70;, score=(train=-2082357547.038, test=-11986294121.459) total time=   0.2s\n",
      "[CV 2/5] END max_features=log2, n_estimators=70;, score=(train=-2010142157.881, test=-13168767087.829) total time=   0.3s\n",
      "[CV 3/5] END max_features=log2, n_estimators=70;, score=(train=-2089509715.865, test=-13150022857.205) total time=   0.3s\n",
      "[CV 4/5] END max_features=log2, n_estimators=70;, score=(train=-1933359837.060, test=-15734876667.630) total time=   0.3s\n",
      "[CV 5/5] END max_features=log2, n_estimators=70;, score=(train=-2137073305.374, test=-14668446649.270) total time=   0.3s\n",
      "[CV 1/5] END max_features=log2, n_estimators=80;, score=(train=-2101996153.989, test=-11174658001.754) total time=   0.4s\n",
      "[CV 2/5] END max_features=log2, n_estimators=80;, score=(train=-2028881336.253, test=-13420980571.113) total time=   0.4s\n",
      "[CV 3/5] END max_features=log2, n_estimators=80;, score=(train=-2214086039.253, test=-13905507664.698) total time=   0.3s\n",
      "[CV 4/5] END max_features=log2, n_estimators=80;, score=(train=-1915979829.855, test=-16078699642.288) total time=   0.3s\n",
      "[CV 5/5] END max_features=log2, n_estimators=80;, score=(train=-2118883830.770, test=-14445503230.492) total time=   0.5s\n",
      "[CV 1/5] END max_features=log2, n_estimators=90;, score=(train=-2007167195.197, test=-11836726545.438) total time=   0.6s\n",
      "[CV 2/5] END max_features=log2, n_estimators=90;, score=(train=-2006123202.620, test=-13132757863.611) total time=   0.4s\n",
      "[CV 3/5] END max_features=log2, n_estimators=90;, score=(train=-2082018447.922, test=-13283906811.919) total time=   0.4s\n",
      "[CV 4/5] END max_features=log2, n_estimators=90;, score=(train=-1873700512.393, test=-15844477431.166) total time=   0.5s\n",
      "[CV 5/5] END max_features=log2, n_estimators=90;, score=(train=-2087258364.891, test=-14612272068.862) total time=   0.6s\n",
      "[CV 1/5] END max_features=log2, n_estimators=100;, score=(train=-1978351476.368, test=-11276181607.763) total time=   0.5s\n",
      "[CV 2/5] END max_features=log2, n_estimators=100;, score=(train=-1931686549.200, test=-13698846125.937) total time=   0.5s\n",
      "[CV 3/5] END max_features=log2, n_estimators=100;, score=(train=-2056874638.794, test=-13375212807.019) total time=   0.5s\n",
      "[CV 4/5] END max_features=log2, n_estimators=100;, score=(train=-1902854982.239, test=-16149591593.595) total time=   0.7s\n",
      "[CV 5/5] END max_features=log2, n_estimators=100;, score=(train=-2091569599.225, test=-14651658714.275) total time=   0.5s\n",
      "[CV 1/5] END max_features=log2, n_estimators=110;, score=(train=-2093742710.555, test=-11965647786.742) total time=   0.5s\n",
      "[CV 2/5] END max_features=log2, n_estimators=110;, score=(train=-1940389972.134, test=-12922077069.660) total time=   0.6s\n",
      "[CV 3/5] END max_features=log2, n_estimators=110;, score=(train=-1986567076.923, test=-13429212844.609) total time=   0.7s\n",
      "[CV 4/5] END max_features=log2, n_estimators=110;, score=(train=-1857937539.900, test=-16187893883.740) total time=   0.8s\n",
      "[CV 5/5] END max_features=log2, n_estimators=110;, score=(train=-2089507256.848, test=-15047738471.271) total time=   0.7s\n",
      "[CV 1/5] END max_features=log2, n_estimators=120;, score=(train=-2054463412.116, test=-11482290390.960) total time=   0.7s\n",
      "[CV 2/5] END max_features=log2, n_estimators=120;, score=(train=-1985429629.199, test=-13229650887.322) total time=   0.7s\n",
      "[CV 3/5] END max_features=log2, n_estimators=120;, score=(train=-2025625968.978, test=-13709488436.985) total time=   0.8s\n",
      "[CV 4/5] END max_features=log2, n_estimators=120;, score=(train=-1842107233.678, test=-16352312828.053) total time=   0.6s\n",
      "[CV 5/5] END max_features=log2, n_estimators=120;, score=(train=-2028825492.048, test=-14289254655.517) total time=   0.6s\n",
      "[CV 1/5] END max_features=log2, n_estimators=130;, score=(train=-1976824755.863, test=-11480493293.785) total time=   0.7s\n",
      "[CV 2/5] END max_features=log2, n_estimators=130;, score=(train=-1907831275.267, test=-12866654981.644) total time=   0.7s\n",
      "[CV 3/5] END max_features=log2, n_estimators=130;, score=(train=-2074272537.534, test=-13125811800.106) total time=   0.8s\n",
      "[CV 4/5] END max_features=log2, n_estimators=130;, score=(train=-1856355305.708, test=-15982666679.791) total time=   0.7s\n",
      "[CV 5/5] END max_features=log2, n_estimators=130;, score=(train=-2037638982.874, test=-15105174631.044) total time=   0.7s\n",
      "[CV 1/5] END max_features=log2, n_estimators=140;, score=(train=-1996476208.914, test=-11604731838.889) total time=   0.9s\n",
      "[CV 2/5] END max_features=log2, n_estimators=140;, score=(train=-2007496691.573, test=-12785933246.728) total time=   0.8s\n",
      "[CV 3/5] END max_features=log2, n_estimators=140;, score=(train=-2049519616.694, test=-13318459462.828) total time=   0.7s\n",
      "[CV 4/5] END max_features=log2, n_estimators=140;, score=(train=-1965163311.266, test=-16180002611.857) total time=   0.7s\n",
      "[CV 5/5] END max_features=log2, n_estimators=140;, score=(train=-2026554404.283, test=-14379394762.828) total time=   0.9s\n",
      "[CV 1/5] END max_features=log2, n_estimators=150;, score=(train=-2051129626.890, test=-11734064643.815) total time=   0.8s\n",
      "[CV 2/5] END max_features=log2, n_estimators=150;, score=(train=-1959758885.157, test=-13617080817.709) total time=   0.7s\n",
      "[CV 3/5] END max_features=log2, n_estimators=150;, score=(train=-1929142884.160, test=-13222106711.777) total time=   0.8s\n",
      "[CV 4/5] END max_features=log2, n_estimators=150;, score=(train=-1871220507.705, test=-16236726918.090) total time=   0.9s\n",
      "[CV 5/5] END max_features=log2, n_estimators=150;, score=(train=-1982234811.613, test=-14464019341.177) total time=   0.8s\n",
      "[CV 1/5] END max_features=log2, n_estimators=160;, score=(train=-1972919113.342, test=-11699781788.124) total time=   0.8s\n",
      "[CV 2/5] END max_features=log2, n_estimators=160;, score=(train=-1927286413.354, test=-13039035878.181) total time=   0.9s\n",
      "[CV 3/5] END max_features=log2, n_estimators=160;, score=(train=-1983709146.075, test=-13410871818.244) total time=   1.0s\n",
      "[CV 4/5] END max_features=log2, n_estimators=160;, score=(train=-1859952288.882, test=-16057061394.383) total time=   0.9s\n",
      "[CV 5/5] END max_features=log2, n_estimators=160;, score=(train=-2036574605.452, test=-14174502796.338) total time=   0.8s\n",
      "[CV 1/5] END max_features=log2, n_estimators=170;, score=(train=-2070509442.397, test=-12062561949.698) total time=   0.9s\n",
      "[CV 2/5] END max_features=log2, n_estimators=170;, score=(train=-1942205989.127, test=-13327433334.505) total time=   1.1s\n",
      "[CV 3/5] END max_features=log2, n_estimators=170;, score=(train=-1997767242.033, test=-13639121103.868) total time=   0.9s\n",
      "[CV 4/5] END max_features=log2, n_estimators=170;, score=(train=-1838335963.796, test=-16020232525.898) total time=   0.9s\n",
      "[CV 5/5] END max_features=log2, n_estimators=170;, score=(train=-2025584108.728, test=-14278893591.232) total time=   1.0s\n",
      "[CV 1/5] END max_features=log2, n_estimators=180;, score=(train=-1991269240.780, test=-11496362055.593) total time=   1.1s\n",
      "[CV 2/5] END max_features=log2, n_estimators=180;, score=(train=-1900157935.831, test=-12910544902.680) total time=   1.0s\n",
      "[CV 3/5] END max_features=log2, n_estimators=180;, score=(train=-2004574834.474, test=-13216274898.650) total time=   1.0s\n",
      "[CV 4/5] END max_features=log2, n_estimators=180;, score=(train=-1824923813.802, test=-15971722304.133) total time=   1.2s\n",
      "[CV 5/5] END max_features=log2, n_estimators=180;, score=(train=-2039935998.488, test=-14589625244.733) total time=   1.1s\n",
      "[CV 1/5] END max_features=log2, n_estimators=190;, score=(train=-2057566770.921, test=-11529057194.671) total time=   1.1s\n",
      "[CV 2/5] END max_features=log2, n_estimators=190;, score=(train=-1925948231.768, test=-13031253981.694) total time=   1.1s\n",
      "[CV 3/5] END max_features=log2, n_estimators=190;, score=(train=-1997491303.266, test=-13497190581.073) total time=   1.2s\n",
      "[CV 4/5] END max_features=log2, n_estimators=190;, score=(train=-1864474987.278, test=-16213547847.337) total time=   1.1s\n",
      "[CV 5/5] END max_features=log2, n_estimators=190;, score=(train=-2034290827.735, test=-14432681310.958) total time=   1.0s\n",
      "[CV 1/5] END max_features=log2, n_estimators=200;, score=(train=-1962806807.112, test=-11617060781.657) total time=   1.2s\n",
      "[CV 2/5] END max_features=log2, n_estimators=200;, score=(train=-1996467409.087, test=-13086059226.147) total time=   1.1s\n",
      "[CV 3/5] END max_features=log2, n_estimators=200;, score=(train=-2030875924.757, test=-13527462164.156) total time=   1.0s\n",
      "[CV 4/5] END max_features=log2, n_estimators=200;, score=(train=-1793445581.050, test=-15835327684.688) total time=   1.2s\n",
      "[CV 5/5] END max_features=log2, n_estimators=200;, score=(train=-2014052901.509, test=-14276561314.210) total time=   1.1s\n",
      "[CV 1/5] END max_features=log2, n_estimators=210;, score=(train=-1990581871.647, test=-11796739883.835) total time=   1.2s\n",
      "[CV 2/5] END max_features=log2, n_estimators=210;, score=(train=-1927548894.039, test=-12781084855.912) total time=   1.2s\n",
      "[CV 3/5] END max_features=log2, n_estimators=210;, score=(train=-1998479073.365, test=-13377603800.245) total time=   1.2s\n",
      "[CV 4/5] END max_features=log2, n_estimators=210;, score=(train=-1826862284.862, test=-16031736869.261) total time=   1.2s\n",
      "[CV 5/5] END max_features=log2, n_estimators=210;, score=(train=-2041168454.036, test=-14424214429.556) total time=   1.4s\n",
      "[CV 1/5] END max_features=log2, n_estimators=220;, score=(train=-1939109614.920, test=-11622984231.887) total time=   1.2s\n",
      "[CV 2/5] END max_features=log2, n_estimators=220;, score=(train=-1963563493.987, test=-12829687718.034) total time=   1.2s\n",
      "[CV 3/5] END max_features=log2, n_estimators=220;, score=(train=-1947200882.112, test=-13682289735.465) total time=   1.4s\n",
      "[CV 4/5] END max_features=log2, n_estimators=220;, score=(train=-1846267478.699, test=-16279555536.606) total time=   1.3s\n",
      "[CV 5/5] END max_features=log2, n_estimators=220;, score=(train=-2015784581.344, test=-14384221836.730) total time=   1.4s\n",
      "[CV 1/5] END max_features=log2, n_estimators=230;, score=(train=-1956593837.498, test=-11681062696.473) total time=   1.5s\n",
      "[CV 2/5] END max_features=log2, n_estimators=230;, score=(train=-1961385065.401, test=-13099697983.828) total time=   1.2s\n",
      "[CV 3/5] END max_features=log2, n_estimators=230;, score=(train=-1963353081.276, test=-13338753314.387) total time=   1.3s\n",
      "[CV 4/5] END max_features=log2, n_estimators=230;, score=(train=-1864785781.373, test=-15832613087.784) total time=   1.5s\n",
      "[CV 5/5] END max_features=log2, n_estimators=230;, score=(train=-2031119337.651, test=-14411084260.156) total time=   1.3s\n",
      "[CV 1/5] END max_features=log2, n_estimators=240;, score=(train=-1969288089.776, test=-11805106763.475) total time=   1.4s\n",
      "[CV 2/5] END max_features=log2, n_estimators=240;, score=(train=-1897188992.234, test=-13270781958.046) total time=   1.5s\n",
      "[CV 3/5] END max_features=log2, n_estimators=240;, score=(train=-1962729097.823, test=-13302731224.060) total time=   1.3s\n",
      "[CV 4/5] END max_features=log2, n_estimators=240;, score=(train=-1826549769.954, test=-15892272180.783) total time=   1.3s\n",
      "[CV 5/5] END max_features=log2, n_estimators=240;, score=(train=-2010798766.499, test=-14312516425.809) total time=   1.3s\n",
      "[CV 1/5] END max_features=log2, n_estimators=250;, score=(train=-1964268097.589, test=-11738531591.786) total time=   1.4s\n",
      "[CV 2/5] END max_features=log2, n_estimators=250;, score=(train=-1973952127.725, test=-12890437534.569) total time=   1.6s\n",
      "[CV 3/5] END max_features=log2, n_estimators=250;, score=(train=-1975449202.510, test=-13198470664.178) total time=   1.4s\n",
      "[CV 4/5] END max_features=log2, n_estimators=250;, score=(train=-1821635178.630, test=-16083600503.661) total time=   1.4s\n",
      "[CV 5/5] END max_features=log2, n_estimators=250;, score=(train=-2038779374.315, test=-14096027176.787) total time=   1.6s\n",
      "[CV 1/5] END max_features=log2, n_estimators=260;, score=(train=-1955577728.795, test=-11603785647.748) total time=   1.5s\n",
      "[CV 2/5] END max_features=log2, n_estimators=260;, score=(train=-1907625766.954, test=-12903820183.334) total time=   1.4s\n",
      "[CV 3/5] END max_features=log2, n_estimators=260;, score=(train=-1960625427.863, test=-13518258387.728) total time=   1.7s\n",
      "[CV 4/5] END max_features=log2, n_estimators=260;, score=(train=-1818853900.362, test=-16175528091.171) total time=   1.4s\n",
      "[CV 5/5] END max_features=log2, n_estimators=260;, score=(train=-1999802211.536, test=-14181794638.626) total time=   1.6s\n",
      "[CV 1/5] END max_features=log2, n_estimators=270;, score=(train=-1950181464.270, test=-11669317060.666) total time=   1.7s\n",
      "[CV 2/5] END max_features=log2, n_estimators=270;, score=(train=-1922496369.304, test=-12984038214.854) total time=   1.5s\n",
      "[CV 3/5] END max_features=log2, n_estimators=270;, score=(train=-1970282723.353, test=-13649556800.745) total time=   1.6s\n",
      "[CV 4/5] END max_features=log2, n_estimators=270;, score=(train=-1840804162.063, test=-16065653075.210) total time=   1.7s\n",
      "[CV 5/5] END max_features=log2, n_estimators=270;, score=(train=-2012309365.373, test=-14451616738.580) total time=   1.5s\n",
      "[CV 1/5] END max_features=log2, n_estimators=280;, score=(train=-1924149558.452, test=-11689362600.117) total time=   1.6s\n",
      "[CV 2/5] END max_features=log2, n_estimators=280;, score=(train=-1944071766.425, test=-12974766539.295) total time=   1.7s\n",
      "[CV 3/5] END max_features=log2, n_estimators=280;, score=(train=-1978549895.376, test=-13175949857.426) total time=   1.8s\n",
      "[CV 4/5] END max_features=log2, n_estimators=280;, score=(train=-1830744694.145, test=-16446941633.014) total time=   1.6s\n",
      "[CV 5/5] END max_features=log2, n_estimators=280;, score=(train=-1987738565.801, test=-14197703019.369) total time=   1.7s\n",
      "[CV 1/5] END max_features=log2, n_estimators=290;, score=(train=-1966462623.568, test=-11928925537.564) total time=   1.8s\n",
      "[CV 2/5] END max_features=log2, n_estimators=290;, score=(train=-1852568162.048, test=-13119905085.205) total time=   1.6s\n",
      "[CV 3/5] END max_features=log2, n_estimators=290;, score=(train=-1977884257.616, test=-13388996024.709) total time=   1.7s\n",
      "[CV 4/5] END max_features=log2, n_estimators=290;, score=(train=-1800050269.235, test=-16400327141.574) total time=   1.8s\n",
      "[CV 5/5] END max_features=log2, n_estimators=290;, score=(train=-1974198145.106, test=-14321110651.259) total time=   1.6s\n"
     ]
    },
    {
     "name": "stderr",
     "output_type": "stream",
     "text": [
      "C:\\Users\\amras\\AppData\\Local\\Programs\\Python\\Python311\\Lib\\site-packages\\sklearn\\model_selection\\_validation.py:425: FitFailedWarning: \n",
      "145 fits failed out of a total of 435.\n",
      "The score on these train-test partitions for these parameters will be set to nan.\n",
      "If these failures are not expected, you can try to debug them by setting error_score='raise'.\n",
      "\n",
      "Below are more details about the failures:\n",
      "--------------------------------------------------------------------------------\n",
      "145 fits failed with the following error:\n",
      "Traceback (most recent call last):\n",
      "  File \"C:\\Users\\amras\\AppData\\Local\\Programs\\Python\\Python311\\Lib\\site-packages\\sklearn\\model_selection\\_validation.py\", line 732, in _fit_and_score\n",
      "    estimator.fit(X_train, y_train, **fit_params)\n",
      "  File \"C:\\Users\\amras\\AppData\\Local\\Programs\\Python\\Python311\\Lib\\site-packages\\sklearn\\base.py\", line 1144, in wrapper\n",
      "    estimator._validate_params()\n",
      "  File \"C:\\Users\\amras\\AppData\\Local\\Programs\\Python\\Python311\\Lib\\site-packages\\sklearn\\base.py\", line 637, in _validate_params\n",
      "    validate_parameter_constraints(\n",
      "  File \"C:\\Users\\amras\\AppData\\Local\\Programs\\Python\\Python311\\Lib\\site-packages\\sklearn\\utils\\_param_validation.py\", line 95, in validate_parameter_constraints\n",
      "    raise InvalidParameterError(\n",
      "sklearn.utils._param_validation.InvalidParameterError: The 'max_features' parameter of RandomForestRegressor must be an int in the range [1, inf), a float in the range (0.0, 1.0], a str among {'sqrt', 'log2'} or None. Got 'auto' instead.\n",
      "\n",
      "  warnings.warn(some_fits_failed_message, FitFailedWarning)\n",
      "C:\\Users\\amras\\AppData\\Local\\Programs\\Python\\Python311\\Lib\\site-packages\\sklearn\\model_selection\\_search.py:976: UserWarning: One or more of the test scores are non-finite: [            nan             nan             nan             nan\n",
      "             nan             nan             nan             nan\n",
      "             nan             nan             nan             nan\n",
      "             nan             nan             nan             nan\n",
      "             nan             nan             nan             nan\n",
      "             nan             nan             nan             nan\n",
      "             nan             nan             nan             nan\n",
      "             nan -1.56070606e+10 -1.53326008e+10 -1.49045191e+10\n",
      " -1.45315559e+10 -1.46993390e+10 -1.45014423e+10 -1.46777080e+10\n",
      " -1.49508128e+10 -1.46019339e+10 -1.45251634e+10 -1.45880077e+10\n",
      " -1.43312680e+10 -1.45421507e+10 -1.45109901e+10 -1.44417033e+10\n",
      " -1.43895816e+10 -1.42012790e+10 -1.44534562e+10 -1.44982220e+10\n",
      " -1.43545307e+10 -1.42468948e+10 -1.44984504e+10 -1.44343500e+10\n",
      " -1.44040632e+10 -1.43375153e+10 -1.45614692e+10 -1.44054910e+10\n",
      " -1.44898205e+10 -1.43822404e+10 -1.51814653e+10 -1.47096108e+10\n",
      " -1.41532325e+10 -1.41672605e+10 -1.39033239e+10 -1.38393325e+10\n",
      " -1.37416815e+10 -1.38050698e+10 -1.37420281e+10 -1.38302982e+10\n",
      " -1.39105140e+10 -1.38125994e+10 -1.37121603e+10 -1.36537044e+10\n",
      " -1.38547997e+10 -1.36762507e+10 -1.38656485e+10 -1.36369059e+10\n",
      " -1.37407462e+10 -1.36684942e+10 -1.36822760e+10 -1.37597478e+10\n",
      " -1.36726423e+10 -1.37166817e+10 -1.36014135e+10 -1.36766374e+10\n",
      " -1.37640364e+10 -1.36969447e+10 -1.38318529e+10]\n",
      "  warnings.warn(\n",
      "C:\\Users\\amras\\AppData\\Local\\Programs\\Python\\Python311\\Lib\\site-packages\\sklearn\\model_selection\\_search.py:976: UserWarning: One or more of the train scores are non-finite: [            nan             nan             nan             nan\n",
      "             nan             nan             nan             nan\n",
      "             nan             nan             nan             nan\n",
      "             nan             nan             nan             nan\n",
      "             nan             nan             nan             nan\n",
      "             nan             nan             nan             nan\n",
      "             nan             nan             nan             nan\n",
      "             nan -2.96894614e+09 -2.51395628e+09 -2.29337852e+09\n",
      " -2.15248159e+09 -2.16903200e+09 -2.13628026e+09 -2.14982853e+09\n",
      " -2.12164474e+09 -2.09948528e+09 -2.10146201e+09 -2.09164078e+09\n",
      " -2.06283939e+09 -2.09260379e+09 -2.06282147e+09 -2.09454056e+09\n",
      " -2.06561642e+09 -2.06085980e+09 -2.03451820e+09 -2.03808777e+09\n",
      " -2.04715364e+09 -2.05068237e+09 -2.04490491e+09 -2.03475809e+09\n",
      " -2.03541935e+09 -2.04469668e+09 -2.02301042e+09 -2.04676244e+09\n",
      " -2.02690762e+09 -2.04580588e+09 -2.75073311e+09 -2.41464961e+09\n",
      " -2.26551708e+09 -2.16942390e+09 -2.02725024e+09 -2.02110954e+09\n",
      " -2.05048851e+09 -2.07596544e+09 -2.01125354e+09 -1.99226745e+09\n",
      " -1.99362891e+09 -1.98729035e+09 -1.97058457e+09 -2.00904205e+09\n",
      " -1.95869734e+09 -1.95608831e+09 -1.97488055e+09 -1.95217236e+09\n",
      " -1.97595442e+09 -1.95952972e+09 -1.95692812e+09 -1.94238521e+09\n",
      " -1.95544742e+09 -1.93331094e+09 -1.95481680e+09 -1.92849701e+09\n",
      " -1.93921482e+09 -1.93305090e+09 -1.91423269e+09]\n",
      "  warnings.warn(\n"
     ]
    },
    {
     "name": "stdout",
     "output_type": "stream",
     "text": [
      "{'max_features': 'log2', 'n_estimators': 250}\n"
     ]
    }
   ],
   "source": [
    "# Fine-tune the random forest using GridSearchCV()  model because it seems optimistic\n",
    "params_grid = {'n_estimators':range(10,300,10), 'max_features':('auto','sqrt','log2')}\n",
    "\n",
    "random_forest = RandomForestRegressor()\n",
    "\n",
    "grid_search = GridSearchCV(random_forest,\n",
    "                           params_grid,\n",
    "                           cv=5,\n",
    "                           scoring='neg_mean_squared_error',\n",
    "                           return_train_score=True,\n",
    "                           verbose=3)\n",
    "\n",
    "grid_search.fit(X_train, y_train)\n",
    "print(grid_search.best_params_)"
   ],
   "metadata": {
    "collapsed": false,
    "ExecuteTime": {
     "end_time": "2023-11-07T14:49:07.596212Z",
     "start_time": "2023-11-07T14:44:02.539593300Z"
    }
   },
   "id": "5241346b9ef8225"
  },
  {
   "cell_type": "markdown",
   "source": [
    "Evaluate on the Test Set"
   ],
   "metadata": {
    "collapsed": false
   },
   "id": "b8347e30d671dd81"
  },
  {
   "cell_type": "code",
   "execution_count": 137,
   "outputs": [],
   "source": [
    "final_model = grid_search.best_estimator_\n",
    "\n",
    "final_predictions = final_model.predict(X_test)\n",
    "\n",
    "final_mse = mean_squared_error(y_test, final_predictions)\n",
    "final_rmse = np.sqrt(final_mse)"
   ],
   "metadata": {
    "collapsed": false,
    "ExecuteTime": {
     "end_time": "2023-11-07T14:49:07.649756200Z",
     "start_time": "2023-11-07T14:49:07.602731400Z"
    }
   },
   "id": "b44ed128f25b91ed"
  },
  {
   "cell_type": "code",
   "execution_count": 138,
   "outputs": [
    {
     "data": {
      "text/plain": "112686.28371784648"
     },
     "execution_count": 138,
     "metadata": {},
     "output_type": "execute_result"
    }
   ],
   "source": [
    "final_rmse"
   ],
   "metadata": {
    "collapsed": false,
    "ExecuteTime": {
     "end_time": "2023-11-07T14:49:07.649756200Z",
     "start_time": "2023-11-07T14:49:07.634394500Z"
    }
   },
   "id": "1f9d92087bed4ffa"
  },
  {
   "cell_type": "markdown",
   "source": [
    "Saving the model"
   ],
   "metadata": {
    "collapsed": false
   },
   "id": "52ef0302069295ed"
  },
  {
   "cell_type": "code",
   "execution_count": 139,
   "outputs": [],
   "source": [
    "pickl = {\n",
    "    'model' : final_model\n",
    "}\n",
    "pickle.dump(pickl, open('model_file' + '.p', 'wb'))"
   ],
   "metadata": {
    "collapsed": false,
    "ExecuteTime": {
     "end_time": "2023-11-07T14:49:07.731896100Z",
     "start_time": "2023-11-07T14:49:07.642744500Z"
    }
   },
   "id": "15f2311eecab32f6"
  },
  {
   "cell_type": "code",
   "execution_count": 140,
   "outputs": [
    {
     "data": {
      "text/plain": "RandomForestRegressor(max_features='log2', n_estimators=250)",
      "text/html": "<style>#sk-container-id-2 {color: black;}#sk-container-id-2 pre{padding: 0;}#sk-container-id-2 div.sk-toggleable {background-color: white;}#sk-container-id-2 label.sk-toggleable__label {cursor: pointer;display: block;width: 100%;margin-bottom: 0;padding: 0.3em;box-sizing: border-box;text-align: center;}#sk-container-id-2 label.sk-toggleable__label-arrow:before {content: \"▸\";float: left;margin-right: 0.25em;color: #696969;}#sk-container-id-2 label.sk-toggleable__label-arrow:hover:before {color: black;}#sk-container-id-2 div.sk-estimator:hover label.sk-toggleable__label-arrow:before {color: black;}#sk-container-id-2 div.sk-toggleable__content {max-height: 0;max-width: 0;overflow: hidden;text-align: left;background-color: #f0f8ff;}#sk-container-id-2 div.sk-toggleable__content pre {margin: 0.2em;color: black;border-radius: 0.25em;background-color: #f0f8ff;}#sk-container-id-2 input.sk-toggleable__control:checked~div.sk-toggleable__content {max-height: 200px;max-width: 100%;overflow: auto;}#sk-container-id-2 input.sk-toggleable__control:checked~label.sk-toggleable__label-arrow:before {content: \"▾\";}#sk-container-id-2 div.sk-estimator input.sk-toggleable__control:checked~label.sk-toggleable__label {background-color: #d4ebff;}#sk-container-id-2 div.sk-label input.sk-toggleable__control:checked~label.sk-toggleable__label {background-color: #d4ebff;}#sk-container-id-2 input.sk-hidden--visually {border: 0;clip: rect(1px 1px 1px 1px);clip: rect(1px, 1px, 1px, 1px);height: 1px;margin: -1px;overflow: hidden;padding: 0;position: absolute;width: 1px;}#sk-container-id-2 div.sk-estimator {font-family: monospace;background-color: #f0f8ff;border: 1px dotted black;border-radius: 0.25em;box-sizing: border-box;margin-bottom: 0.5em;}#sk-container-id-2 div.sk-estimator:hover {background-color: #d4ebff;}#sk-container-id-2 div.sk-parallel-item::after {content: \"\";width: 100%;border-bottom: 1px solid gray;flex-grow: 1;}#sk-container-id-2 div.sk-label:hover label.sk-toggleable__label {background-color: #d4ebff;}#sk-container-id-2 div.sk-serial::before {content: \"\";position: absolute;border-left: 1px solid gray;box-sizing: border-box;top: 0;bottom: 0;left: 50%;z-index: 0;}#sk-container-id-2 div.sk-serial {display: flex;flex-direction: column;align-items: center;background-color: white;padding-right: 0.2em;padding-left: 0.2em;position: relative;}#sk-container-id-2 div.sk-item {position: relative;z-index: 1;}#sk-container-id-2 div.sk-parallel {display: flex;align-items: stretch;justify-content: center;background-color: white;position: relative;}#sk-container-id-2 div.sk-item::before, #sk-container-id-2 div.sk-parallel-item::before {content: \"\";position: absolute;border-left: 1px solid gray;box-sizing: border-box;top: 0;bottom: 0;left: 50%;z-index: -1;}#sk-container-id-2 div.sk-parallel-item {display: flex;flex-direction: column;z-index: 1;position: relative;background-color: white;}#sk-container-id-2 div.sk-parallel-item:first-child::after {align-self: flex-end;width: 50%;}#sk-container-id-2 div.sk-parallel-item:last-child::after {align-self: flex-start;width: 50%;}#sk-container-id-2 div.sk-parallel-item:only-child::after {width: 0;}#sk-container-id-2 div.sk-dashed-wrapped {border: 1px dashed gray;margin: 0 0.4em 0.5em 0.4em;box-sizing: border-box;padding-bottom: 0.4em;background-color: white;}#sk-container-id-2 div.sk-label label {font-family: monospace;font-weight: bold;display: inline-block;line-height: 1.2em;}#sk-container-id-2 div.sk-label-container {text-align: center;}#sk-container-id-2 div.sk-container {/* jupyter's `normalize.less` sets `[hidden] { display: none; }` but bootstrap.min.css set `[hidden] { display: none !important; }` so we also need the `!important` here to be able to override the default hidden behavior on the sphinx rendered scikit-learn.org. See: https://github.com/scikit-learn/scikit-learn/issues/21755 */display: inline-block !important;position: relative;}#sk-container-id-2 div.sk-text-repr-fallback {display: none;}</style><div id=\"sk-container-id-2\" class=\"sk-top-container\"><div class=\"sk-text-repr-fallback\"><pre>RandomForestRegressor(max_features=&#x27;log2&#x27;, n_estimators=250)</pre><b>In a Jupyter environment, please rerun this cell to show the HTML representation or trust the notebook. <br />On GitHub, the HTML representation is unable to render, please try loading this page with nbviewer.org.</b></div><div class=\"sk-container\" hidden><div class=\"sk-item\"><div class=\"sk-estimator sk-toggleable\"><input class=\"sk-toggleable__control sk-hidden--visually\" id=\"sk-estimator-id-2\" type=\"checkbox\" checked><label for=\"sk-estimator-id-2\" class=\"sk-toggleable__label sk-toggleable__label-arrow\">RandomForestRegressor</label><div class=\"sk-toggleable__content\"><pre>RandomForestRegressor(max_features=&#x27;log2&#x27;, n_estimators=250)</pre></div></div></div></div></div>"
     },
     "execution_count": 140,
     "metadata": {},
     "output_type": "execute_result"
    }
   ],
   "source": [
    "file_name = 'model_file.p'\n",
    "with open(file_name, 'rb') as pickled:\n",
    "    data = pickle.load(pickled)\n",
    "    model = data['model']\n",
    "model"
   ],
   "metadata": {
    "collapsed": false,
    "ExecuteTime": {
     "end_time": "2023-11-07T14:49:07.792994700Z",
     "start_time": "2023-11-07T14:49:07.731896100Z"
    }
   },
   "id": "406cf7526dd40428"
  },
  {
   "cell_type": "markdown",
   "source": [
    "Make some prediction"
   ],
   "metadata": {
    "collapsed": false
   },
   "id": "f3c9c2cc07392481"
  },
  {
   "cell_type": "code",
   "execution_count": 141,
   "outputs": [],
   "source": [
    "# Getting the mean of the condominium fees of each neighborhood\n",
    "means = df.groupby('neighborhood')['condominium fees'].mean()\n",
    "\n",
    "# Function to predict the prices\n",
    "def price_prediction(number_rooms,area_m2,bathrooms, neighborhood):    \n",
    "    loc_index = np.where(df_prepared.columns == neighborhood.capitalize())[0][0] # To get the column number for the corresponding neighborhood\n",
    "\n",
    "    x = np.zeros(len(df_prepared.columns)) # To make a zero-array with the same length as the number of columns\n",
    "    x[0] = number_rooms\n",
    "    x[1] = area_m2\n",
    "    x[2] = bathrooms\n",
    "    x[3] = means[neighborhood.capitalize()] # fill the condominium fees with the average value of each neighborhood\n",
    "    if loc_index >= 0:\n",
    "        x[loc_index] = 1\n",
    "\n",
    "    return model.predict([x])[0]"
   ],
   "metadata": {
    "collapsed": false,
    "ExecuteTime": {
     "end_time": "2023-11-07T14:49:07.792994700Z",
     "start_time": "2023-11-07T14:49:07.791535Z"
    }
   },
   "id": "c90c5a7ad1e1fc6"
  },
  {
   "cell_type": "code",
   "execution_count": 144,
   "outputs": [
    {
     "name": "stderr",
     "output_type": "stream",
     "text": [
      "C:\\Users\\amras\\AppData\\Local\\Programs\\Python\\Python311\\Lib\\site-packages\\sklearn\\base.py:464: UserWarning: X does not have valid feature names, but RandomForestRegressor was fitted with feature names\n",
      "  warnings.warn(\n"
     ]
    },
    {
     "data": {
      "text/plain": "785973.6"
     },
     "execution_count": 144,
     "metadata": {},
     "output_type": "execute_result"
    }
   ],
   "source": [
    "price_prediction(3, 250, 2, 'duomo')"
   ],
   "metadata": {
    "collapsed": false,
    "ExecuteTime": {
     "end_time": "2023-11-07T14:49:32.109042900Z",
     "start_time": "2023-11-07T14:49:32.061765700Z"
    }
   },
   "id": "e35aff50d6ce9c88"
  }
 ],
 "metadata": {
  "kernelspec": {
   "display_name": "Python 3",
   "language": "python",
   "name": "python3"
  },
  "language_info": {
   "codemirror_mode": {
    "name": "ipython",
    "version": 2
   },
   "file_extension": ".py",
   "mimetype": "text/x-python",
   "name": "python",
   "nbconvert_exporter": "python",
   "pygments_lexer": "ipython2",
   "version": "2.7.6"
  }
 },
 "nbformat": 4,
 "nbformat_minor": 5
}
